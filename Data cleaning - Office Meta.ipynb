{
 "cells": [
  {
   "cell_type": "code",
   "execution_count": 1,
   "id": "c8e4d1d4",
   "metadata": {},
   "outputs": [],
   "source": [
    "from datetime import datetime\n",
    "import re \n",
    "import numpy as np\n",
    "import pandas as pd\n",
    "import gzip\n",
    "import json \n",
    "\n",
    "def parse(path):\n",
    "    g = gzip.open(path, 'rb')\n",
    "    for l in g:\n",
    "        yield json.loads(l)\n",
    "\n",
    "def getDF(path):\n",
    "    i = 0\n",
    "    df = {}\n",
    "    for d in parse(path):\n",
    "        df[i] = d\n",
    "        i += 1\n",
    "    return pd.DataFrame.from_dict(df, orient='index')"
   ]
  },
  {
   "cell_type": "code",
   "execution_count": 2,
   "id": "4ca8c9b5",
   "metadata": {
    "scrolled": true
   },
   "outputs": [
    {
     "data": {
      "text/html": [
       "<div>\n",
       "<style scoped>\n",
       "    .dataframe tbody tr th:only-of-type {\n",
       "        vertical-align: middle;\n",
       "    }\n",
       "\n",
       "    .dataframe tbody tr th {\n",
       "        vertical-align: top;\n",
       "    }\n",
       "\n",
       "    .dataframe thead th {\n",
       "        text-align: right;\n",
       "    }\n",
       "</style>\n",
       "<table border=\"1\" class=\"dataframe\">\n",
       "  <thead>\n",
       "    <tr style=\"text-align: right;\">\n",
       "      <th></th>\n",
       "      <th>category</th>\n",
       "      <th>tech1</th>\n",
       "      <th>description</th>\n",
       "      <th>fit</th>\n",
       "      <th>title</th>\n",
       "      <th>also_buy</th>\n",
       "      <th>tech2</th>\n",
       "      <th>brand</th>\n",
       "      <th>feature</th>\n",
       "      <th>rank</th>\n",
       "      <th>also_view</th>\n",
       "      <th>main_cat</th>\n",
       "      <th>similar_item</th>\n",
       "      <th>date</th>\n",
       "      <th>price</th>\n",
       "      <th>asin</th>\n",
       "      <th>imageURL</th>\n",
       "      <th>imageURLHighRes</th>\n",
       "      <th>details</th>\n",
       "    </tr>\n",
       "  </thead>\n",
       "  <tbody>\n",
       "    <tr>\n",
       "      <th>0</th>\n",
       "      <td>[Office Products, Office &amp; School Supplies, Ed...</td>\n",
       "      <td>class=\"a-keyvalue prodDetTable\" role=\"present...</td>\n",
       "      <td>[Sequential Spelling is based on the classic O...</td>\n",
       "      <td></td>\n",
       "      <td>Sequential Spelling Level 1 Bundle with Studen...</td>\n",
       "      <td>[]</td>\n",
       "      <td></td>\n",
       "      <td>STL Distributors</td>\n",
       "      <td>[]</td>\n",
       "      <td>[&gt;#439,654 in Office Products (See top 100), &gt;...</td>\n",
       "      <td>[1935943065, 1935943073, B00IJH9Q4M, 002115021...</td>\n",
       "      <td>Office Products</td>\n",
       "      <td>class=\"a-bordered a-horizontal-stripes  a-spa...</td>\n",
       "      <td>August 15, 2014</td>\n",
       "      <td>$32.90</td>\n",
       "      <td>0012624861</td>\n",
       "      <td>[]</td>\n",
       "      <td>[]</td>\n",
       "      <td>NaN</td>\n",
       "    </tr>\n",
       "    <tr>\n",
       "      <th>1</th>\n",
       "      <td>[Office Products, Office &amp;amp; School Supplies...</td>\n",
       "      <td></td>\n",
       "      <td>[Unusual book, , ]</td>\n",
       "      <td></td>\n",
       "      <td>Mathematics, Applications and Concepts, Course...</td>\n",
       "      <td>[]</td>\n",
       "      <td></td>\n",
       "      <td>bailey</td>\n",
       "      <td>[]</td>\n",
       "      <td>3,839,628 in Books (</td>\n",
       "      <td>[]</td>\n",
       "      <td>Books</td>\n",
       "      <td></td>\n",
       "      <td></td>\n",
       "      <td>$8.62</td>\n",
       "      <td>0078652669</td>\n",
       "      <td>[]</td>\n",
       "      <td>[]</td>\n",
       "      <td>NaN</td>\n",
       "    </tr>\n",
       "    <tr>\n",
       "      <th>2</th>\n",
       "      <td>[]</td>\n",
       "      <td>class=\"a-keyvalue prodDetTable\" role=\"present...</td>\n",
       "      <td>[Pearson MyHistoryLab Online Access Code for A...</td>\n",
       "      <td></td>\n",
       "      <td>Pearson MyHistoryLab Online Access Code for Am...</td>\n",
       "      <td>[]</td>\n",
       "      <td></td>\n",
       "      <td>Pearson MyHistoryLab</td>\n",
       "      <td>[Pearson MyHistoryLab Online Access Code for A...</td>\n",
       "      <td>[&gt;#1,925,354 in Office Products (See top 100)]</td>\n",
       "      <td>[]</td>\n",
       "      <td>Office Products</td>\n",
       "      <td></td>\n",
       "      <td>June 21, 2012</td>\n",
       "      <td>$0.99</td>\n",
       "      <td>0136039847</td>\n",
       "      <td>[]</td>\n",
       "      <td>[]</td>\n",
       "      <td>NaN</td>\n",
       "    </tr>\n",
       "    <tr>\n",
       "      <th>3</th>\n",
       "      <td>[Office Products, Office &amp; School Supplies, Ed...</td>\n",
       "      <td>class=\"a-keyvalue prodDetTable\" role=\"present...</td>\n",
       "      <td>[Corduroy the bear goes to the launderette wit...</td>\n",
       "      <td></td>\n",
       "      <td>A Pocket for Corduroy</td>\n",
       "      <td>[0140501738, 0448421917, 0670063428, 042528875...</td>\n",
       "      <td></td>\n",
       "      <td>Ingram Book &amp; Distributor</td>\n",
       "      <td>[9780140503524]</td>\n",
       "      <td>[&gt;#422,894 in Office Products (See top 100), &gt;...</td>\n",
       "      <td>[0140501738]</td>\n",
       "      <td>Office Products</td>\n",
       "      <td></td>\n",
       "      <td>September 14, 2006</td>\n",
       "      <td>$0.95</td>\n",
       "      <td>0140503528</td>\n",
       "      <td>[]</td>\n",
       "      <td>[]</td>\n",
       "      <td>NaN</td>\n",
       "    </tr>\n",
       "    <tr>\n",
       "      <th>4</th>\n",
       "      <td>[Office Products, Office &amp; School Supplies, Ed...</td>\n",
       "      <td></td>\n",
       "      <td>[&lt;div class=\"aplus\"&gt; &lt;div class=\"leftImage\" st...</td>\n",
       "      <td></td>\n",
       "      <td>Social Entrepreneurship: What Everyone Needs t...</td>\n",
       "      <td>[0195334760, 1613630328, 1422104060, 158648956...</td>\n",
       "      <td></td>\n",
       "      <td>Visit Amazon's David Bornstein Page</td>\n",
       "      <td>[]</td>\n",
       "      <td>110,732 in Books (</td>\n",
       "      <td>[0195334760, 1586489569, 1613630328, 142210406...</td>\n",
       "      <td>Books</td>\n",
       "      <td></td>\n",
       "      <td></td>\n",
       "      <td></td>\n",
       "      <td>0195396332</td>\n",
       "      <td>[]</td>\n",
       "      <td>[]</td>\n",
       "      <td>NaN</td>\n",
       "    </tr>\n",
       "    <tr>\n",
       "      <th>...</th>\n",
       "      <td>...</td>\n",
       "      <td>...</td>\n",
       "      <td>...</td>\n",
       "      <td>...</td>\n",
       "      <td>...</td>\n",
       "      <td>...</td>\n",
       "      <td>...</td>\n",
       "      <td>...</td>\n",
       "      <td>...</td>\n",
       "      <td>...</td>\n",
       "      <td>...</td>\n",
       "      <td>...</td>\n",
       "      <td>...</td>\n",
       "      <td>...</td>\n",
       "      <td>...</td>\n",
       "      <td>...</td>\n",
       "      <td>...</td>\n",
       "      <td>...</td>\n",
       "      <td>...</td>\n",
       "    </tr>\n",
       "    <tr>\n",
       "      <th>315453</th>\n",
       "      <td>[Office Products, Office &amp; School Supplies, La...</td>\n",
       "      <td>class=\"a-keyvalue prodDetTable\" role=\"present...</td>\n",
       "      <td>[Let everyone know just how much you love Supe...</td>\n",
       "      <td></td>\n",
       "      <td>Nintendo Super Mario Bros. Lanyard with Mario ...</td>\n",
       "      <td>[]</td>\n",
       "      <td></td>\n",
       "      <td>Nintendo</td>\n",
       "      <td>[Let everyone know just how much you love Supe...</td>\n",
       "      <td>[&gt;#439,112 in Automotive (See top 100), &gt;#1,38...</td>\n",
       "      <td>[B01BF122TY, B06XGMZ2NT, B01MRXB87Q, B019SLVB9...</td>\n",
       "      <td>Automotive</td>\n",
       "      <td>class=\"a-bordered a-horizontal-stripes  a-spa...</td>\n",
       "      <td>July 31, 2016</td>\n",
       "      <td>$8.00</td>\n",
       "      <td>B01HJF4C66</td>\n",
       "      <td>[https://images-na.ssl-images-amazon.com/image...</td>\n",
       "      <td>[https://images-na.ssl-images-amazon.com/image...</td>\n",
       "      <td>{}</td>\n",
       "    </tr>\n",
       "    <tr>\n",
       "      <th>315454</th>\n",
       "      <td>[Office Products, Office &amp; School Supplies, Fo...</td>\n",
       "      <td>class=\"a-keyvalue prodDetTable\" role=\"present...</td>\n",
       "      <td>[]</td>\n",
       "      <td></td>\n",
       "      <td>Lot of 2 - US American Flag &amp;amp; Eagle US Pat...</td>\n",
       "      <td>[B01K452Y5E, B00LMB1YQ0, B018EH7DZU, B01EHJG9M...</td>\n",
       "      <td></td>\n",
       "      <td>NYKC</td>\n",
       "      <td>[American Flag &amp; Eagle Patriotic Medal Keychai...</td>\n",
       "      <td>[&gt;#408,194 in Office Products (See top 100), &gt;...</td>\n",
       "      <td>[B00LMB1YQ0, B01BCO7ID4, B01JO8H8NA, B00G5WZLK...</td>\n",
       "      <td>Office Products</td>\n",
       "      <td>class=\"a-bordered a-horizontal-stripes  a-spa...</td>\n",
       "      <td>June 25, 2016</td>\n",
       "      <td>$4.99</td>\n",
       "      <td>B01HJF5WZQ</td>\n",
       "      <td>[]</td>\n",
       "      <td>[]</td>\n",
       "      <td>{}</td>\n",
       "    </tr>\n",
       "    <tr>\n",
       "      <th>315455</th>\n",
       "      <td>[Office Products, Office &amp; School Supplies, De...</td>\n",
       "      <td>class=\"a-keyvalue prodDetTable\" role=\"present...</td>\n",
       "      <td>[*STYLISH DESIGNED: Great looking high quality...</td>\n",
       "      <td></td>\n",
       "      <td>CatchTheWave Natural Wood Pen Holder Folding S...</td>\n",
       "      <td>[B00M0FACO2, B000J3X9VU]</td>\n",
       "      <td></td>\n",
       "      <td>CatchTheWave</td>\n",
       "      <td>[NO MORE LOST PENS - EASY TO FIND! Fixed place...</td>\n",
       "      <td>[&gt;#307,901 in Office Products (See top 100), &gt;...</td>\n",
       "      <td>[B07C6T4HQ1, B01J6DNIBO, B00QX6SEJO, B076Q65VP...</td>\n",
       "      <td>Office Products</td>\n",
       "      <td>class=\"a-bordered a-horizontal-stripes  a-spa...</td>\n",
       "      <td>June 25, 2016</td>\n",
       "      <td></td>\n",
       "      <td>B01HJF6JIA</td>\n",
       "      <td>[https://images-na.ssl-images-amazon.com/image...</td>\n",
       "      <td>[https://images-na.ssl-images-amazon.com/image...</td>\n",
       "      <td>{}</td>\n",
       "    </tr>\n",
       "    <tr>\n",
       "      <th>315456</th>\n",
       "      <td>[]</td>\n",
       "      <td>class=\"a-keyvalue prodDetTable\" role=\"present...</td>\n",
       "      <td>[]</td>\n",
       "      <td></td>\n",
       "      <td>1pcs / Set Fashion Cartoon Blue Toy Story Phon...</td>\n",
       "      <td>[]</td>\n",
       "      <td></td>\n",
       "      <td>Lanyard</td>\n",
       "      <td>[]</td>\n",
       "      <td>[&gt;#749,930 in Office Products (See top 100)]</td>\n",
       "      <td>[]</td>\n",
       "      <td>Office Products</td>\n",
       "      <td></td>\n",
       "      <td>July 15, 2016</td>\n",
       "      <td></td>\n",
       "      <td>B01HJFOEQ4</td>\n",
       "      <td>[https://images-na.ssl-images-amazon.com/image...</td>\n",
       "      <td>[https://images-na.ssl-images-amazon.com/image...</td>\n",
       "      <td>{}</td>\n",
       "    </tr>\n",
       "    <tr>\n",
       "      <th>315457</th>\n",
       "      <td>[Office Products, Office &amp; School Supplies, Wr...</td>\n",
       "      <td>class=\"a-keyvalue prodDetTable\" role=\"present...</td>\n",
       "      <td>[FULL TRANSPARENT DEMONTRATOR PEN light weight...</td>\n",
       "      <td></td>\n",
       "      <td>( PACK OF 5 ) FELLOWSHIP Full Transparent Desi...</td>\n",
       "      <td>[]</td>\n",
       "      <td></td>\n",
       "      <td>SRPC</td>\n",
       "      <td>[Body Material: PLASTIC, SMOOTH WRITING FOUNTA...</td>\n",
       "      <td>[&gt;#1,191,960 in Office Products (See top 100),...</td>\n",
       "      <td>[]</td>\n",
       "      <td>Office Products</td>\n",
       "      <td></td>\n",
       "      <td>October 3, 2016</td>\n",
       "      <td></td>\n",
       "      <td>B01HJFPBLG</td>\n",
       "      <td>[https://images-na.ssl-images-amazon.com/image...</td>\n",
       "      <td>[https://images-na.ssl-images-amazon.com/image...</td>\n",
       "      <td>{}</td>\n",
       "    </tr>\n",
       "  </tbody>\n",
       "</table>\n",
       "<p>315458 rows × 19 columns</p>\n",
       "</div>"
      ],
      "text/plain": [
       "                                                 category  \\\n",
       "0       [Office Products, Office & School Supplies, Ed...   \n",
       "1       [Office Products, Office &amp; School Supplies...   \n",
       "2                                                      []   \n",
       "3       [Office Products, Office & School Supplies, Ed...   \n",
       "4       [Office Products, Office & School Supplies, Ed...   \n",
       "...                                                   ...   \n",
       "315453  [Office Products, Office & School Supplies, La...   \n",
       "315454  [Office Products, Office & School Supplies, Fo...   \n",
       "315455  [Office Products, Office & School Supplies, De...   \n",
       "315456                                                 []   \n",
       "315457  [Office Products, Office & School Supplies, Wr...   \n",
       "\n",
       "                                                    tech1  \\\n",
       "0        class=\"a-keyvalue prodDetTable\" role=\"present...   \n",
       "1                                                           \n",
       "2        class=\"a-keyvalue prodDetTable\" role=\"present...   \n",
       "3        class=\"a-keyvalue prodDetTable\" role=\"present...   \n",
       "4                                                           \n",
       "...                                                   ...   \n",
       "315453   class=\"a-keyvalue prodDetTable\" role=\"present...   \n",
       "315454   class=\"a-keyvalue prodDetTable\" role=\"present...   \n",
       "315455   class=\"a-keyvalue prodDetTable\" role=\"present...   \n",
       "315456   class=\"a-keyvalue prodDetTable\" role=\"present...   \n",
       "315457   class=\"a-keyvalue prodDetTable\" role=\"present...   \n",
       "\n",
       "                                              description fit  \\\n",
       "0       [Sequential Spelling is based on the classic O...       \n",
       "1                                      [Unusual book, , ]       \n",
       "2       [Pearson MyHistoryLab Online Access Code for A...       \n",
       "3       [Corduroy the bear goes to the launderette wit...       \n",
       "4       [<div class=\"aplus\"> <div class=\"leftImage\" st...       \n",
       "...                                                   ...  ..   \n",
       "315453  [Let everyone know just how much you love Supe...       \n",
       "315454                                                 []       \n",
       "315455  [*STYLISH DESIGNED: Great looking high quality...       \n",
       "315456                                                 []       \n",
       "315457  [FULL TRANSPARENT DEMONTRATOR PEN light weight...       \n",
       "\n",
       "                                                    title  \\\n",
       "0       Sequential Spelling Level 1 Bundle with Studen...   \n",
       "1       Mathematics, Applications and Concepts, Course...   \n",
       "2       Pearson MyHistoryLab Online Access Code for Am...   \n",
       "3                                   A Pocket for Corduroy   \n",
       "4       Social Entrepreneurship: What Everyone Needs t...   \n",
       "...                                                   ...   \n",
       "315453  Nintendo Super Mario Bros. Lanyard with Mario ...   \n",
       "315454  Lot of 2 - US American Flag &amp; Eagle US Pat...   \n",
       "315455  CatchTheWave Natural Wood Pen Holder Folding S...   \n",
       "315456  1pcs / Set Fashion Cartoon Blue Toy Story Phon...   \n",
       "315457  ( PACK OF 5 ) FELLOWSHIP Full Transparent Desi...   \n",
       "\n",
       "                                                 also_buy tech2  \\\n",
       "0                                                      []         \n",
       "1                                                      []         \n",
       "2                                                      []         \n",
       "3       [0140501738, 0448421917, 0670063428, 042528875...         \n",
       "4       [0195334760, 1613630328, 1422104060, 158648956...         \n",
       "...                                                   ...   ...   \n",
       "315453                                                 []         \n",
       "315454  [B01K452Y5E, B00LMB1YQ0, B018EH7DZU, B01EHJG9M...         \n",
       "315455                           [B00M0FACO2, B000J3X9VU]         \n",
       "315456                                                 []         \n",
       "315457                                                 []         \n",
       "\n",
       "                                      brand  \\\n",
       "0                          STL Distributors   \n",
       "1                                    bailey   \n",
       "2                      Pearson MyHistoryLab   \n",
       "3                 Ingram Book & Distributor   \n",
       "4       Visit Amazon's David Bornstein Page   \n",
       "...                                     ...   \n",
       "315453                             Nintendo   \n",
       "315454                                 NYKC   \n",
       "315455                         CatchTheWave   \n",
       "315456                              Lanyard   \n",
       "315457                                 SRPC   \n",
       "\n",
       "                                                  feature  \\\n",
       "0                                                      []   \n",
       "1                                                      []   \n",
       "2       [Pearson MyHistoryLab Online Access Code for A...   \n",
       "3                                         [9780140503524]   \n",
       "4                                                      []   \n",
       "...                                                   ...   \n",
       "315453  [Let everyone know just how much you love Supe...   \n",
       "315454  [American Flag & Eagle Patriotic Medal Keychai...   \n",
       "315455  [NO MORE LOST PENS - EASY TO FIND! Fixed place...   \n",
       "315456                                                 []   \n",
       "315457  [Body Material: PLASTIC, SMOOTH WRITING FOUNTA...   \n",
       "\n",
       "                                                     rank  \\\n",
       "0       [>#439,654 in Office Products (See top 100), >...   \n",
       "1                                    3,839,628 in Books (   \n",
       "2          [>#1,925,354 in Office Products (See top 100)]   \n",
       "3       [>#422,894 in Office Products (See top 100), >...   \n",
       "4                                      110,732 in Books (   \n",
       "...                                                   ...   \n",
       "315453  [>#439,112 in Automotive (See top 100), >#1,38...   \n",
       "315454  [>#408,194 in Office Products (See top 100), >...   \n",
       "315455  [>#307,901 in Office Products (See top 100), >...   \n",
       "315456       [>#749,930 in Office Products (See top 100)]   \n",
       "315457  [>#1,191,960 in Office Products (See top 100),...   \n",
       "\n",
       "                                                also_view         main_cat  \\\n",
       "0       [1935943065, 1935943073, B00IJH9Q4M, 002115021...  Office Products   \n",
       "1                                                      []            Books   \n",
       "2                                                      []  Office Products   \n",
       "3                                            [0140501738]  Office Products   \n",
       "4       [0195334760, 1586489569, 1613630328, 142210406...            Books   \n",
       "...                                                   ...              ...   \n",
       "315453  [B01BF122TY, B06XGMZ2NT, B01MRXB87Q, B019SLVB9...       Automotive   \n",
       "315454  [B00LMB1YQ0, B01BCO7ID4, B01JO8H8NA, B00G5WZLK...  Office Products   \n",
       "315455  [B07C6T4HQ1, B01J6DNIBO, B00QX6SEJO, B076Q65VP...  Office Products   \n",
       "315456                                                 []  Office Products   \n",
       "315457                                                 []  Office Products   \n",
       "\n",
       "                                             similar_item                date  \\\n",
       "0        class=\"a-bordered a-horizontal-stripes  a-spa...     August 15, 2014   \n",
       "1                                                                               \n",
       "2                                                               June 21, 2012   \n",
       "3                                                          September 14, 2006   \n",
       "4                                                                               \n",
       "...                                                   ...                 ...   \n",
       "315453   class=\"a-bordered a-horizontal-stripes  a-spa...       July 31, 2016   \n",
       "315454   class=\"a-bordered a-horizontal-stripes  a-spa...       June 25, 2016   \n",
       "315455   class=\"a-bordered a-horizontal-stripes  a-spa...       June 25, 2016   \n",
       "315456                                                          July 15, 2016   \n",
       "315457                                                        October 3, 2016   \n",
       "\n",
       "         price        asin                                           imageURL  \\\n",
       "0       $32.90  0012624861                                                 []   \n",
       "1        $8.62  0078652669                                                 []   \n",
       "2        $0.99  0136039847                                                 []   \n",
       "3        $0.95  0140503528                                                 []   \n",
       "4               0195396332                                                 []   \n",
       "...        ...         ...                                                ...   \n",
       "315453   $8.00  B01HJF4C66  [https://images-na.ssl-images-amazon.com/image...   \n",
       "315454   $4.99  B01HJF5WZQ                                                 []   \n",
       "315455          B01HJF6JIA  [https://images-na.ssl-images-amazon.com/image...   \n",
       "315456          B01HJFOEQ4  [https://images-na.ssl-images-amazon.com/image...   \n",
       "315457          B01HJFPBLG  [https://images-na.ssl-images-amazon.com/image...   \n",
       "\n",
       "                                          imageURLHighRes details  \n",
       "0                                                      []     NaN  \n",
       "1                                                      []     NaN  \n",
       "2                                                      []     NaN  \n",
       "3                                                      []     NaN  \n",
       "4                                                      []     NaN  \n",
       "...                                                   ...     ...  \n",
       "315453  [https://images-na.ssl-images-amazon.com/image...      {}  \n",
       "315454                                                 []      {}  \n",
       "315455  [https://images-na.ssl-images-amazon.com/image...      {}  \n",
       "315456  [https://images-na.ssl-images-amazon.com/image...      {}  \n",
       "315457  [https://images-na.ssl-images-amazon.com/image...      {}  \n",
       "\n",
       "[315458 rows x 19 columns]"
      ]
     },
     "execution_count": 2,
     "metadata": {},
     "output_type": "execute_result"
    }
   ],
   "source": [
    "off_meta_data = getDF(\"A:/NIIT/Project - Amazon Reviews/meta_Office_Products.json.gz\")\n",
    "off_meta_data"
   ]
  },
  {
   "cell_type": "code",
   "execution_count": 3,
   "id": "809de0cc",
   "metadata": {},
   "outputs": [],
   "source": [
    "off_meta = off_meta_data.copy()"
   ]
  },
  {
   "cell_type": "code",
   "execution_count": 4,
   "id": "79ec3c4d",
   "metadata": {},
   "outputs": [],
   "source": [
    "off_meta.drop(['tech1','fit','tech2','imageURL','date','imageURLHighRes','description','similar_item','feature'], axis = 1, inplace = True)"
   ]
  },
  {
   "cell_type": "code",
   "execution_count": 5,
   "id": "f2eca7c2",
   "metadata": {},
   "outputs": [
    {
     "data": {
      "text/html": [
       "<div>\n",
       "<style scoped>\n",
       "    .dataframe tbody tr th:only-of-type {\n",
       "        vertical-align: middle;\n",
       "    }\n",
       "\n",
       "    .dataframe tbody tr th {\n",
       "        vertical-align: top;\n",
       "    }\n",
       "\n",
       "    .dataframe thead th {\n",
       "        text-align: right;\n",
       "    }\n",
       "</style>\n",
       "<table border=\"1\" class=\"dataframe\">\n",
       "  <thead>\n",
       "    <tr style=\"text-align: right;\">\n",
       "      <th></th>\n",
       "      <th>category</th>\n",
       "      <th>title</th>\n",
       "      <th>also_buy</th>\n",
       "      <th>brand</th>\n",
       "      <th>rank</th>\n",
       "      <th>also_view</th>\n",
       "      <th>main_cat</th>\n",
       "      <th>price</th>\n",
       "      <th>asin</th>\n",
       "      <th>details</th>\n",
       "    </tr>\n",
       "  </thead>\n",
       "  <tbody>\n",
       "    <tr>\n",
       "      <th>0</th>\n",
       "      <td>[Office Products, Office &amp; School Supplies, Ed...</td>\n",
       "      <td>Sequential Spelling Level 1 Bundle with Studen...</td>\n",
       "      <td>[]</td>\n",
       "      <td>STL Distributors</td>\n",
       "      <td>[&gt;#439,654 in Office Products (See top 100), &gt;...</td>\n",
       "      <td>[1935943065, 1935943073, B00IJH9Q4M, 002115021...</td>\n",
       "      <td>Office Products</td>\n",
       "      <td>$32.90</td>\n",
       "      <td>0012624861</td>\n",
       "      <td>NaN</td>\n",
       "    </tr>\n",
       "    <tr>\n",
       "      <th>1</th>\n",
       "      <td>[Office Products, Office &amp;amp; School Supplies...</td>\n",
       "      <td>Mathematics, Applications and Concepts, Course...</td>\n",
       "      <td>[]</td>\n",
       "      <td>bailey</td>\n",
       "      <td>3,839,628 in Books (</td>\n",
       "      <td>[]</td>\n",
       "      <td>Books</td>\n",
       "      <td>$8.62</td>\n",
       "      <td>0078652669</td>\n",
       "      <td>NaN</td>\n",
       "    </tr>\n",
       "    <tr>\n",
       "      <th>2</th>\n",
       "      <td>[]</td>\n",
       "      <td>Pearson MyHistoryLab Online Access Code for Am...</td>\n",
       "      <td>[]</td>\n",
       "      <td>Pearson MyHistoryLab</td>\n",
       "      <td>[&gt;#1,925,354 in Office Products (See top 100)]</td>\n",
       "      <td>[]</td>\n",
       "      <td>Office Products</td>\n",
       "      <td>$0.99</td>\n",
       "      <td>0136039847</td>\n",
       "      <td>NaN</td>\n",
       "    </tr>\n",
       "    <tr>\n",
       "      <th>3</th>\n",
       "      <td>[Office Products, Office &amp; School Supplies, Ed...</td>\n",
       "      <td>A Pocket for Corduroy</td>\n",
       "      <td>[0140501738, 0448421917, 0670063428, 042528875...</td>\n",
       "      <td>Ingram Book &amp; Distributor</td>\n",
       "      <td>[&gt;#422,894 in Office Products (See top 100), &gt;...</td>\n",
       "      <td>[0140501738]</td>\n",
       "      <td>Office Products</td>\n",
       "      <td>$0.95</td>\n",
       "      <td>0140503528</td>\n",
       "      <td>NaN</td>\n",
       "    </tr>\n",
       "    <tr>\n",
       "      <th>4</th>\n",
       "      <td>[Office Products, Office &amp; School Supplies, Ed...</td>\n",
       "      <td>Social Entrepreneurship: What Everyone Needs t...</td>\n",
       "      <td>[0195334760, 1613630328, 1422104060, 158648956...</td>\n",
       "      <td>Visit Amazon's David Bornstein Page</td>\n",
       "      <td>110,732 in Books (</td>\n",
       "      <td>[0195334760, 1586489569, 1613630328, 142210406...</td>\n",
       "      <td>Books</td>\n",
       "      <td></td>\n",
       "      <td>0195396332</td>\n",
       "      <td>NaN</td>\n",
       "    </tr>\n",
       "    <tr>\n",
       "      <th>...</th>\n",
       "      <td>...</td>\n",
       "      <td>...</td>\n",
       "      <td>...</td>\n",
       "      <td>...</td>\n",
       "      <td>...</td>\n",
       "      <td>...</td>\n",
       "      <td>...</td>\n",
       "      <td>...</td>\n",
       "      <td>...</td>\n",
       "      <td>...</td>\n",
       "    </tr>\n",
       "    <tr>\n",
       "      <th>306612</th>\n",
       "      <td>[Office Products, Office &amp; School Supplies, La...</td>\n",
       "      <td>Nintendo Super Mario Bros. Lanyard with Mario ...</td>\n",
       "      <td>[]</td>\n",
       "      <td>Nintendo</td>\n",
       "      <td>[&gt;#439,112 in Automotive (See top 100), &gt;#1,38...</td>\n",
       "      <td>[B01BF122TY, B06XGMZ2NT, B01MRXB87Q, B019SLVB9...</td>\n",
       "      <td>Automotive</td>\n",
       "      <td>$8.00</td>\n",
       "      <td>B01HJF4C66</td>\n",
       "      <td>{}</td>\n",
       "    </tr>\n",
       "    <tr>\n",
       "      <th>306613</th>\n",
       "      <td>[Office Products, Office &amp; School Supplies, Fo...</td>\n",
       "      <td>Lot of 2 - US American Flag &amp;amp; Eagle US Pat...</td>\n",
       "      <td>[B01K452Y5E, B00LMB1YQ0, B018EH7DZU, B01EHJG9M...</td>\n",
       "      <td>NYKC</td>\n",
       "      <td>[&gt;#408,194 in Office Products (See top 100), &gt;...</td>\n",
       "      <td>[B00LMB1YQ0, B01BCO7ID4, B01JO8H8NA, B00G5WZLK...</td>\n",
       "      <td>Office Products</td>\n",
       "      <td>$4.99</td>\n",
       "      <td>B01HJF5WZQ</td>\n",
       "      <td>{}</td>\n",
       "    </tr>\n",
       "    <tr>\n",
       "      <th>306614</th>\n",
       "      <td>[Office Products, Office &amp; School Supplies, De...</td>\n",
       "      <td>CatchTheWave Natural Wood Pen Holder Folding S...</td>\n",
       "      <td>[B00M0FACO2, B000J3X9VU]</td>\n",
       "      <td>CatchTheWave</td>\n",
       "      <td>[&gt;#307,901 in Office Products (See top 100), &gt;...</td>\n",
       "      <td>[B07C6T4HQ1, B01J6DNIBO, B00QX6SEJO, B076Q65VP...</td>\n",
       "      <td>Office Products</td>\n",
       "      <td></td>\n",
       "      <td>B01HJF6JIA</td>\n",
       "      <td>{}</td>\n",
       "    </tr>\n",
       "    <tr>\n",
       "      <th>306615</th>\n",
       "      <td>[]</td>\n",
       "      <td>1pcs / Set Fashion Cartoon Blue Toy Story Phon...</td>\n",
       "      <td>[]</td>\n",
       "      <td>Lanyard</td>\n",
       "      <td>[&gt;#749,930 in Office Products (See top 100)]</td>\n",
       "      <td>[]</td>\n",
       "      <td>Office Products</td>\n",
       "      <td></td>\n",
       "      <td>B01HJFOEQ4</td>\n",
       "      <td>{}</td>\n",
       "    </tr>\n",
       "    <tr>\n",
       "      <th>306616</th>\n",
       "      <td>[Office Products, Office &amp; School Supplies, Wr...</td>\n",
       "      <td>( PACK OF 5 ) FELLOWSHIP Full Transparent Desi...</td>\n",
       "      <td>[]</td>\n",
       "      <td>SRPC</td>\n",
       "      <td>[&gt;#1,191,960 in Office Products (See top 100),...</td>\n",
       "      <td>[]</td>\n",
       "      <td>Office Products</td>\n",
       "      <td></td>\n",
       "      <td>B01HJFPBLG</td>\n",
       "      <td>{}</td>\n",
       "    </tr>\n",
       "  </tbody>\n",
       "</table>\n",
       "<p>306617 rows × 10 columns</p>\n",
       "</div>"
      ],
      "text/plain": [
       "                                                 category  \\\n",
       "0       [Office Products, Office & School Supplies, Ed...   \n",
       "1       [Office Products, Office &amp; School Supplies...   \n",
       "2                                                      []   \n",
       "3       [Office Products, Office & School Supplies, Ed...   \n",
       "4       [Office Products, Office & School Supplies, Ed...   \n",
       "...                                                   ...   \n",
       "306612  [Office Products, Office & School Supplies, La...   \n",
       "306613  [Office Products, Office & School Supplies, Fo...   \n",
       "306614  [Office Products, Office & School Supplies, De...   \n",
       "306615                                                 []   \n",
       "306616  [Office Products, Office & School Supplies, Wr...   \n",
       "\n",
       "                                                    title  \\\n",
       "0       Sequential Spelling Level 1 Bundle with Studen...   \n",
       "1       Mathematics, Applications and Concepts, Course...   \n",
       "2       Pearson MyHistoryLab Online Access Code for Am...   \n",
       "3                                   A Pocket for Corduroy   \n",
       "4       Social Entrepreneurship: What Everyone Needs t...   \n",
       "...                                                   ...   \n",
       "306612  Nintendo Super Mario Bros. Lanyard with Mario ...   \n",
       "306613  Lot of 2 - US American Flag &amp; Eagle US Pat...   \n",
       "306614  CatchTheWave Natural Wood Pen Holder Folding S...   \n",
       "306615  1pcs / Set Fashion Cartoon Blue Toy Story Phon...   \n",
       "306616  ( PACK OF 5 ) FELLOWSHIP Full Transparent Desi...   \n",
       "\n",
       "                                                 also_buy  \\\n",
       "0                                                      []   \n",
       "1                                                      []   \n",
       "2                                                      []   \n",
       "3       [0140501738, 0448421917, 0670063428, 042528875...   \n",
       "4       [0195334760, 1613630328, 1422104060, 158648956...   \n",
       "...                                                   ...   \n",
       "306612                                                 []   \n",
       "306613  [B01K452Y5E, B00LMB1YQ0, B018EH7DZU, B01EHJG9M...   \n",
       "306614                           [B00M0FACO2, B000J3X9VU]   \n",
       "306615                                                 []   \n",
       "306616                                                 []   \n",
       "\n",
       "                                      brand  \\\n",
       "0                          STL Distributors   \n",
       "1                                    bailey   \n",
       "2                      Pearson MyHistoryLab   \n",
       "3                 Ingram Book & Distributor   \n",
       "4       Visit Amazon's David Bornstein Page   \n",
       "...                                     ...   \n",
       "306612                             Nintendo   \n",
       "306613                                 NYKC   \n",
       "306614                         CatchTheWave   \n",
       "306615                              Lanyard   \n",
       "306616                                 SRPC   \n",
       "\n",
       "                                                     rank  \\\n",
       "0       [>#439,654 in Office Products (See top 100), >...   \n",
       "1                                    3,839,628 in Books (   \n",
       "2          [>#1,925,354 in Office Products (See top 100)]   \n",
       "3       [>#422,894 in Office Products (See top 100), >...   \n",
       "4                                      110,732 in Books (   \n",
       "...                                                   ...   \n",
       "306612  [>#439,112 in Automotive (See top 100), >#1,38...   \n",
       "306613  [>#408,194 in Office Products (See top 100), >...   \n",
       "306614  [>#307,901 in Office Products (See top 100), >...   \n",
       "306615       [>#749,930 in Office Products (See top 100)]   \n",
       "306616  [>#1,191,960 in Office Products (See top 100),...   \n",
       "\n",
       "                                                also_view         main_cat  \\\n",
       "0       [1935943065, 1935943073, B00IJH9Q4M, 002115021...  Office Products   \n",
       "1                                                      []            Books   \n",
       "2                                                      []  Office Products   \n",
       "3                                            [0140501738]  Office Products   \n",
       "4       [0195334760, 1586489569, 1613630328, 142210406...            Books   \n",
       "...                                                   ...              ...   \n",
       "306612  [B01BF122TY, B06XGMZ2NT, B01MRXB87Q, B019SLVB9...       Automotive   \n",
       "306613  [B00LMB1YQ0, B01BCO7ID4, B01JO8H8NA, B00G5WZLK...  Office Products   \n",
       "306614  [B07C6T4HQ1, B01J6DNIBO, B00QX6SEJO, B076Q65VP...  Office Products   \n",
       "306615                                                 []  Office Products   \n",
       "306616                                                 []  Office Products   \n",
       "\n",
       "         price        asin details  \n",
       "0       $32.90  0012624861     NaN  \n",
       "1        $8.62  0078652669     NaN  \n",
       "2        $0.99  0136039847     NaN  \n",
       "3        $0.95  0140503528     NaN  \n",
       "4               0195396332     NaN  \n",
       "...        ...         ...     ...  \n",
       "306612   $8.00  B01HJF4C66      {}  \n",
       "306613   $4.99  B01HJF5WZQ      {}  \n",
       "306614          B01HJF6JIA      {}  \n",
       "306615          B01HJFOEQ4      {}  \n",
       "306616          B01HJFPBLG      {}  \n",
       "\n",
       "[306617 rows x 10 columns]"
      ]
     },
     "execution_count": 5,
     "metadata": {},
     "output_type": "execute_result"
    }
   ],
   "source": [
    "off_meta = off_meta.drop_duplicates(subset = 'asin', keep = 'first', ignore_index = True)\n",
    "off_meta"
   ]
  },
  {
   "cell_type": "markdown",
   "id": "6da141da",
   "metadata": {},
   "source": [
    "# Cleaning the main_cat column"
   ]
  },
  {
   "cell_type": "code",
   "execution_count": 6,
   "id": "fd93ff81",
   "metadata": {
    "scrolled": false
   },
   "outputs": [
    {
     "data": {
      "text/plain": [
       "[]                                                                                                                                                                                                                                                                                                                                                                                                                                                                                                                                                                                                                                                                                         16439\n",
       "[Office Products, Office & School Supplies, Printer Ink & Toner, Laser Printer Drums & Toner]                                                                                                                                                                                                                                                                                                                                                                                                                                                                                                                                                                                              15823\n",
       "[Office Products, Office & School Supplies, Desk Accessories & Workspace Organizers, Mouse Pads & Wrist Rests, Mouse Pads]                                                                                                                                                                                                                                                                                                                                                                                                                                                                                                                                                                 13362\n",
       "[Office Products, Office & School Supplies, Printer Ink & Toner, Inkjet Printer Ink]                                                                                                                                                                                                                                                                                                                                                                                                                                                                                                                                                                                                       13120\n",
       "[Office Products, Office & School Supplies, Paper, Cards & Card Stock, Greeting Cards]                                                                                                                                                                                                                                                                                                                                                                                                                                                                                                                                                                                                     11156\n",
       "                                                                                                                                                                                                                                                                                                                                                                                                                                                                                                                                                                                                                                                                                           ...  \n",
       "[Office Products, Office & School Supplies, Desk Accessories & Workspace Organizers, Card Files, Holders & Racks, Business Card Holders, Leather Business Card Wallet with 2 Card Slots and ID Window, Leather card holder with an ID window, 2 card slots and an interior pocket for additional cards, Store your business cards, credit cards, and gift cards in true style with this sleek card case, Material: Cowhide leather, Size: 4\" x 3\" x 0.5\"; Weight: 1.3 oz]                                                                                                                                                                                                                      1\n",
       "[Office Products, Office &amp; School Supplies, Desk Accessories &amp; Workspace Organizers, Card Files, Holders &amp; Racks, Address Books, 100% Leather]                                                                                                                                                                                                                                                                                                                                                                                                                                                                                                                                     1\n",
       "[Office Products, Office & School Supplies, Writing & Correction Supplies, Pens & Refills, Ballpoint Pens, MEDIUM POINT BLACK INK, TWIST TO OPEN AND CLOSE, 2 FOR YOU, 2 FOR A FRIEND!, PINK RIBBON FOR BREAST CANCER AWARENESS, WE WILL FIND A CURE!]                                                                                                                                                                                                                                                                                                                                                                                                                                         1\n",
       "[Office Products, Office & School Supplies, Desk Accessories & Workspace Organizers, Card Files, Holders & Racks, Business Card Holders, Brand new silvery (chrome) metal card case/wallet, Intricate pattern is embossed into the top & bottom with a lightly studded back, Holds business cards, ID/credit cards, cash, Size 3.75\" x 2.5\" (9cm x 6cm), about 1/2\" deep, Two durable and strong spring loaded arms inside hold business cards, ID/credit cards, or cash]                                                                                                                                                                                                                      1\n",
       "[Office Products, Office & School Supplies, Forms, Recordkeeping & Money Handling, Key Tags & Chains, Material: Alloy, Inspired by Legend of Zelda and brought to you by Dancingstars, this would be an excellent gift for any fan of Zelda, Expedited Two-day Shipping for Prime Members; Free Super Saver Shipping over $35; Item ships from Amazon warehouses in the US and you will be able to track your delivery to your door; Amazon provides customer service 24 x 7, FREE Returns! Only applies to product Fulfilled by Amazon. If you'd like hassle-free returns, choose product fulfilled by Amazon, Backed by 100% Customer Satisfaction Guarantee, only from DawningView!]        1\n",
       "Name: category, Length: 2518, dtype: int64"
      ]
     },
     "execution_count": 6,
     "metadata": {},
     "output_type": "execute_result"
    }
   ],
   "source": [
    "off_meta.category.value_counts()"
   ]
  },
  {
   "cell_type": "code",
   "execution_count": 7,
   "id": "7839f9e1",
   "metadata": {
    "scrolled": false
   },
   "outputs": [
    {
     "data": {
      "text/plain": [
       "Office Products                                                                                                                                                               218375\n",
       "All Electronics                                                                                                                                                                24481\n",
       "Amazon Home                                                                                                                                                                    18383\n",
       "Industrial & Scientific                                                                                                                                                         7527\n",
       "Computers                                                                                                                                                                       5839\n",
       "Arts, Crafts & Sewing                                                                                                                                                           4079\n",
       "Health & Personal Care                                                                                                                                                          4015\n",
       "Home Audio & Theater                                                                                                                                                            3343\n",
       "Toys & Games                                                                                                                                                                    3211\n",
       "Tools & Home Improvement                                                                                                                                                        3141\n",
       "<img src=\"https://images-na.ssl-images-amazon.com/images/G/01/nav2/images/gui/amazon-fashion-store-new._CB520838675_.png\" class=\"nav-categ-image\" alt=\"AMAZON FASHION\"/>        2547\n",
       "Books                                                                                                                                                                           2426\n",
       "                                                                                                                                                                                1983\n",
       "Sports & Outdoors                                                                                                                                                               1561\n",
       "Cell Phones & Accessories                                                                                                                                                        985\n",
       "All Beauty                                                                                                                                                                       756\n",
       "Baby                                                                                                                                                                             513\n",
       "Automotive                                                                                                                                                                       505\n",
       "Camera & Photo                                                                                                                                                                   470\n",
       "Pet Supplies                                                                                                                                                                     385\n",
       "<img src=\"https://images-na.ssl-images-amazon.com/images/G/01/digital/music/logos/amzn_music_logo_subnav._CB471835632_.png\" class=\"nav-categ-image\" alt=\"Digital Music\"/>        312\n",
       "Tools &amp; Home Improvement                                                                                                                                                     195\n",
       "Musical Instruments                                                                                                                                                              149\n",
       "Software                                                                                                                                                                         148\n",
       "Industrial &amp; Scientific                                                                                                                                                      147\n",
       "Arts, Crafts &amp; Sewing                                                                                                                                                        144\n",
       "Home Audio &amp; Theater                                                                                                                                                         126\n",
       "Toys &amp; Games                                                                                                                                                                 125\n",
       "Portable Audio & Accessories                                                                                                                                                     124\n",
       "Health &amp; Personal Care                                                                                                                                                       103\n",
       "Grocery                                                                                                                                                                           93\n",
       "Movies & TV                                                                                                                                                                       63\n",
       "Video Games                                                                                                                                                                       54\n",
       "Car Electronics                                                                                                                                                                   50\n",
       "Sports &amp; Outdoors                                                                                                                                                             44\n",
       "<img src=\"https://images-na.ssl-images-amazon.com/images/G/01/nav2/images/gui/amazon-fashion-store-new._CB520838675_.png\" class=\"nav-categ-image\" alt=\"AMAZON FASHION\" />         34\n",
       "Camera &amp; Photo                                                                                                                                                                29\n",
       "Cell Phones &amp; Accessories                                                                                                                                                     28\n",
       "<img src=\"https://m.media-amazon.com/images/G/01/nav2/images/gui/amazon-fashion-store-new._CB520838675_.png\" class=\"nav-categ-image\" alt=\"AMAZON FASHION\"/>                       27\n",
       "<img src=\"https://images-na.ssl-images-amazon.com/images/G/01/digital/music/logos/amzn_music_logo_subnav._CB471835632_.png\" class=\"nav-categ-image\" alt=\"Digital Music\" />        25\n",
       "Amazon Devices                                                                                                                                                                    14\n",
       "Gift Cards                                                                                                                                                                        12\n",
       "Movies &amp; TV                                                                                                                                                                   11\n",
       "GPS & Navigation                                                                                                                                                                  11\n",
       "Portable Audio &amp; Accessories                                                                                                                                                   8\n",
       "Buy a Kindle                                                                                                                                                                       4\n",
       "<img src=\"https://images-na.ssl-images-amazon.com/images/G/01/handmade/brand/logos/2018/subnav_logo._CB502360610_.png\" class=\"nav-categ-image\" alt=\"Handmade\"/>                    4\n",
       "<img src=\"https://m.media-amazon.com/images/G/01/digital/music/logos/amzn_music_logo_subnav._CB471835632_.png\" class=\"nav-categ-image\" alt=\"Digital Music\"/>                       2\n",
       "Entertainment                                                                                                                                                                      2\n",
       "Appliances                                                                                                                                                                         2\n",
       "Collectible Coins                                                                                                                                                                  1\n",
       "<img src=\"https://images-na.ssl-images-amazon.com/images/G/01/pantry/subnav/pantry-subnav-logo._CB474181323_.png\" class=\"nav-categ-image\" alt=\"Prime Pantry\"/>                     1\n",
       "Name: main_cat, dtype: int64"
      ]
     },
     "execution_count": 7,
     "metadata": {},
     "output_type": "execute_result"
    }
   ],
   "source": [
    "off_meta.main_cat.value_counts()"
   ]
  },
  {
   "cell_type": "code",
   "execution_count": 8,
   "id": "39c45bef",
   "metadata": {},
   "outputs": [
    {
     "data": {
      "text/plain": [
       "Office Products                     218375\n",
       "All Electronics                      24481\n",
       "Amazon Home                          18383\n",
       "Industrial & Scientific               7527\n",
       "Computers                             5839\n",
       "Arts, Crafts & Sewing                 4079\n",
       "Health & Personal Care                4015\n",
       "Home Audio & Theater                  3343\n",
       "Toys & Games                          3211\n",
       "Tools & Home Improvement              3141\n",
       "Amazon Fashion                        2608\n",
       "Books                                 2426\n",
       "Sports & Outdoors                     1561\n",
       "Cell Phones & Accessories              985\n",
       "All Beauty                             756\n",
       "Baby                                   513\n",
       "Automotive                             505\n",
       "Camera & Photo                         470\n",
       "Pet Supplies                           385\n",
       "Digital Music                          339\n",
       "Tools &amp; Home Improvement           195\n",
       "Musical Instruments                    149\n",
       "Software                               148\n",
       "Industrial &amp; Scientific            147\n",
       "Arts, Crafts &amp; Sewing              144\n",
       "Home Audio &amp; Theater               126\n",
       "Toys &amp; Games                       125\n",
       "Portable Audio & Accessories           124\n",
       "Health &amp; Personal Care             103\n",
       "Grocery                                 93\n",
       "Movies & TV                             63\n",
       "Video Games                             54\n",
       "Car Electronics                         50\n",
       "Sports &amp; Outdoors                   44\n",
       "Camera &amp; Photo                      29\n",
       "Cell Phones &amp; Accessories           28\n",
       "Amazon Devices                          14\n",
       "Gift Cards                              12\n",
       "Movies &amp; TV                         11\n",
       "GPS & Navigation                        11\n",
       "Portable Audio &amp; Accessories         8\n",
       "Buy a Kindle                             4\n",
       "Handmade                                 4\n",
       "Entertainment                            2\n",
       "Appliances                               2\n",
       "Collectible Coins                        1\n",
       "Prime Pantry                             1\n",
       "Name: main_cat, dtype: int64"
      ]
     },
     "execution_count": 8,
     "metadata": {},
     "output_type": "execute_result"
    }
   ],
   "source": [
    "off_meta.main_cat = off_meta.main_cat.replace('<img src=\"https://images-na.ssl-images-amazon.com/images/G/01/nav2/images/gui/amazon-fashion-store-new._CB520838675_.png\" class=\"nav-categ-image\" alt=\"AMAZON FASHION\"/>' , \"Amazon Fashion\" )\n",
    "\n",
    "off_meta.main_cat = off_meta.main_cat.replace('<img src=\"https://images-na.ssl-images-amazon.com/images/G/01/digital/music/logos/amzn_music_logo_subnav._CB471835632_.png\" class=\"nav-categ-image\" alt=\"Digital Music\"/>' , \"Digital Music\" )\n",
    "\n",
    "off_meta.main_cat = off_meta.main_cat.replace('<img src=\"https://images-na.ssl-images-amazon.com/images/G/01/nav2/images/gui/amazon-fashion-store-new._CB520838675_.png\" class=\"nav-categ-image\" alt=\"AMAZON FASHION\" />' , \"Amazon Fashion\" )\n",
    "\n",
    "off_meta.main_cat = off_meta.main_cat.replace('<img src=\"https://images-na.ssl-images-amazon.com/images/G/01/digital/music/logos/amzn_music_logo_subnav._CB471835632_.png\" class=\"nav-categ-image\" alt=\"Digital Music\" />' , \"Digital Music\" )\n",
    "\n",
    "off_meta.main_cat = off_meta.main_cat.replace('<img src=\"https://m.media-amazon.com/images/G/01/nav2/images/gui/amazon-fashion-store-new._CB520838675_.png\" class=\"nav-categ-image\" alt=\"AMAZON FASHION\"/>' , \"Amazon Fashion\" )\n",
    "\n",
    "off_meta.main_cat = off_meta.main_cat.replace('<img src=\"https://images-na.ssl-images-amazon.com/images/G/01/handmade/brand/logos/2018/subnav_logo._CB502360610_.png\" class=\"nav-categ-image\" alt=\"Handmade\"/>' , value = \"Handmade\")\n",
    "\n",
    "off_meta.main_cat = off_meta.main_cat.replace('<img src=\"https://m.media-amazon.com/images/G/01/digital/music/logos/amzn_music_logo_subnav._CB471835632_.png\" class=\"nav-categ-image\" alt=\"Digital Music\"/>' , value = \"Digital Music\")\n",
    "\n",
    "off_meta.main_cat = off_meta.main_cat.replace('<img src=\"https://images-na.ssl-images-amazon.com/images/G/01/pantry/subnav/pantry-subnav-logo._CB474181323_.png\" class=\"nav-categ-image\" alt=\"Prime Pantry\"/>' , value = \"Prime Pantry\")\n",
    "\n",
    "off_meta.main_cat = off_meta.main_cat.replace('' , value = np.nan)\n",
    "\n",
    "off_meta.main_cat.value_counts()"
   ]
  },
  {
   "cell_type": "code",
   "execution_count": 9,
   "id": "c73f5851",
   "metadata": {},
   "outputs": [
    {
     "data": {
      "text/plain": [
       "Office Products                   218375\n",
       "All Electronics                    24481\n",
       "Amazon Home                        18383\n",
       "Industrial & Scientific             7527\n",
       "Computers                           5839\n",
       "Arts Crafts & Sewing                4079\n",
       "Health & Personal Care              4015\n",
       "Home Audio & Theater                3343\n",
       "Toys & Games                        3211\n",
       "Tools & Home Improvement            3141\n",
       "Amazon Fashion                      2608\n",
       "Books                               2426\n",
       "nan                                 1983\n",
       "Sports & Outdoors                   1561\n",
       "Cell Phones & Accessories            985\n",
       "All Beauty                           756\n",
       "Baby                                 513\n",
       "Automotive                           505\n",
       "Camera & Photo                       470\n",
       "Pet Supplies                         385\n",
       "Digital Music                        339\n",
       "Tools and Home Improvement           195\n",
       "Musical Instruments                  149\n",
       "Software                             148\n",
       "Industrial and Scientific            147\n",
       "Arts Crafts and Sewing               144\n",
       "Home Audio and Theater               126\n",
       "Toys and Games                       125\n",
       "Portable Audio & Accessories         124\n",
       "Health and Personal Care             103\n",
       "Grocery                               93\n",
       "Movies & TV                           63\n",
       "Video Games                           54\n",
       "Car Electronics                       50\n",
       "Sports and Outdoors                   44\n",
       "Camera and Photo                      29\n",
       "Cell Phones and Accessories           28\n",
       "Amazon Devices                        14\n",
       "Gift Cards                            12\n",
       "Movies and TV                         11\n",
       "GPS & Navigation                      11\n",
       "Portable Audio and Accessories         8\n",
       "Buy a Kindle                           4\n",
       "Handmade                               4\n",
       "Entertainment                          2\n",
       "Appliances                             2\n",
       "Collectible Coins                      1\n",
       "Prime Pantry                           1\n",
       "Name: main_cat, dtype: int64"
      ]
     },
     "execution_count": 9,
     "metadata": {},
     "output_type": "execute_result"
    }
   ],
   "source": [
    "lst = []\n",
    "for i in off_meta.main_cat:\n",
    "    i = str(i)\n",
    "    #i = i.replace(\"&\",'and')\n",
    "    i = i.replace(\"&amp;\",'and')\n",
    "    i = i.replace(\"'\",'')\n",
    "    i = i.replace(\",\",'')\n",
    "\n",
    "    lst.append(i)\n",
    "# lst = pd.DataFrame(lst)\n",
    "# lst.value_counts()\n",
    "off_meta.main_cat = lst\n",
    "off_meta.main_cat.value_counts()"
   ]
  },
  {
   "cell_type": "code",
   "execution_count": 10,
   "id": "2f03fdf5",
   "metadata": {},
   "outputs": [
    {
     "data": {
      "text/plain": [
       "Office Products                   220358\n",
       "All Electronics                    24481\n",
       "Amazon Home                        18383\n",
       "Industrial & Scientific             7527\n",
       "Computers                           5839\n",
       "Arts Crafts & Sewing                4079\n",
       "Health & Personal Care              4015\n",
       "Home Audio & Theater                3343\n",
       "Toys & Games                        3211\n",
       "Tools & Home Improvement            3141\n",
       "Amazon Fashion                      2608\n",
       "Books                               2426\n",
       "Sports & Outdoors                   1561\n",
       "Cell Phones & Accessories            985\n",
       "All Beauty                           756\n",
       "Baby                                 513\n",
       "Automotive                           505\n",
       "Camera & Photo                       470\n",
       "Pet Supplies                         385\n",
       "Digital Music                        339\n",
       "Tools and Home Improvement           195\n",
       "Musical Instruments                  149\n",
       "Software                             148\n",
       "Industrial and Scientific            147\n",
       "Arts Crafts and Sewing               144\n",
       "Home Audio and Theater               126\n",
       "Toys and Games                       125\n",
       "Portable Audio & Accessories         124\n",
       "Health and Personal Care             103\n",
       "Grocery                               93\n",
       "Movies & TV                           63\n",
       "Video Games                           54\n",
       "Car Electronics                       50\n",
       "Sports and Outdoors                   44\n",
       "Camera and Photo                      29\n",
       "Cell Phones and Accessories           28\n",
       "Amazon Devices                        14\n",
       "Gift Cards                            12\n",
       "Movies and TV                         11\n",
       "GPS & Navigation                      11\n",
       "Portable Audio and Accessories         8\n",
       "Buy a Kindle                           4\n",
       "Handmade                               4\n",
       "Entertainment                          2\n",
       "Appliances                             2\n",
       "Collectible Coins                      1\n",
       "Prime Pantry                           1\n",
       "Name: main_cat, dtype: int64"
      ]
     },
     "execution_count": 10,
     "metadata": {},
     "output_type": "execute_result"
    }
   ],
   "source": [
    "off_meta.main_cat = off_meta.main_cat.replace(\"nan\",off_meta.main_cat.mode()[0])\n",
    "off_meta.main_cat.value_counts()"
   ]
  },
  {
   "cell_type": "code",
   "execution_count": 11,
   "id": "4cc25510",
   "metadata": {},
   "outputs": [
    {
     "data": {
      "text/plain": [
       "0"
      ]
     },
     "execution_count": 11,
     "metadata": {},
     "output_type": "execute_result"
    }
   ],
   "source": [
    "off_meta.main_cat.isnull().sum()"
   ]
  },
  {
   "cell_type": "markdown",
   "id": "5b16ecf8",
   "metadata": {},
   "source": [
    "# Extracting the category, sub category and product type information from the category column"
   ]
  },
  {
   "cell_type": "code",
   "execution_count": 12,
   "id": "deb84c7f",
   "metadata": {},
   "outputs": [],
   "source": [
    "category = []\n",
    "\n",
    "for i in off_meta['category']:\n",
    "    category += [i[1:2]]\n",
    "         \n",
    "off_meta['primary_category'] = category\n",
    "\n",
    "\n",
    "sub_cat = []\n",
    "for i in off_meta['category']:\n",
    "    sub_cat += [i[2:3]]\n",
    "    \n",
    "off_meta['sub_cat'] = sub_cat\n",
    "\n",
    "\n",
    "prod_type = []\n",
    "for i in off_meta['category']:\n",
    "    prod_type += [i[3:]]\n",
    "    \n",
    "off_meta['product_type'] = prod_type\n",
    "\n",
    "#off_meta['sub_cat'] = sub_cat\n",
    "#off_meta = off_meta.drop(['category'], axis = 1) \n",
    "#off_meta.head()"
   ]
  },
  {
   "cell_type": "code",
   "execution_count": 13,
   "id": "71bcc0c4",
   "metadata": {
    "scrolled": true
   },
   "outputs": [
    {
     "data": {
      "text/html": [
       "<div>\n",
       "<style scoped>\n",
       "    .dataframe tbody tr th:only-of-type {\n",
       "        vertical-align: middle;\n",
       "    }\n",
       "\n",
       "    .dataframe tbody tr th {\n",
       "        vertical-align: top;\n",
       "    }\n",
       "\n",
       "    .dataframe thead th {\n",
       "        text-align: right;\n",
       "    }\n",
       "</style>\n",
       "<table border=\"1\" class=\"dataframe\">\n",
       "  <thead>\n",
       "    <tr style=\"text-align: right;\">\n",
       "      <th></th>\n",
       "      <th>category</th>\n",
       "      <th>title</th>\n",
       "      <th>also_buy</th>\n",
       "      <th>brand</th>\n",
       "      <th>rank</th>\n",
       "      <th>also_view</th>\n",
       "      <th>main_cat</th>\n",
       "      <th>price</th>\n",
       "      <th>asin</th>\n",
       "      <th>details</th>\n",
       "      <th>primary_category</th>\n",
       "      <th>sub_cat</th>\n",
       "      <th>product_type</th>\n",
       "    </tr>\n",
       "  </thead>\n",
       "  <tbody>\n",
       "    <tr>\n",
       "      <th>0</th>\n",
       "      <td>[Office Products, Office &amp; School Supplies, Ed...</td>\n",
       "      <td>Sequential Spelling Level 1 Bundle with Studen...</td>\n",
       "      <td>[]</td>\n",
       "      <td>STL Distributors</td>\n",
       "      <td>[&gt;#439,654 in Office Products (See top 100), &gt;...</td>\n",
       "      <td>[1935943065, 1935943073, B00IJH9Q4M, 002115021...</td>\n",
       "      <td>Office Products</td>\n",
       "      <td>$32.90</td>\n",
       "      <td>0012624861</td>\n",
       "      <td>NaN</td>\n",
       "      <td>[Office &amp; School Supplies]</td>\n",
       "      <td>[Education &amp; Crafts]</td>\n",
       "      <td>[Early Childhood Education Materials]</td>\n",
       "    </tr>\n",
       "    <tr>\n",
       "      <th>1</th>\n",
       "      <td>[Office Products, Office &amp;amp; School Supplies...</td>\n",
       "      <td>Mathematics, Applications and Concepts, Course...</td>\n",
       "      <td>[]</td>\n",
       "      <td>bailey</td>\n",
       "      <td>3,839,628 in Books (</td>\n",
       "      <td>[]</td>\n",
       "      <td>Books</td>\n",
       "      <td>$8.62</td>\n",
       "      <td>0078652669</td>\n",
       "      <td>NaN</td>\n",
       "      <td>[Office &amp;amp; School Supplies]</td>\n",
       "      <td>[Education &amp;amp; Crafts]</td>\n",
       "      <td>[]</td>\n",
       "    </tr>\n",
       "    <tr>\n",
       "      <th>2</th>\n",
       "      <td>[]</td>\n",
       "      <td>Pearson MyHistoryLab Online Access Code for Am...</td>\n",
       "      <td>[]</td>\n",
       "      <td>Pearson MyHistoryLab</td>\n",
       "      <td>[&gt;#1,925,354 in Office Products (See top 100)]</td>\n",
       "      <td>[]</td>\n",
       "      <td>Office Products</td>\n",
       "      <td>$0.99</td>\n",
       "      <td>0136039847</td>\n",
       "      <td>NaN</td>\n",
       "      <td>[]</td>\n",
       "      <td>[]</td>\n",
       "      <td>[]</td>\n",
       "    </tr>\n",
       "    <tr>\n",
       "      <th>3</th>\n",
       "      <td>[Office Products, Office &amp; School Supplies, Ed...</td>\n",
       "      <td>A Pocket for Corduroy</td>\n",
       "      <td>[0140501738, 0448421917, 0670063428, 042528875...</td>\n",
       "      <td>Ingram Book &amp; Distributor</td>\n",
       "      <td>[&gt;#422,894 in Office Products (See top 100), &gt;...</td>\n",
       "      <td>[0140501738]</td>\n",
       "      <td>Office Products</td>\n",
       "      <td>$0.95</td>\n",
       "      <td>0140503528</td>\n",
       "      <td>NaN</td>\n",
       "      <td>[Office &amp; School Supplies]</td>\n",
       "      <td>[Education &amp; Crafts]</td>\n",
       "      <td>[Early Childhood Education Materials]</td>\n",
       "    </tr>\n",
       "    <tr>\n",
       "      <th>4</th>\n",
       "      <td>[Office Products, Office &amp; School Supplies, Ed...</td>\n",
       "      <td>Social Entrepreneurship: What Everyone Needs t...</td>\n",
       "      <td>[0195334760, 1613630328, 1422104060, 158648956...</td>\n",
       "      <td>Visit Amazon's David Bornstein Page</td>\n",
       "      <td>110,732 in Books (</td>\n",
       "      <td>[0195334760, 1586489569, 1613630328, 142210406...</td>\n",
       "      <td>Books</td>\n",
       "      <td></td>\n",
       "      <td>0195396332</td>\n",
       "      <td>NaN</td>\n",
       "      <td>[Office &amp; School Supplies]</td>\n",
       "      <td>[Education &amp; Crafts]</td>\n",
       "      <td>[]</td>\n",
       "    </tr>\n",
       "  </tbody>\n",
       "</table>\n",
       "</div>"
      ],
      "text/plain": [
       "                                            category  \\\n",
       "0  [Office Products, Office & School Supplies, Ed...   \n",
       "1  [Office Products, Office &amp; School Supplies...   \n",
       "2                                                 []   \n",
       "3  [Office Products, Office & School Supplies, Ed...   \n",
       "4  [Office Products, Office & School Supplies, Ed...   \n",
       "\n",
       "                                               title  \\\n",
       "0  Sequential Spelling Level 1 Bundle with Studen...   \n",
       "1  Mathematics, Applications and Concepts, Course...   \n",
       "2  Pearson MyHistoryLab Online Access Code for Am...   \n",
       "3                              A Pocket for Corduroy   \n",
       "4  Social Entrepreneurship: What Everyone Needs t...   \n",
       "\n",
       "                                            also_buy  \\\n",
       "0                                                 []   \n",
       "1                                                 []   \n",
       "2                                                 []   \n",
       "3  [0140501738, 0448421917, 0670063428, 042528875...   \n",
       "4  [0195334760, 1613630328, 1422104060, 158648956...   \n",
       "\n",
       "                                 brand  \\\n",
       "0                     STL Distributors   \n",
       "1                               bailey   \n",
       "2                 Pearson MyHistoryLab   \n",
       "3            Ingram Book & Distributor   \n",
       "4  Visit Amazon's David Bornstein Page   \n",
       "\n",
       "                                                rank  \\\n",
       "0  [>#439,654 in Office Products (See top 100), >...   \n",
       "1                               3,839,628 in Books (   \n",
       "2     [>#1,925,354 in Office Products (See top 100)]   \n",
       "3  [>#422,894 in Office Products (See top 100), >...   \n",
       "4                                 110,732 in Books (   \n",
       "\n",
       "                                           also_view         main_cat   price  \\\n",
       "0  [1935943065, 1935943073, B00IJH9Q4M, 002115021...  Office Products  $32.90   \n",
       "1                                                 []            Books   $8.62   \n",
       "2                                                 []  Office Products   $0.99   \n",
       "3                                       [0140501738]  Office Products   $0.95   \n",
       "4  [0195334760, 1586489569, 1613630328, 142210406...            Books           \n",
       "\n",
       "         asin details                primary_category  \\\n",
       "0  0012624861     NaN      [Office & School Supplies]   \n",
       "1  0078652669     NaN  [Office &amp; School Supplies]   \n",
       "2  0136039847     NaN                              []   \n",
       "3  0140503528     NaN      [Office & School Supplies]   \n",
       "4  0195396332     NaN      [Office & School Supplies]   \n",
       "\n",
       "                    sub_cat                           product_type  \n",
       "0      [Education & Crafts]  [Early Childhood Education Materials]  \n",
       "1  [Education &amp; Crafts]                                     []  \n",
       "2                        []                                     []  \n",
       "3      [Education & Crafts]  [Early Childhood Education Materials]  \n",
       "4      [Education & Crafts]                                     []  "
      ]
     },
     "execution_count": 13,
     "metadata": {},
     "output_type": "execute_result"
    }
   ],
   "source": [
    "off_meta.head()"
   ]
  },
  {
   "cell_type": "markdown",
   "id": "084fb3bb",
   "metadata": {},
   "source": [
    "## Cleaning the data in Primary category column"
   ]
  },
  {
   "cell_type": "code",
   "execution_count": 14,
   "id": "90fdf7d9",
   "metadata": {},
   "outputs": [
    {
     "data": {
      "text/plain": [
       "[Office & School Supplies]           235411\n",
       "[Office Electronics]                  31411\n",
       "[]                                    16439\n",
       "[Office Furniture & Lighting]         12092\n",
       "[Office &amp; School Supplies]        10986\n",
       "[Office Furniture &amp; Lighting]       278\n",
       "Name: primary_category, dtype: int64"
      ]
     },
     "execution_count": 14,
     "metadata": {},
     "output_type": "execute_result"
    }
   ],
   "source": [
    "off_meta.primary_category.value_counts()"
   ]
  },
  {
   "cell_type": "code",
   "execution_count": 15,
   "id": "88ec456d",
   "metadata": {},
   "outputs": [
    {
     "data": {
      "text/plain": [
       "['Office  and School Supplies']       246397\n",
       "['Office Electronics']                 31411\n",
       "['Office Furniture  and Lighting']     12370\n",
       "Name: primary_category, dtype: int64"
      ]
     },
     "execution_count": 15,
     "metadata": {},
     "output_type": "execute_result"
    }
   ],
   "source": [
    "a = off_meta.primary_category\n",
    "prime = []\n",
    "for i in a:\n",
    "    i = str(i)\n",
    "    i = i.replace(\"&\",' and')\n",
    "    i = i.replace(\"andamp;\",'and')\n",
    "    i = i\n",
    "    prime.append(i)\n",
    "\n",
    "\n",
    "off_meta['primary_category'] = prime\n",
    "off_meta['primary_category'] = off_meta['primary_category'].replace(\"[]\", np.nan)\n",
    "off_meta['primary_category'] .value_counts()"
   ]
  },
  {
   "cell_type": "code",
   "execution_count": 16,
   "id": "04164d47",
   "metadata": {},
   "outputs": [
    {
     "data": {
      "text/plain": [
       "16439"
      ]
     },
     "execution_count": 16,
     "metadata": {},
     "output_type": "execute_result"
    }
   ],
   "source": [
    "off_meta['primary_category'].isnull().sum()"
   ]
  },
  {
   "cell_type": "code",
   "execution_count": 17,
   "id": "580b4801",
   "metadata": {},
   "outputs": [
    {
     "data": {
      "text/plain": [
       "Office Products    16439\n",
       "Name: main_cat, dtype: int64"
      ]
     },
     "execution_count": 17,
     "metadata": {},
     "output_type": "execute_result"
    }
   ],
   "source": [
    "off_meta.main_cat[off_meta['primary_category'].isnull()].value_counts()"
   ]
  },
  {
   "cell_type": "code",
   "execution_count": 18,
   "id": "831d534d",
   "metadata": {},
   "outputs": [
    {
     "data": {
      "text/plain": [
       "['Office  and School Supplies']       0.955409\n",
       "['Office Electronics']                0.027854\n",
       "['Office Furniture  and Lighting']    0.016737\n",
       "Name: primary_category, dtype: float64"
      ]
     },
     "execution_count": 18,
     "metadata": {},
     "output_type": "execute_result"
    }
   ],
   "source": [
    "off_meta['primary_category'][off_meta.main_cat == 'Office Products'].value_counts(normalize = True)"
   ]
  },
  {
   "cell_type": "code",
   "execution_count": 19,
   "id": "d2d64358",
   "metadata": {},
   "outputs": [
    {
     "data": {
      "text/plain": [
       "['Office  and School Supplies']       0.849124\n",
       "['Office Electronics']                0.108247\n",
       "['Office Furniture  and Lighting']    0.042629\n",
       "Name: primary_category, dtype: float64"
      ]
     },
     "execution_count": 19,
     "metadata": {},
     "output_type": "execute_result"
    }
   ],
   "source": [
    "off_meta['primary_category'].value_counts(normalize = True)"
   ]
  },
  {
   "cell_type": "markdown",
   "id": "58ab7e2e",
   "metadata": {},
   "source": [
    "## Since all the null values in Primary category has corresponding main_cat value = Office Products and Majority main_cat = Office products has highest number of products falling into ['Office  and School Supplies'] primary category, imputing the null values of primary  category  with ['Office  and School Supplies']"
   ]
  },
  {
   "cell_type": "code",
   "execution_count": 20,
   "id": "f7c52570",
   "metadata": {},
   "outputs": [],
   "source": [
    "off_meta.primary_category = off_meta.primary_category.fillna(\"['Office  and School Supplies']\")"
   ]
  },
  {
   "cell_type": "code",
   "execution_count": 21,
   "id": "1041f45c",
   "metadata": {},
   "outputs": [
    {
     "data": {
      "text/plain": [
       "0"
      ]
     },
     "execution_count": 21,
     "metadata": {},
     "output_type": "execute_result"
    }
   ],
   "source": [
    "off_meta['primary_category'].isnull().sum()"
   ]
  },
  {
   "cell_type": "markdown",
   "id": "660159d5",
   "metadata": {},
   "source": [
    "## Cleaning the data in Sub category column"
   ]
  },
  {
   "cell_type": "code",
   "execution_count": 22,
   "id": "a7879051",
   "metadata": {
    "scrolled": true
   },
   "outputs": [
    {
     "data": {
      "text/plain": [
       "[Paper]                                      33593\n",
       "[Writing & Correction Supplies]              32194\n",
       "[Desk Accessories & Workspace Organizers]    31911\n",
       "[Printer Ink & Toner]                        30630\n",
       "[Labels, Indexes & Stamps]                   22019\n",
       "                                             ...  \n",
       "[Size Regular: Measures 9.8 x 7.8 x 1.4]         1\n",
       "[Leather]                                        1\n",
       "[Vinyl-coated fabric is long lasting.]           1\n",
       "[Movement - Japan Movement]                      1\n",
       "[100% COTTON]                                    1\n",
       "Name: sub_cat, Length: 83, dtype: int64"
      ]
     },
     "execution_count": 22,
     "metadata": {},
     "output_type": "execute_result"
    }
   ],
   "source": [
    "off_meta.sub_cat.value_counts()"
   ]
  },
  {
   "cell_type": "code",
   "execution_count": 23,
   "id": "e6002ba5",
   "metadata": {},
   "outputs": [
    {
     "data": {
      "text/plain": [
       "['Paper']                                                                                                            33593\n",
       "['Writing  and Correction Supplies']                                                                                 33194\n",
       "['Desk Accessories  and Workspace Organizers']                                                                       32603\n",
       "['Printer Ink  and Toner']                                                                                           31478\n",
       "['Labels, Indexes  and Stamps']                                                                                      22386\n",
       "['Calendars, Planners  and Personal Organizers']                                                                     22159\n",
       "['Forms, Recordkeeping  and Money Handling']                                                                         14967\n",
       "['Education  and Crafts']                                                                                            13063\n",
       "['Envelopes, Mailers  and Shipping Supplies']                                                                        10985\n",
       "['Video Projectors  and Accessories']                                                                                 8366\n",
       "['Telephones  and Accessories']                                                                                       6827\n",
       "['Tape, Adhesives  and Fasteners']                                                                                    5227\n",
       "['Printers  and Accessories']                                                                                         5056\n",
       "['Binders  and Binding Systems']                                                                                      4541\n",
       "['Filing Products']                                                                                                   4365\n",
       "['Presentation Boards']                                                                                               4175\n",
       "['Book Covers  and Book Accessories']                                                                                 3453\n",
       "['Furniture Accessories']                                                                                             3396\n",
       "['Chairs  and Sofas']                                                                                                 3142\n",
       "['Cabinets, Racks  and Shelves']                                                                                      2325\n",
       "['Cutting  and Measuring Devices']                                                                                    1957\n",
       "['Store Signs  and Displays']                                                                                         1746\n",
       "['Carts  and Stands']                                                                                                 1687\n",
       "['Scanners  and Accessories']                                                                                         1599\n",
       "['Calculators']                                                                                                       1561\n",
       "['Presentation Products']                                                                                             1534\n",
       "['PDAs, Handhelds  and Accessories']                                                                                  1534\n",
       "['Staplers  and Punches']                                                                                             1519\n",
       "['Other Office Equipment']                                                                                            1351\n",
       "['Office Storage Supplies']                                                                                           1088\n",
       "['Point-of-Sale (POS) Equipment']                                                                                     1079\n",
       "['Desks  and Workstations']                                                                                            904\n",
       "['Carrying Cases']                                                                                                     782\n",
       "['Electronic Dictionaries, Thesauri  and Translators']                                                                 681\n",
       "['Time Clocks  and Cards']                                                                                             505\n",
       "['Tables']                                                                                                             271\n",
       "['Fax Machines']                                                                                                       156\n",
       "['Electronic Organizers']                                                                                              152\n",
       "['Office Lighting']                                                                                                     70\n",
       "['Copiers']                                                                                                             52\n",
       "['Document Cameras']                                                                                                    42\n",
       "['leather']                                                                                                              2\n",
       "['Made of soft and durable, leather like vinyl material']                                                                1\n",
       "['Fashion Lovely And High Quality Sports Watch! Three watch hands with Arabic numeral markers for easy reading.']        1\n",
       "['Amazing looking watch.']                                                                                               1\n",
       "['Durable Polyester Material; Heavy Duty Plastic Hardware']                                                              1\n",
       "['DuraHyde']                                                                                                             1\n",
       "['Bracelet measures 8\" around']                                                                                          1\n",
       "['Brand new, never used before']                                                                                         1\n",
       "['Movement - Japan Movement']                                                                                            1\n",
       "['Vinyl-coated fabric is long lasting.']                                                                                 1\n",
       "['Customized with your name or business']                                                                                1\n",
       "['Clipboard and Pad (Plastic and Paper)']                                                                                1\n",
       "['</span></span></span>']                                                                                                1\n",
       "['Size Regular: Measures 9.8 x 7.8 x 1.4']                                                                               1\n",
       "['Leather']                                                                                                              1\n",
       "['100% COTTON']                                                                                                          1\n",
       "Name: sub_cat, dtype: int64"
      ]
     },
     "execution_count": 23,
     "metadata": {},
     "output_type": "execute_result"
    }
   ],
   "source": [
    "a = off_meta.sub_cat\n",
    "sub = []\n",
    "for i in a:\n",
    "    i = str(i)\n",
    "    i = i.replace(\"&\",' and')\n",
    "    i = i.replace(\"andamp;\",'and')\n",
    "    i = i\n",
    "    sub.append(i)\n",
    "\n",
    "\n",
    "off_meta['sub_cat'] = sub\n",
    "off_meta['sub_cat'] = off_meta['sub_cat'].replace(\"[]\", np.nan)\n",
    "off_meta['sub_cat'] .value_counts()"
   ]
  },
  {
   "cell_type": "code",
   "execution_count": 24,
   "id": "e605cd5c",
   "metadata": {},
   "outputs": [],
   "source": [
    "off_meta['sub_cat'] = off_meta['sub_cat'].replace(\"['</span></span></span>']\", np.nan)\n",
    "off_meta['sub_cat'] = off_meta['sub_cat'].replace(\"['Size Regular: Measures 9.8 x 7.8 x 1.4']\", np.nan)"
   ]
  },
  {
   "cell_type": "code",
   "execution_count": 25,
   "id": "7645ef98",
   "metadata": {},
   "outputs": [
    {
     "data": {
      "text/plain": [
       "56"
      ]
     },
     "execution_count": 25,
     "metadata": {},
     "output_type": "execute_result"
    }
   ],
   "source": [
    "len(off_meta['sub_cat'].unique())"
   ]
  },
  {
   "cell_type": "code",
   "execution_count": 26,
   "id": "5deba7bb",
   "metadata": {},
   "outputs": [],
   "source": [
    "a = off_meta.sub_cat[off_meta[\"primary_category\"] == \"['Office Electronics']\"].mode()[0]\n",
    "b = off_meta.sub_cat[off_meta[\"primary_category\"] == \"['Office  and School Supplies']\"].mode()[0]\n",
    "c = off_meta.sub_cat[off_meta[\"primary_category\"] == \"['Office Furniture  and Lighting']\"].mode()[0]"
   ]
  },
  {
   "cell_type": "code",
   "execution_count": 27,
   "id": "bd074559",
   "metadata": {},
   "outputs": [
    {
     "data": {
      "text/plain": [
       "21031"
      ]
     },
     "execution_count": 27,
     "metadata": {},
     "output_type": "execute_result"
    }
   ],
   "source": [
    "off_meta.sub_cat.isnull().sum()"
   ]
  },
  {
   "cell_type": "code",
   "execution_count": 28,
   "id": "e72aa484",
   "metadata": {
    "scrolled": true
   },
   "outputs": [],
   "source": [
    "off_meta.sub_cat[off_meta[\"primary_category\"] == \"['Office Electronics']\"] = off_meta.sub_cat[off_meta[\"primary_category\"] == \"['Office Electronics']\"].fillna(a)\n",
    "off_meta.sub_cat[off_meta[\"primary_category\"] == \"['Office  and School Supplies']\"] = off_meta.sub_cat[off_meta[\"primary_category\"] == \"['Office  and School Supplies']\"].fillna(b)\n",
    "off_meta.sub_cat[off_meta[\"primary_category\"] == \"['Office Furniture  and Lighting']\"] = off_meta.sub_cat[off_meta[\"primary_category\"] == \"['Office Furniture  and Lighting']\"].fillna(c)"
   ]
  },
  {
   "cell_type": "code",
   "execution_count": 29,
   "id": "cc2e4231",
   "metadata": {},
   "outputs": [
    {
     "data": {
      "text/plain": [
       "0"
      ]
     },
     "execution_count": 29,
     "metadata": {},
     "output_type": "execute_result"
    }
   ],
   "source": [
    "off_meta.sub_cat.isnull().sum()"
   ]
  },
  {
   "cell_type": "markdown",
   "id": "b714ff29",
   "metadata": {},
   "source": [
    "## Cleaning the data in Product type column"
   ]
  },
  {
   "cell_type": "code",
   "execution_count": 30,
   "id": "5c6a8a32",
   "metadata": {},
   "outputs": [
    {
     "data": {
      "text/plain": [
       "[]                                                                                                                                                                                                                                                                                                                                                                                          33001\n",
       "[Laser Printer Drums & Toner]                                                                                                                                                                                                                                                                                                                                                               15823\n",
       "[Inkjet Printer Ink]                                                                                                                                                                                                                                                                                                                                                                        13487\n",
       "[Mouse Pads & Wrist Rests, Mouse Pads]                                                                                                                                                                                                                                                                                                                                                      13362\n",
       "[Cards & Card Stock, Greeting Cards]                                                                                                                                                                                                                                                                                                                                                        11156\n",
       "                                                                                                                                                                                                                                                                                                                                                                                            ...  \n",
       "[Book & Bible Covers, Bible Covers, Denier canvas, Stylish basic bible cover in Black color., Quality made of 600 Denier canvas., Features custom zipper pull, clear interior pocket and 4 pens/highlighter loops., Sewn-in ribbon bookmark featuring Joshua 1:8., XL measures: 7.25\" x 10.125\" x 2.25\".]                                                                                       1\n",
       "[Money Handling Products, Cash Bags, Suitable for: Lady. Pattern : Pure, Type: Regular, Material: Metallic, Silicone, Package Content : 1 x Silicone Purse]                                                                                                                                                                                                                                     1\n",
       "[Postal Scales, BRIGHT BLUE LCD DISPLAY Stainless Steel Platform, (You may receive the DW-600BX digital scale in place of the one in this listing.), Capacity: 1000 g / 35.2 oz / 32 ozt / 15430 gn / 5000 ct / 643 dwt, Accuracy: 0.1 Gram / 0.005 Ounce / 0.005 Troy Ounce / 1 Grain / 0.5 Carat / 0.1 Penny Weight, Up for sale is a Brand New Digiweigh 1000BX Digital Weight Scale]        1\n",
       "[Key Tags & Chains, Hand Cut And Assembled, Full Grain leather, Stainless Steel Screws, Size: 8 Inches Long, Trigger Snap Clip and Split Ring for Keys]                                                                                                                                                                                                                                         1\n",
       "[Video Projector Accessories, Lamps, Plastic Genie Lamp]                                                                                                                                                                                                                                                                                                                                        1\n",
       "Name: product_type, Length: 2219, dtype: int64"
      ]
     },
     "execution_count": 30,
     "metadata": {},
     "output_type": "execute_result"
    }
   ],
   "source": [
    "off_meta.product_type.value_counts()"
   ]
  },
  {
   "cell_type": "code",
   "execution_count": 31,
   "id": "49643038",
   "metadata": {
    "scrolled": false
   },
   "outputs": [
    {
     "data": {
      "text/plain": [
       "['Pens and Refills']                                                                                                                                          20649\n",
       "['Cards and Card Stock']                                                                                                                                      16317\n",
       "['Laser Printer Drums and Toner']                                                                                                                             16240\n",
       "['Mouse Pads and Wrist Rests']                                                                                                                                15333\n",
       "['Inkjet Printer Ink']                                                                                                                                        13489\n",
       "                                                                                                                                                              ...  \n",
       "['Soft synthetic leather wallet with canvas liner; lightweight, durable and fashionable']                                                                         1\n",
       "['Business Name Card Holder Steel Faux Leather Wrap Case']                                                                                                        1\n",
       "[\"Unleash the spirit of the USMC with liberty's toughest defender with the Devil Dogs Ring, a fine jewelry design exclusively from The Bradford Exchange\"]        1\n",
       "['Large Main Zipper Compartment; Front Easy Access Pocket']                                                                                                       1\n",
       "['Notebook refill']                                                                                                                                               1\n",
       "Name: product_type, Length: 291, dtype: int64"
      ]
     },
     "execution_count": 31,
     "metadata": {},
     "output_type": "execute_result"
    }
   ],
   "source": [
    "a = off_meta.product_type\n",
    "prod = []\n",
    "for i in a:\n",
    "    i = i[0:1]\n",
    "    i = str(i)\n",
    "    i = i.replace(\"&\",'and')\n",
    "    i = i.replace(\"andamp;\",'and')\n",
    "    prod.append(i)\n",
    "\n",
    "# prod = pd.DataFrame(prod)\n",
    "# prod.value_counts()\n",
    "off_meta['product_type'] = prod\n",
    "off_meta['product_type'] = off_meta['product_type'].replace(\"[]\", np.nan)\n",
    "\n",
    "off_meta['product_type'] .value_counts()"
   ]
  },
  {
   "cell_type": "code",
   "execution_count": 32,
   "id": "1cae3762",
   "metadata": {},
   "outputs": [],
   "source": [
    "off_meta['product_type'] = off_meta['product_type'].replace(\"['</span></span></span>']\", np.nan)"
   ]
  },
  {
   "cell_type": "code",
   "execution_count": 33,
   "id": "91b4ae1b",
   "metadata": {
    "scrolled": true
   },
   "outputs": [
    {
     "data": {
      "text/html": [
       "<div>\n",
       "<style scoped>\n",
       "    .dataframe tbody tr th:only-of-type {\n",
       "        vertical-align: middle;\n",
       "    }\n",
       "\n",
       "    .dataframe tbody tr th {\n",
       "        vertical-align: top;\n",
       "    }\n",
       "\n",
       "    .dataframe thead th {\n",
       "        text-align: right;\n",
       "    }\n",
       "</style>\n",
       "<table border=\"1\" class=\"dataframe\">\n",
       "  <thead>\n",
       "    <tr style=\"text-align: right;\">\n",
       "      <th></th>\n",
       "      <th>category</th>\n",
       "      <th>title</th>\n",
       "      <th>also_buy</th>\n",
       "      <th>brand</th>\n",
       "      <th>rank</th>\n",
       "      <th>also_view</th>\n",
       "      <th>main_cat</th>\n",
       "      <th>price</th>\n",
       "      <th>asin</th>\n",
       "      <th>details</th>\n",
       "      <th>primary_category</th>\n",
       "      <th>sub_cat</th>\n",
       "      <th>product_type</th>\n",
       "    </tr>\n",
       "  </thead>\n",
       "  <tbody>\n",
       "    <tr>\n",
       "      <th>0</th>\n",
       "      <td>[Office Products, Office &amp; School Supplies, Ed...</td>\n",
       "      <td>Sequential Spelling Level 1 Bundle with Studen...</td>\n",
       "      <td>[]</td>\n",
       "      <td>STL Distributors</td>\n",
       "      <td>[&gt;#439,654 in Office Products (See top 100), &gt;...</td>\n",
       "      <td>[1935943065, 1935943073, B00IJH9Q4M, 002115021...</td>\n",
       "      <td>Office Products</td>\n",
       "      <td>$32.90</td>\n",
       "      <td>0012624861</td>\n",
       "      <td>NaN</td>\n",
       "      <td>['Office  and School Supplies']</td>\n",
       "      <td>['Education  and Crafts']</td>\n",
       "      <td>['Early Childhood Education Materials']</td>\n",
       "    </tr>\n",
       "    <tr>\n",
       "      <th>1</th>\n",
       "      <td>[Office Products, Office &amp;amp; School Supplies...</td>\n",
       "      <td>Mathematics, Applications and Concepts, Course...</td>\n",
       "      <td>[]</td>\n",
       "      <td>bailey</td>\n",
       "      <td>3,839,628 in Books (</td>\n",
       "      <td>[]</td>\n",
       "      <td>Books</td>\n",
       "      <td>$8.62</td>\n",
       "      <td>0078652669</td>\n",
       "      <td>NaN</td>\n",
       "      <td>['Office  and School Supplies']</td>\n",
       "      <td>['Education  and Crafts']</td>\n",
       "      <td>NaN</td>\n",
       "    </tr>\n",
       "    <tr>\n",
       "      <th>2</th>\n",
       "      <td>[]</td>\n",
       "      <td>Pearson MyHistoryLab Online Access Code for Am...</td>\n",
       "      <td>[]</td>\n",
       "      <td>Pearson MyHistoryLab</td>\n",
       "      <td>[&gt;#1,925,354 in Office Products (See top 100)]</td>\n",
       "      <td>[]</td>\n",
       "      <td>Office Products</td>\n",
       "      <td>$0.99</td>\n",
       "      <td>0136039847</td>\n",
       "      <td>NaN</td>\n",
       "      <td>['Office  and School Supplies']</td>\n",
       "      <td>['Paper']</td>\n",
       "      <td>NaN</td>\n",
       "    </tr>\n",
       "    <tr>\n",
       "      <th>3</th>\n",
       "      <td>[Office Products, Office &amp; School Supplies, Ed...</td>\n",
       "      <td>A Pocket for Corduroy</td>\n",
       "      <td>[0140501738, 0448421917, 0670063428, 042528875...</td>\n",
       "      <td>Ingram Book &amp; Distributor</td>\n",
       "      <td>[&gt;#422,894 in Office Products (See top 100), &gt;...</td>\n",
       "      <td>[0140501738]</td>\n",
       "      <td>Office Products</td>\n",
       "      <td>$0.95</td>\n",
       "      <td>0140503528</td>\n",
       "      <td>NaN</td>\n",
       "      <td>['Office  and School Supplies']</td>\n",
       "      <td>['Education  and Crafts']</td>\n",
       "      <td>['Early Childhood Education Materials']</td>\n",
       "    </tr>\n",
       "    <tr>\n",
       "      <th>4</th>\n",
       "      <td>[Office Products, Office &amp; School Supplies, Ed...</td>\n",
       "      <td>Social Entrepreneurship: What Everyone Needs t...</td>\n",
       "      <td>[0195334760, 1613630328, 1422104060, 158648956...</td>\n",
       "      <td>Visit Amazon's David Bornstein Page</td>\n",
       "      <td>110,732 in Books (</td>\n",
       "      <td>[0195334760, 1586489569, 1613630328, 142210406...</td>\n",
       "      <td>Books</td>\n",
       "      <td></td>\n",
       "      <td>0195396332</td>\n",
       "      <td>NaN</td>\n",
       "      <td>['Office  and School Supplies']</td>\n",
       "      <td>['Education  and Crafts']</td>\n",
       "      <td>NaN</td>\n",
       "    </tr>\n",
       "  </tbody>\n",
       "</table>\n",
       "</div>"
      ],
      "text/plain": [
       "                                            category  \\\n",
       "0  [Office Products, Office & School Supplies, Ed...   \n",
       "1  [Office Products, Office &amp; School Supplies...   \n",
       "2                                                 []   \n",
       "3  [Office Products, Office & School Supplies, Ed...   \n",
       "4  [Office Products, Office & School Supplies, Ed...   \n",
       "\n",
       "                                               title  \\\n",
       "0  Sequential Spelling Level 1 Bundle with Studen...   \n",
       "1  Mathematics, Applications and Concepts, Course...   \n",
       "2  Pearson MyHistoryLab Online Access Code for Am...   \n",
       "3                              A Pocket for Corduroy   \n",
       "4  Social Entrepreneurship: What Everyone Needs t...   \n",
       "\n",
       "                                            also_buy  \\\n",
       "0                                                 []   \n",
       "1                                                 []   \n",
       "2                                                 []   \n",
       "3  [0140501738, 0448421917, 0670063428, 042528875...   \n",
       "4  [0195334760, 1613630328, 1422104060, 158648956...   \n",
       "\n",
       "                                 brand  \\\n",
       "0                     STL Distributors   \n",
       "1                               bailey   \n",
       "2                 Pearson MyHistoryLab   \n",
       "3            Ingram Book & Distributor   \n",
       "4  Visit Amazon's David Bornstein Page   \n",
       "\n",
       "                                                rank  \\\n",
       "0  [>#439,654 in Office Products (See top 100), >...   \n",
       "1                               3,839,628 in Books (   \n",
       "2     [>#1,925,354 in Office Products (See top 100)]   \n",
       "3  [>#422,894 in Office Products (See top 100), >...   \n",
       "4                                 110,732 in Books (   \n",
       "\n",
       "                                           also_view         main_cat   price  \\\n",
       "0  [1935943065, 1935943073, B00IJH9Q4M, 002115021...  Office Products  $32.90   \n",
       "1                                                 []            Books   $8.62   \n",
       "2                                                 []  Office Products   $0.99   \n",
       "3                                       [0140501738]  Office Products   $0.95   \n",
       "4  [0195334760, 1586489569, 1613630328, 142210406...            Books           \n",
       "\n",
       "         asin details                 primary_category  \\\n",
       "0  0012624861     NaN  ['Office  and School Supplies']   \n",
       "1  0078652669     NaN  ['Office  and School Supplies']   \n",
       "2  0136039847     NaN  ['Office  and School Supplies']   \n",
       "3  0140503528     NaN  ['Office  and School Supplies']   \n",
       "4  0195396332     NaN  ['Office  and School Supplies']   \n",
       "\n",
       "                     sub_cat                             product_type  \n",
       "0  ['Education  and Crafts']  ['Early Childhood Education Materials']  \n",
       "1  ['Education  and Crafts']                                      NaN  \n",
       "2                  ['Paper']                                      NaN  \n",
       "3  ['Education  and Crafts']  ['Early Childhood Education Materials']  \n",
       "4  ['Education  and Crafts']                                      NaN  "
      ]
     },
     "execution_count": 33,
     "metadata": {},
     "output_type": "execute_result"
    }
   ],
   "source": [
    "off_meta.head()"
   ]
  },
  {
   "cell_type": "markdown",
   "id": "1e76c29b",
   "metadata": {},
   "source": [
    "## Consolidated list for also buy asin"
   ]
  },
  {
   "cell_type": "code",
   "execution_count": 34,
   "id": "7a6f7bb5",
   "metadata": {},
   "outputs": [
    {
     "data": {
      "text/plain": [
       "B0722L14L3    6340\n",
       "B072FVQNWM    5885\n",
       "B002MGJZRE    5607\n",
       "B00006JNNE    4913\n",
       "B000PU1LIU    4337\n",
       "              ... \n",
       "B00JONJNV6       1\n",
       "B00JOQCA90       1\n",
       "B00JOQGP14       1\n",
       "B00JOQKO66       1\n",
       "B00OZ7G7XS       1\n",
       "Length: 359513, dtype: int64"
      ]
     },
     "execution_count": 34,
     "metadata": {},
     "output_type": "execute_result"
    }
   ],
   "source": [
    "alsobuy = off_meta.also_buy\n",
    "buy = []\n",
    "for lst in alsobuy:\n",
    "    for i in lst:\n",
    "        buy.append(i)\n",
    "        \n",
    "buy\n",
    "buy = pd.DataFrame(buy)\n",
    "buy.value_counts()"
   ]
  },
  {
   "cell_type": "markdown",
   "id": "0d4a6a99",
   "metadata": {},
   "source": [
    "## Consolidated list for also view asin"
   ]
  },
  {
   "cell_type": "code",
   "execution_count": 35,
   "id": "77657565",
   "metadata": {},
   "outputs": [
    {
     "data": {
      "text/plain": [
       "B00KRPFD96    598\n",
       "B01HXMJ14S    558\n",
       "B00RN08584    548\n",
       "B071GQB94T    529\n",
       "B0763WDSYZ    522\n",
       "             ... \n",
       "B01M8QYH9V      1\n",
       "B01M8QZ712      1\n",
       "B00AAHL6E2      1\n",
       "B01M97MO1H      1\n",
       "0000000077      1\n",
       "Length: 404090, dtype: int64"
      ]
     },
     "execution_count": 35,
     "metadata": {},
     "output_type": "execute_result"
    }
   ],
   "source": [
    "alsoview = off_meta.also_view\n",
    "view = []\n",
    "for lst in alsoview:\n",
    "    for i in lst:\n",
    "        view.append(i)\n",
    "        \n",
    "view = pd.DataFrame(view)\n",
    "view.value_counts()"
   ]
  },
  {
   "cell_type": "markdown",
   "id": "0d5852de",
   "metadata": {},
   "source": [
    "## Checking if asin and primary category has any relation / dependency"
   ]
  },
  {
   "cell_type": "code",
   "execution_count": 36,
   "id": "ef95f355",
   "metadata": {
    "scrolled": true
   },
   "outputs": [
    {
     "data": {
      "text/plain": [
       "B0000    4351\n",
       "B0006    1755\n",
       "B004E    1433\n",
       "B000F    1027\n",
       "B00BT    1023\n",
       "         ... \n",
       "16156       1\n",
       "16159       1\n",
       "16166       1\n",
       "16170       1\n",
       "00126       1\n",
       "Length: 2768, dtype: int64"
      ]
     },
     "execution_count": 36,
     "metadata": {},
     "output_type": "execute_result"
    }
   ],
   "source": [
    "a = off_meta.asin[off_meta['primary_category']==\"['Office  and School Supplies']\"]\n",
    "b = []\n",
    "for i in a:\n",
    "    i = str(i)\n",
    "    i = i[:5]\n",
    "    b.append(i)\n",
    "\n",
    "b = pd.DataFrame(b)\n",
    "b.value_counts()"
   ]
  },
  {
   "cell_type": "code",
   "execution_count": 37,
   "id": "7d1ac790",
   "metadata": {},
   "outputs": [
    {
     "data": {
      "text/plain": [
       "B0000    2609\n",
       "B00C7     524\n",
       "B0002     521\n",
       "B000F     346\n",
       "B005H     314\n",
       "         ... \n",
       "B0122       1\n",
       "B0121       1\n",
       "B0120       1\n",
       "B011X       1\n",
       "B01HJ       1\n",
       "Length: 1897, dtype: int64"
      ]
     },
     "execution_count": 37,
     "metadata": {},
     "output_type": "execute_result"
    }
   ],
   "source": [
    "a = off_meta.asin[off_meta['primary_category']==\"['Office Electronics']\"]\n",
    "b = []\n",
    "for i in a:\n",
    "    i = str(i)\n",
    "    i = i[:5]\n",
    "    b.append(i)\n",
    "\n",
    "b = pd.DataFrame(b)\n",
    "b.value_counts()"
   ]
  },
  {
   "cell_type": "code",
   "execution_count": 38,
   "id": "4782a92d",
   "metadata": {
    "scrolled": true
   },
   "outputs": [
    {
     "data": {
      "text/plain": [
       "B0000    139\n",
       "B001M     86\n",
       "B000V     65\n",
       "B004I     63\n",
       "B000B     62\n",
       "        ... \n",
       "B00WB      1\n",
       "B00WC      1\n",
       "B00WO      1\n",
       "B01AF      1\n",
       "05456      1\n",
       "Length: 1760, dtype: int64"
      ]
     },
     "execution_count": 38,
     "metadata": {},
     "output_type": "execute_result"
    }
   ],
   "source": [
    "a = off_meta.asin[off_meta['primary_category']==\"['Office Furniture  and Lighting']\"]\n",
    "b = []\n",
    "for i in a:\n",
    "    i = str(i)\n",
    "    i = i[:5]\n",
    "    b.append(i)\n",
    "\n",
    "b = pd.DataFrame(b)\n",
    "b.value_counts()"
   ]
  },
  {
   "cell_type": "markdown",
   "id": "bfe1ff87",
   "metadata": {},
   "source": [
    "## There is no relation of asin with the primary category of the data "
   ]
  },
  {
   "cell_type": "markdown",
   "id": "d3eae57e",
   "metadata": {},
   "source": [
    "## Cleaning Price column "
   ]
  },
  {
   "cell_type": "code",
   "execution_count": 39,
   "id": "954873df",
   "metadata": {},
   "outputs": [
    {
     "data": {
      "text/plain": [
       "                                                                                                                                                                                                                                                                                                                                                                                                                                                                                                                                                                                                                                                                                                                                                                                                                                                                                                                                                                                                                                                                                                                                                                                                                                                                                                                                                                                                                                                                                                                                                                                                                                                                                                                                                                                                                                                                                                                                                                                                                                                                                                                                                                                                                                                                                                                                                                                                                                                                                                                                                                                                                                                                                                                                                                                                                                                                                                                                                                                                                                                                                                                                                                                                                                                                                                                                                                                                                                                                                                                                                                                                                                                                                                                                                                                                                                                                                                                                                                                                                                                                                                                                                                                                                                                                                                                                                                                                                                                                                                                                                                                                                                                                                                                                                                                                                                            138710\n",
       "$9.99                                                                                                                                                                                                                                                                                                                                                                                                                                                                                                                                                                                                                                                                                                                                                                                                                                                                                                                                                                                                                                                                                                                                                                                                                                                                                                                                                                                                                                                                                                                                                                                                                                                                                                                                                                                                                                                                                                                                                                                                                                                                                                                                                                                                                                                                                                                                                                                                                                                                                                                                                                                                                                                                                                                                                                                                                                                                                                                                                                                                                                                                                                                                                                                                                                                                                                                                                                                                                                                                                                                                                                                                                                                                                                                                                                                                                                                                                                                                                                                                                                                                                                                                                                                                                                                                                                                                                                                                                                                                                                                                                                                                                                                                                                                                                                                                                                         4015\n",
       "$8.99                                                                                                                                                                                                                                                                                                                                                                                                                                                                                                                                                                                                                                                                                                                                                                                                                                                                                                                                                                                                                                                                                                                                                                                                                                                                                                                                                                                                                                                                                                                                                                                                                                                                                                                                                                                                                                                                                                                                                                                                                                                                                                                                                                                                                                                                                                                                                                                                                                                                                                                                                                                                                                                                                                                                                                                                                                                                                                                                                                                                                                                                                                                                                                                                                                                                                                                                                                                                                                                                                                                                                                                                                                                                                                                                                                                                                                                                                                                                                                                                                                                                                                                                                                                                                                                                                                                                                                                                                                                                                                                                                                                                                                                                                                                                                                                                                                         2131\n",
       ".a-box-inner{background-color:#fff}#alohaBuyBoxWidget .selected{background-color:#fffbf3;border-color:#e77600;box-shadow:0 0 3px rgba(228,121,17,.5)}#alohaBuyBoxWidget .contract-not-available{color:gray}#aloha-cart-popover .aloha-cart{height:auto;overflow:hidden}#aloha-cart-popover #aloha-cartInfo{float:left}#aloha-cart-popover #aloha-cart-details{float:right;margin-top:1em}#aloha-cart-popover .deviceContainer{width:160px;float:left;padding-right:10px;border-right:1px solid #ddd}#aloha-cart-popover li:last-child{border-right:0}#aloha-cart-popover .aloha-device-title{height:3em;overflow:hidden}#aloha-cart-popover .aloha-thumbnail-container{height:100px;margin-bottom:1em;text-align:center}#aloha-cart-popover .aloha-price-container{text-align:center}#aloha-cart-popover .aloha-thumbnail-container img{height:inherit}#aloha-cart-popover .aloha-cart{border-top:1px solid #ddd;border-bottom:1px solid #ddd}#aloha-cart-popover #aloha-cart-info{margin-right:0}#alohaBuyBoxWidget .without-contract-subheading{margin-right:0}#aloha-bb-help-nodes .aloha-bb-contract-term-heading{color:gray;font-family:arial;margin-top:.5em;text-align:center;height:.7em;border-bottom:1px solid gray;margin-bottom:1.6em}#aloha-bb-help-nodes .aloha-bb-contract-term-heading span{background-color:#fff;padding:0 10px 0 10px}#alohaAvailabilityUS_feature_div .availability a{text-decoration:none}#alohaPricingWidget a{text-decoration:none}#alohaAvailabilityUS_feature_div .availability{margin-top:-4px;margin-bottom:0}#alohaBuyBoxWidget .select-transaction-alert .a-icon-alert{top:18px;left:3px}#alohaBuyBoxWidget .select-transaction-alert .a-alert-container{padding-left:39px;width:290px}#alohaBuyBoxUS_feature_div #alohaBuyBoxWidget .contract-container .contract-term-heading a{text-decoration:none}#alohaBuyBoxUS_feature_div #alohaBuyBoxWidget .annual-contract-box .a-icon-popover{display:none}#alohaBuyBoxUS_feature_div #alohaBuyBoxWidget .contract-container .annual-contract-box{cursor:pointer;cursor:hand}#alohaBuyBoxUS_feature_div #alohaBuyBoxWidget .aloha-buybox-price{font-size:15px}#alohaBuyBoxUS_feature_div #alohaBuyBoxWidget #linkOffSection a{text-decoration:none}#alohaBuyBoxUS_feature_div .lockedUsedBuyboxContainer{padding-left:3.5%}#alohaBuyBoxUS_feature_div .alohaBuyboxUtilsNoWrap{white-space:nowrap}.hidden{display:none}.simo-no-padding{padding:0}.carrier-reviews-cell{padding-left:10px}.carrier-reviews-bordered-cell{border:1px dotted #ccc}.carrier-reviews-selected-cell{background-color:#ffd}#aloha-carrier-compatibility-modal-table-description{margin-top:10px;margin-bottom:14px}.aloha-carrier-compatibility-sortable-header.carrier{min-width:97px}.aloha-carrier-compatibility-sortable-header.compatibility{min-width:156px}.aloha-carrier-compatibility-sortable-header div{float:left}.aloha-carrier-compatibility-sortable-header i.a-icon{margin-left:10px;margin-top:4px}#aloha-carrier-compatibility-overview-table.a-bordered.a-vertical-stripes td:nth-child(2n),#aloha-carrier-compatibility-overview-table.a-bordered.a-vertical-stripes th:nth-child(2n){background-color:initial}#aloha-carrier-compatibility-modal-table.a-bordered.a-vertical-stripes td:nth-child(2n),#aloha-carrier-compatibility-modal-table.a-bordered.a-vertical-stripes th:nth-child(2n){background-color:initial}#aloha-carrier-compatibility-table.a-bordered.a-vertical-stripes th:nth-child(2n),.aloha-carrier-compatibility-table.a-bordered.a-vertical-stripes td:nth-child(2n){background-color:transparent}.aloha-carrier-compatibility-column-gray{background-color:#f6f6f6}.aloha-carrier-compatibility-modal-table-row .aloha-carrier-compatibility-tech-text,.aloha-carrier-compatibility-modal-table-row .carrier-name,.aloha-carrier-compatibility-modal-table-row .carrier-rating-summary{min-height:27px;display:inline-block;cursor:default}.aloha-carrier-compatibility-modal-table-row .aloha-carrier-compatibility-tech-text:first-line,.aloha-carrier-compatibility-modal-table-row .carrier-name:first-line,.aloha-carrier-compatibility-modal-table-row .carrier-rating-summary:first-line{line-height:27px}.aloha-carrier-compatibility-modal-table-row .aloha-carrier-compatibility-icon{margin-top:6px}.aloha-carrier-compatibility-check-icon{width:30px;height:27px;background-position:-318px -35px;background-image:url(https://images-na.ssl-images-amazon.com/images/G/01/AUIClients/AmazonUIBaseCSS-sprite_2x-8e7ef370dc28a214b3f490c9620f4ac501d5a864._V2_.png);background-repeat:no-repeat;background-size:400px 650px;display:inline-block;vertical-align:top}.aloha-carrier-compatibility-hidden{display:none}.aloha-buybox-spaced-link{margin-top:12px;margin-bottom:7px;text-align:center}.popover-tab      2127\n",
       "$5.99                                                                                                                                                                                                                                                                                                                                                                                                                                                                                                                                                                                                                                                                                                                                                                                                                                                                                                                                                                                                                                                                                                                                                                                                                                                                                                                                                                                                                                                                                                                                                                                                                                                                                                                                                                                                                                                                                                                                                                                                                                                                                                                                                                                                                                                                                                                                                                                                                                                                                                                                                                                                                                                                                                                                                                                                                                                                                                                                                                                                                                                                                                                                                                                                                                                                                                                                                                                                                                                                                                                                                                                                                                                                                                                                                                                                                                                                                                                                                                                                                                                                                                                                                                                                                                                                                                                                                                                                                                                                                                                                                                                                                                                                                                                                                                                                                                         2054\n",
       "                                                                                                                                                                                                                                                                                                                                                                                                                                                                                                                                                                                                                                                                                                                                                                                                                                                                                                                                                                                                                                                                                                                                                                                                                                                                                                                                                                                                                                                                                                                                                                                                                                                                                                                                                                                                                                                                                                                                                                                                                                                                                                                                                                                                                                                                                                                                                                                                                                                                                                                                                                                                                                                                                                                                                                                                                                                                                                                                                                                                                                                                                                                                                                                                                                                                                                                                                                                                                                                                                                                                                                                                                                                                                                                                                                                                                                                                                                                                                                                                                                                                                                                                                                                                                                                                                                                                                                                                                                                                                                                                                                                                                                                                                                                                                                                                                                             ...  \n",
       "$515.99                                                                                                                                                                                                                                                                                                                                                                                                                                                                                                                                                                                                                                                                                                                                                                                                                                                                                                                                                                                                                                                                                                                                                                                                                                                                                                                                                                                                                                                                                                                                                                                                                                                                                                                                                                                                                                                                                                                                                                                                                                                                                                                                                                                                                                                                                                                                                                                                                                                                                                                                                                                                                                                                                                                                                                                                                                                                                                                                                                                                                                                                                                                                                                                                                                                                                                                                                                                                                                                                                                                                                                                                                                                                                                                                                                                                                                                                                                                                                                                                                                                                                                                                                                                                                                                                                                                                                                                                                                                                                                                                                                                                                                                                                                                                                                                                                                          1\n",
       "$119.39                                                                                                                                                                                                                                                                                                                                                                                                                                                                                                                                                                                                                                                                                                                                                                                                                                                                                                                                                                                                                                                                                                                                                                                                                                                                                                                                                                                                                                                                                                                                                                                                                                                                                                                                                                                                                                                                                                                                                                                                                                                                                                                                                                                                                                                                                                                                                                                                                                                                                                                                                                                                                                                                                                                                                                                                                                                                                                                                                                                                                                                                                                                                                                                                                                                                                                                                                                                                                                                                                                                                                                                                                                                                                                                                                                                                                                                                                                                                                                                                                                                                                                                                                                                                                                                                                                                                                                                                                                                                                                                                                                                                                                                                                                                                                                                                                                          1\n",
       "$83.75                                                                                                                                                                                                                                                                                                                                                                                                                                                                                                                                                                                                                                                                                                                                                                                                                                                                                                                                                                                                                                                                                                                                                                                                                                                                                                                                                                                                                                                                                                                                                                                                                                                                                                                                                                                                                                                                                                                                                                                                                                                                                                                                                                                                                                                                                                                                                                                                                                                                                                                                                                                                                                                                                                                                                                                                                                                                                                                                                                                                                                                                                                                                                                                                                                                                                                                                                                                                                                                                                                                                                                                                                                                                                                                                                                                                                                                                                                                                                                                                                                                                                                                                                                                                                                                                                                                                                                                                                                                                                                                                                                                                                                                                                                                                                                                                                                           1\n",
       "$177.69                                                                                                                                                                                                                                                                                                                                                                                                                                                                                                                                                                                                                                                                                                                                                                                                                                                                                                                                                                                                                                                                                                                                                                                                                                                                                                                                                                                                                                                                                                                                                                                                                                                                                                                                                                                                                                                                                                                                                                                                                                                                                                                                                                                                                                                                                                                                                                                                                                                                                                                                                                                                                                                                                                                                                                                                                                                                                                                                                                                                                                                                                                                                                                                                                                                                                                                                                                                                                                                                                                                                                                                                                                                                                                                                                                                                                                                                                                                                                                                                                                                                                                                                                                                                                                                                                                                                                                                                                                                                                                                                                                                                                                                                                                                                                                                                                                          1\n",
       "$479.53                                                                                                                                                                                                                                                                                                                                                                                                                                                                                                                                                                                                                                                                                                                                                                                                                                                                                                                                                                                                                                                                                                                                                                                                                                                                                                                                                                                                                                                                                                                                                                                                                                                                                                                                                                                                                                                                                                                                                                                                                                                                                                                                                                                                                                                                                                                                                                                                                                                                                                                                                                                                                                                                                                                                                                                                                                                                                                                                                                                                                                                                                                                                                                                                                                                                                                                                                                                                                                                                                                                                                                                                                                                                                                                                                                                                                                                                                                                                                                                                                                                                                                                                                                                                                                                                                                                                                                                                                                                                                                                                                                                                                                                                                                                                                                                                                                          1\n",
       "Name: price, Length: 14275, dtype: int64"
      ]
     },
     "execution_count": 39,
     "metadata": {},
     "output_type": "execute_result"
    }
   ],
   "source": [
    "off_meta.price.value_counts()"
   ]
  },
  {
   "cell_type": "code",
   "execution_count": 40,
   "id": "255939fb",
   "metadata": {},
   "outputs": [
    {
     "data": {
      "text/plain": [
       "0         $32.90\n",
       "1          $8.62\n",
       "2          $0.99\n",
       "3          $0.95\n",
       "4               \n",
       "           ...  \n",
       "306612     $8.00\n",
       "306613     $4.99\n",
       "306614          \n",
       "306615          \n",
       "306616          \n",
       "Name: price, Length: 306617, dtype: object"
      ]
     },
     "execution_count": 40,
     "metadata": {},
     "output_type": "execute_result"
    }
   ],
   "source": [
    "price = []\n",
    "for i in off_meta['price']:\n",
    "    if len(i) < 15:\n",
    "        price.append(i)\n",
    "    else:\n",
    "        i = 0\n",
    "        price.append(i)\n",
    "        \n",
    "off_meta['price'] = pd.DataFrame(price)\n",
    "off_meta['price']"
   ]
  },
  {
   "cell_type": "code",
   "execution_count": 41,
   "id": "8333164c",
   "metadata": {},
   "outputs": [
    {
     "data": {
      "text/plain": [
       "9.990000      4015\n",
       "8.990000      2132\n",
       "5.990000      2054\n",
       "7.990000      2004\n",
       "12.990000     1804\n",
       "              ... \n",
       "100.669998       1\n",
       "172.929993       1\n",
       "266.239990       1\n",
       "69.510002        1\n",
       "479.529999       1\n",
       "Name: price, Length: 14168, dtype: int64"
      ]
     },
     "execution_count": 41,
     "metadata": {},
     "output_type": "execute_result"
    }
   ],
   "source": [
    "off_meta['price'] = off_meta['price'].apply(lambda x : str(x).replace(\"$\",\"\"))\n",
    "\n",
    "off_meta['price'] = off_meta['price'].apply(lambda x : str(x).replace(',',''))\n",
    "\n",
    "off_meta.price[off_meta.price.str.contains(\"-\")] = off_meta.price[off_meta.price.str.contains(\"-\")].apply(lambda i : i.replace(\"-\",'')[0:5])\n",
    "\n",
    "off_meta['price'] = off_meta['price'].replace(\"\",0)\n",
    "\n",
    "off_meta['price'] = off_meta['price'].replace(\"\\n\\n\\n<script\",0)\n",
    "\n",
    "off_meta['price'] = off_meta['price'].apply(lambda i : re.sub('/D','',str(i)))\n",
    "\n",
    "off_meta['price'] = pd.to_numeric(off_meta['price'], downcast=\"float\")\n",
    "\n",
    "off_meta['price'] = off_meta['price'].replace(0,np.nan)\n",
    "off_meta.price.value_counts()"
   ]
  },
  {
   "cell_type": "code",
   "execution_count": 42,
   "id": "325d9f5b",
   "metadata": {},
   "outputs": [
    {
     "data": {
      "text/plain": [
       "0         32.900002\n",
       "1          8.620000\n",
       "2          0.990000\n",
       "3          0.950000\n",
       "4               NaN\n",
       "            ...    \n",
       "306612     8.000000\n",
       "306613     4.990000\n",
       "306614          NaN\n",
       "306615          NaN\n",
       "306616          NaN\n",
       "Name: price, Length: 306617, dtype: float32"
      ]
     },
     "execution_count": 42,
     "metadata": {},
     "output_type": "execute_result"
    }
   ],
   "source": [
    "off_meta['price'] = pd.to_numeric(off_meta['price'])\n",
    "off_meta['price']"
   ]
  },
  {
   "cell_type": "markdown",
   "id": "49e4089e",
   "metadata": {},
   "source": [
    "## Extracting numeric rank from rank column "
   ]
  },
  {
   "cell_type": "code",
   "execution_count": 43,
   "id": "9a7f8522",
   "metadata": {},
   "outputs": [],
   "source": [
    "a = off_meta['rank']\n",
    "\n",
    "rank = []\n",
    "\n",
    "rank_cat = []\n",
    "\n",
    "lst = []\n",
    "\n",
    "for i in a:\n",
    "    i = str(i)\n",
    "    i = i.split(\" in \")[0]\n",
    "    i = i.replace(',','')\n",
    "    i = i.replace(\"['>#\",'')\n",
    "    rank.append(i)\n",
    "    \n",
    "for i in a:\n",
    "    i = str(i)\n",
    "    i = i.split(\" in \")[-1]\n",
    "    i = i.replace(',','')\n",
    "    i = i.replace(' (','')\n",
    "    lst.append(i)\n",
    "\n",
    "for i in lst:\n",
    "    i = str(i)\n",
    "    i = i.split(\" >\")[0]\n",
    "    i = i.split(\" &gt\")[0]\n",
    "    i = i.replace(\"See top 100)']\",\"\")\n",
    "    i = i.replace(\")']\",\"\")\n",
    "    i = i.replace(\"&amp;\",\"\")\n",
    "    #i = i.replace(\"&\",\"\")\n",
    "    rank_cat.append(i)"
   ]
  },
  {
   "cell_type": "code",
   "execution_count": 44,
   "id": "f5c65ac4",
   "metadata": {},
   "outputs": [
    {
     "data": {
      "text/plain": [
       "cat                       \n",
       "Office Products               202260\n",
       "Electronics                    51372\n",
       "Home & Kitchen                 15972\n",
       "Computers & Accessories         9793\n",
       "Industrial & Scientific         8210\n",
       "Health & Household              3928\n",
       "Clothing Shoes & Jewelry        2438\n",
       "Books                           2368\n",
       "Arts Crafts & Sewing            1759\n",
       "Sports & Outdoors               1673\n",
       "Tools & Home Improvement        1030\n",
       "Beauty & Personal Care           697\n",
       "Home  Kitchen                    515\n",
       "Pet Supplies                     395\n",
       "CDs & Vinyl                      313\n",
       "Toys & Games                     195\n",
       "Computers  Accessories           168\n",
       "Software                         144\n",
       "Industrial  Scientific           140\n",
       "Health  Household                101\n",
       "Arts Crafts  Sewing               82\n",
       "Patio Lawn & Garden               73\n",
       "Movies & TV                       63\n",
       "Sports  Outdoors                  46\n",
       "Tools  Home Improvement           40\n",
       "Clothing Shoes  Jewelry           39\n",
       "Cell Phones & Accessories         34\n",
       "CDs  Vinyl                        26\n",
       "Automotive                        16\n",
       "Kitchen & Dining                  13\n",
       "Movies  TV                        11\n",
       "Video Games                       11\n",
       "Beauty  Personal Care             11\n",
       "Gift Cards                        10\n",
       "Toys  Games                       10\n",
       "Amazon Launchpad                  10\n",
       "Baby                               6\n",
       "Grocery & Gourmet Food             5\n",
       "Kindle Store                       4\n",
       "Musical Instruments                3\n",
       "Camera & Photo                     3\n",
       "Patio Lawn  Garden                 2\n",
       "Entertainment Collectibles         2\n",
       "Collectible Coins                  1\n",
       "Cell Phones  Accessories           1\n",
       "Camera  Photo                      1\n",
       "dtype: int64"
      ]
     },
     "execution_count": 44,
     "metadata": {},
     "output_type": "execute_result"
    }
   ],
   "source": [
    "rank_cat = pd.DataFrame(rank_cat)\n",
    "rank_cat.rename(columns = {0:'cat'}, inplace = True)\n",
    "rank_cat.cat = rank_cat.cat.replace(\"[]\",np.nan)\n",
    "rank_cat.value_counts()"
   ]
  },
  {
   "cell_type": "code",
   "execution_count": 45,
   "id": "69c9480c",
   "metadata": {
    "scrolled": true
   },
   "outputs": [
    {
     "data": {
      "text/html": [
       "<div>\n",
       "<style scoped>\n",
       "    .dataframe tbody tr th:only-of-type {\n",
       "        vertical-align: middle;\n",
       "    }\n",
       "\n",
       "    .dataframe tbody tr th {\n",
       "        vertical-align: top;\n",
       "    }\n",
       "\n",
       "    .dataframe thead th {\n",
       "        text-align: right;\n",
       "    }\n",
       "</style>\n",
       "<table border=\"1\" class=\"dataframe\">\n",
       "  <thead>\n",
       "    <tr style=\"text-align: right;\">\n",
       "      <th></th>\n",
       "      <th>category</th>\n",
       "      <th>title</th>\n",
       "      <th>also_buy</th>\n",
       "      <th>brand</th>\n",
       "      <th>rank</th>\n",
       "      <th>also_view</th>\n",
       "      <th>main_cat</th>\n",
       "      <th>price</th>\n",
       "      <th>asin</th>\n",
       "      <th>details</th>\n",
       "      <th>primary_category</th>\n",
       "      <th>sub_cat</th>\n",
       "      <th>product_type</th>\n",
       "      <th>rank_cat</th>\n",
       "    </tr>\n",
       "  </thead>\n",
       "  <tbody>\n",
       "    <tr>\n",
       "      <th>0</th>\n",
       "      <td>[Office Products, Office &amp; School Supplies, Ed...</td>\n",
       "      <td>Sequential Spelling Level 1 Bundle with Studen...</td>\n",
       "      <td>[]</td>\n",
       "      <td>STL Distributors</td>\n",
       "      <td>439654</td>\n",
       "      <td>[1935943065, 1935943073, B00IJH9Q4M, 002115021...</td>\n",
       "      <td>Office Products</td>\n",
       "      <td>32.900002</td>\n",
       "      <td>0012624861</td>\n",
       "      <td>NaN</td>\n",
       "      <td>['Office  and School Supplies']</td>\n",
       "      <td>['Education  and Crafts']</td>\n",
       "      <td>['Early Childhood Education Materials']</td>\n",
       "      <td>Office Products</td>\n",
       "    </tr>\n",
       "    <tr>\n",
       "      <th>1</th>\n",
       "      <td>[Office Products, Office &amp;amp; School Supplies...</td>\n",
       "      <td>Mathematics, Applications and Concepts, Course...</td>\n",
       "      <td>[]</td>\n",
       "      <td>bailey</td>\n",
       "      <td>3839628</td>\n",
       "      <td>[]</td>\n",
       "      <td>Books</td>\n",
       "      <td>8.620000</td>\n",
       "      <td>0078652669</td>\n",
       "      <td>NaN</td>\n",
       "      <td>['Office  and School Supplies']</td>\n",
       "      <td>['Education  and Crafts']</td>\n",
       "      <td>NaN</td>\n",
       "      <td>Books</td>\n",
       "    </tr>\n",
       "    <tr>\n",
       "      <th>2</th>\n",
       "      <td>[]</td>\n",
       "      <td>Pearson MyHistoryLab Online Access Code for Am...</td>\n",
       "      <td>[]</td>\n",
       "      <td>Pearson MyHistoryLab</td>\n",
       "      <td>1925354</td>\n",
       "      <td>[]</td>\n",
       "      <td>Office Products</td>\n",
       "      <td>0.990000</td>\n",
       "      <td>0136039847</td>\n",
       "      <td>NaN</td>\n",
       "      <td>['Office  and School Supplies']</td>\n",
       "      <td>['Paper']</td>\n",
       "      <td>NaN</td>\n",
       "      <td>Office Products</td>\n",
       "    </tr>\n",
       "    <tr>\n",
       "      <th>3</th>\n",
       "      <td>[Office Products, Office &amp; School Supplies, Ed...</td>\n",
       "      <td>A Pocket for Corduroy</td>\n",
       "      <td>[0140501738, 0448421917, 0670063428, 042528875...</td>\n",
       "      <td>Ingram Book &amp; Distributor</td>\n",
       "      <td>422894</td>\n",
       "      <td>[0140501738]</td>\n",
       "      <td>Office Products</td>\n",
       "      <td>0.950000</td>\n",
       "      <td>0140503528</td>\n",
       "      <td>NaN</td>\n",
       "      <td>['Office  and School Supplies']</td>\n",
       "      <td>['Education  and Crafts']</td>\n",
       "      <td>['Early Childhood Education Materials']</td>\n",
       "      <td>Office Products</td>\n",
       "    </tr>\n",
       "    <tr>\n",
       "      <th>4</th>\n",
       "      <td>[Office Products, Office &amp; School Supplies, Ed...</td>\n",
       "      <td>Social Entrepreneurship: What Everyone Needs t...</td>\n",
       "      <td>[0195334760, 1613630328, 1422104060, 158648956...</td>\n",
       "      <td>Visit Amazon's David Bornstein Page</td>\n",
       "      <td>110732</td>\n",
       "      <td>[0195334760, 1586489569, 1613630328, 142210406...</td>\n",
       "      <td>Books</td>\n",
       "      <td>NaN</td>\n",
       "      <td>0195396332</td>\n",
       "      <td>NaN</td>\n",
       "      <td>['Office  and School Supplies']</td>\n",
       "      <td>['Education  and Crafts']</td>\n",
       "      <td>NaN</td>\n",
       "      <td>Books</td>\n",
       "    </tr>\n",
       "  </tbody>\n",
       "</table>\n",
       "</div>"
      ],
      "text/plain": [
       "                                            category  \\\n",
       "0  [Office Products, Office & School Supplies, Ed...   \n",
       "1  [Office Products, Office &amp; School Supplies...   \n",
       "2                                                 []   \n",
       "3  [Office Products, Office & School Supplies, Ed...   \n",
       "4  [Office Products, Office & School Supplies, Ed...   \n",
       "\n",
       "                                               title  \\\n",
       "0  Sequential Spelling Level 1 Bundle with Studen...   \n",
       "1  Mathematics, Applications and Concepts, Course...   \n",
       "2  Pearson MyHistoryLab Online Access Code for Am...   \n",
       "3                              A Pocket for Corduroy   \n",
       "4  Social Entrepreneurship: What Everyone Needs t...   \n",
       "\n",
       "                                            also_buy  \\\n",
       "0                                                 []   \n",
       "1                                                 []   \n",
       "2                                                 []   \n",
       "3  [0140501738, 0448421917, 0670063428, 042528875...   \n",
       "4  [0195334760, 1613630328, 1422104060, 158648956...   \n",
       "\n",
       "                                 brand     rank  \\\n",
       "0                     STL Distributors   439654   \n",
       "1                               bailey  3839628   \n",
       "2                 Pearson MyHistoryLab  1925354   \n",
       "3            Ingram Book & Distributor   422894   \n",
       "4  Visit Amazon's David Bornstein Page   110732   \n",
       "\n",
       "                                           also_view         main_cat  \\\n",
       "0  [1935943065, 1935943073, B00IJH9Q4M, 002115021...  Office Products   \n",
       "1                                                 []            Books   \n",
       "2                                                 []  Office Products   \n",
       "3                                       [0140501738]  Office Products   \n",
       "4  [0195334760, 1586489569, 1613630328, 142210406...            Books   \n",
       "\n",
       "       price        asin details                 primary_category  \\\n",
       "0  32.900002  0012624861     NaN  ['Office  and School Supplies']   \n",
       "1   8.620000  0078652669     NaN  ['Office  and School Supplies']   \n",
       "2   0.990000  0136039847     NaN  ['Office  and School Supplies']   \n",
       "3   0.950000  0140503528     NaN  ['Office  and School Supplies']   \n",
       "4        NaN  0195396332     NaN  ['Office  and School Supplies']   \n",
       "\n",
       "                     sub_cat                             product_type  \\\n",
       "0  ['Education  and Crafts']  ['Early Childhood Education Materials']   \n",
       "1  ['Education  and Crafts']                                      NaN   \n",
       "2                  ['Paper']                                      NaN   \n",
       "3  ['Education  and Crafts']  ['Early Childhood Education Materials']   \n",
       "4  ['Education  and Crafts']                                      NaN   \n",
       "\n",
       "          rank_cat  \n",
       "0  Office Products  \n",
       "1            Books  \n",
       "2  Office Products  \n",
       "3  Office Products  \n",
       "4            Books  "
      ]
     },
     "execution_count": 45,
     "metadata": {},
     "output_type": "execute_result"
    }
   ],
   "source": [
    "off_meta['rank_cat'] = rank_cat\n",
    "off_meta['rank'] = rank\n",
    "off_meta.head()"
   ]
  },
  {
   "cell_type": "code",
   "execution_count": 46,
   "id": "500150c3",
   "metadata": {},
   "outputs": [
    {
     "data": {
      "text/plain": [
       "46"
      ]
     },
     "execution_count": 46,
     "metadata": {},
     "output_type": "execute_result"
    }
   ],
   "source": [
    "len(off_meta.rank_cat.value_counts())"
   ]
  },
  {
   "cell_type": "code",
   "execution_count": 47,
   "id": "0182c274",
   "metadata": {},
   "outputs": [
    {
     "data": {
      "text/plain": [
       "47"
      ]
     },
     "execution_count": 47,
     "metadata": {},
     "output_type": "execute_result"
    }
   ],
   "source": [
    "len(off_meta.main_cat.value_counts())"
   ]
  },
  {
   "cell_type": "markdown",
   "id": "ec6a27ca",
   "metadata": {},
   "source": [
    "## Since Rank_cat and main_cat is similar we can drop on column out of these two"
   ]
  },
  {
   "cell_type": "code",
   "execution_count": 48,
   "id": "5a1aeb45",
   "metadata": {},
   "outputs": [],
   "source": [
    "off_meta.drop(['category','rank_cat'], axis = 1, inplace = True)"
   ]
  },
  {
   "cell_type": "code",
   "execution_count": 49,
   "id": "bfa5944f",
   "metadata": {
    "scrolled": true
   },
   "outputs": [
    {
     "data": {
      "text/html": [
       "<div>\n",
       "<style scoped>\n",
       "    .dataframe tbody tr th:only-of-type {\n",
       "        vertical-align: middle;\n",
       "    }\n",
       "\n",
       "    .dataframe tbody tr th {\n",
       "        vertical-align: top;\n",
       "    }\n",
       "\n",
       "    .dataframe thead th {\n",
       "        text-align: right;\n",
       "    }\n",
       "</style>\n",
       "<table border=\"1\" class=\"dataframe\">\n",
       "  <thead>\n",
       "    <tr style=\"text-align: right;\">\n",
       "      <th></th>\n",
       "      <th>title</th>\n",
       "      <th>also_buy</th>\n",
       "      <th>brand</th>\n",
       "      <th>rank</th>\n",
       "      <th>also_view</th>\n",
       "      <th>main_cat</th>\n",
       "      <th>price</th>\n",
       "      <th>asin</th>\n",
       "      <th>details</th>\n",
       "      <th>primary_category</th>\n",
       "      <th>sub_cat</th>\n",
       "      <th>product_type</th>\n",
       "    </tr>\n",
       "  </thead>\n",
       "  <tbody>\n",
       "    <tr>\n",
       "      <th>0</th>\n",
       "      <td>Sequential Spelling Level 1 Bundle with Studen...</td>\n",
       "      <td>[]</td>\n",
       "      <td>STL Distributors</td>\n",
       "      <td>439654</td>\n",
       "      <td>[1935943065, 1935943073, B00IJH9Q4M, 002115021...</td>\n",
       "      <td>Office Products</td>\n",
       "      <td>32.900002</td>\n",
       "      <td>0012624861</td>\n",
       "      <td>NaN</td>\n",
       "      <td>['Office  and School Supplies']</td>\n",
       "      <td>['Education  and Crafts']</td>\n",
       "      <td>['Early Childhood Education Materials']</td>\n",
       "    </tr>\n",
       "    <tr>\n",
       "      <th>1</th>\n",
       "      <td>Mathematics, Applications and Concepts, Course...</td>\n",
       "      <td>[]</td>\n",
       "      <td>bailey</td>\n",
       "      <td>3839628</td>\n",
       "      <td>[]</td>\n",
       "      <td>Books</td>\n",
       "      <td>8.620000</td>\n",
       "      <td>0078652669</td>\n",
       "      <td>NaN</td>\n",
       "      <td>['Office  and School Supplies']</td>\n",
       "      <td>['Education  and Crafts']</td>\n",
       "      <td>NaN</td>\n",
       "    </tr>\n",
       "    <tr>\n",
       "      <th>2</th>\n",
       "      <td>Pearson MyHistoryLab Online Access Code for Am...</td>\n",
       "      <td>[]</td>\n",
       "      <td>Pearson MyHistoryLab</td>\n",
       "      <td>1925354</td>\n",
       "      <td>[]</td>\n",
       "      <td>Office Products</td>\n",
       "      <td>0.990000</td>\n",
       "      <td>0136039847</td>\n",
       "      <td>NaN</td>\n",
       "      <td>['Office  and School Supplies']</td>\n",
       "      <td>['Paper']</td>\n",
       "      <td>NaN</td>\n",
       "    </tr>\n",
       "    <tr>\n",
       "      <th>3</th>\n",
       "      <td>A Pocket for Corduroy</td>\n",
       "      <td>[0140501738, 0448421917, 0670063428, 042528875...</td>\n",
       "      <td>Ingram Book &amp; Distributor</td>\n",
       "      <td>422894</td>\n",
       "      <td>[0140501738]</td>\n",
       "      <td>Office Products</td>\n",
       "      <td>0.950000</td>\n",
       "      <td>0140503528</td>\n",
       "      <td>NaN</td>\n",
       "      <td>['Office  and School Supplies']</td>\n",
       "      <td>['Education  and Crafts']</td>\n",
       "      <td>['Early Childhood Education Materials']</td>\n",
       "    </tr>\n",
       "    <tr>\n",
       "      <th>4</th>\n",
       "      <td>Social Entrepreneurship: What Everyone Needs t...</td>\n",
       "      <td>[0195334760, 1613630328, 1422104060, 158648956...</td>\n",
       "      <td>Visit Amazon's David Bornstein Page</td>\n",
       "      <td>110732</td>\n",
       "      <td>[0195334760, 1586489569, 1613630328, 142210406...</td>\n",
       "      <td>Books</td>\n",
       "      <td>NaN</td>\n",
       "      <td>0195396332</td>\n",
       "      <td>NaN</td>\n",
       "      <td>['Office  and School Supplies']</td>\n",
       "      <td>['Education  and Crafts']</td>\n",
       "      <td>NaN</td>\n",
       "    </tr>\n",
       "  </tbody>\n",
       "</table>\n",
       "</div>"
      ],
      "text/plain": [
       "                                               title  \\\n",
       "0  Sequential Spelling Level 1 Bundle with Studen...   \n",
       "1  Mathematics, Applications and Concepts, Course...   \n",
       "2  Pearson MyHistoryLab Online Access Code for Am...   \n",
       "3                              A Pocket for Corduroy   \n",
       "4  Social Entrepreneurship: What Everyone Needs t...   \n",
       "\n",
       "                                            also_buy  \\\n",
       "0                                                 []   \n",
       "1                                                 []   \n",
       "2                                                 []   \n",
       "3  [0140501738, 0448421917, 0670063428, 042528875...   \n",
       "4  [0195334760, 1613630328, 1422104060, 158648956...   \n",
       "\n",
       "                                 brand     rank  \\\n",
       "0                     STL Distributors   439654   \n",
       "1                               bailey  3839628   \n",
       "2                 Pearson MyHistoryLab  1925354   \n",
       "3            Ingram Book & Distributor   422894   \n",
       "4  Visit Amazon's David Bornstein Page   110732   \n",
       "\n",
       "                                           also_view         main_cat  \\\n",
       "0  [1935943065, 1935943073, B00IJH9Q4M, 002115021...  Office Products   \n",
       "1                                                 []            Books   \n",
       "2                                                 []  Office Products   \n",
       "3                                       [0140501738]  Office Products   \n",
       "4  [0195334760, 1586489569, 1613630328, 142210406...            Books   \n",
       "\n",
       "       price        asin details                 primary_category  \\\n",
       "0  32.900002  0012624861     NaN  ['Office  and School Supplies']   \n",
       "1   8.620000  0078652669     NaN  ['Office  and School Supplies']   \n",
       "2   0.990000  0136039847     NaN  ['Office  and School Supplies']   \n",
       "3   0.950000  0140503528     NaN  ['Office  and School Supplies']   \n",
       "4        NaN  0195396332     NaN  ['Office  and School Supplies']   \n",
       "\n",
       "                     sub_cat                             product_type  \n",
       "0  ['Education  and Crafts']  ['Early Childhood Education Materials']  \n",
       "1  ['Education  and Crafts']                                      NaN  \n",
       "2                  ['Paper']                                      NaN  \n",
       "3  ['Education  and Crafts']  ['Early Childhood Education Materials']  \n",
       "4  ['Education  and Crafts']                                      NaN  "
      ]
     },
     "execution_count": 49,
     "metadata": {},
     "output_type": "execute_result"
    }
   ],
   "source": [
    "off_meta.head()"
   ]
  },
  {
   "cell_type": "code",
   "execution_count": 50,
   "id": "c42e7260",
   "metadata": {},
   "outputs": [
    {
     "data": {
      "text/plain": [
       "0         ['Office  and School Supplies']\n",
       "1         ['Office  and School Supplies']\n",
       "2         ['Office  and School Supplies']\n",
       "3         ['Office  and School Supplies']\n",
       "4         ['Office  and School Supplies']\n",
       "                       ...               \n",
       "306612    ['Office  and School Supplies']\n",
       "306613    ['Office  and School Supplies']\n",
       "306614    ['Office  and School Supplies']\n",
       "306615    ['Office  and School Supplies']\n",
       "306616    ['Office  and School Supplies']\n",
       "Name: primary_category, Length: 306617, dtype: object"
      ]
     },
     "execution_count": 50,
     "metadata": {},
     "output_type": "execute_result"
    }
   ],
   "source": [
    "off_meta['primary_category']"
   ]
  },
  {
   "cell_type": "code",
   "execution_count": 51,
   "id": "1e7f2b84",
   "metadata": {
    "scrolled": true
   },
   "outputs": [
    {
     "data": {
      "text/plain": [
       "0                              ['Education  and Crafts']\n",
       "1                              ['Education  and Crafts']\n",
       "2                                              ['Paper']\n",
       "3                              ['Education  and Crafts']\n",
       "4                              ['Education  and Crafts']\n",
       "                               ...                      \n",
       "306612                   ['Labels, Indexes  and Stamps']\n",
       "306613      ['Forms, Recordkeeping  and Money Handling']\n",
       "306614    ['Desk Accessories  and Workspace Organizers']\n",
       "306615                                         ['Paper']\n",
       "306616              ['Writing  and Correction Supplies']\n",
       "Name: sub_cat, Length: 262836, dtype: object"
      ]
     },
     "execution_count": 51,
     "metadata": {},
     "output_type": "execute_result"
    }
   ],
   "source": [
    "off_meta.sub_cat[off_meta['primary_category'] == \"['Office  and School Supplies']\"]"
   ]
  },
  {
   "cell_type": "code",
   "execution_count": 52,
   "id": "95875a9b",
   "metadata": {},
   "outputs": [],
   "source": [
    "rank = []\n",
    "for i in off_meta['rank']:\n",
    "    i = str(i)\n",
    "    i = i.split(\" \")[0]\n",
    "    i = i.replace(\"['>#\",'')\n",
    "    i = i.replace('[\">#','')\n",
    "    rank.append(i)\n",
    "    \n",
    "off_meta['rank'] = rank  \n",
    "\n",
    "off_meta['rank'] = off_meta['rank'].replace('[]', np.nan)\n",
    "off_meta['rank'] = off_meta['rank'].replace(\"nan\", np.nan)\n",
    "\n",
    "off_meta['rank'] = pd.to_numeric(off_meta['rank'], downcast=\"float\")"
   ]
  },
  {
   "cell_type": "code",
   "execution_count": 53,
   "id": "89afb74f",
   "metadata": {
    "scrolled": true
   },
   "outputs": [
    {
     "data": {
      "text/plain": [
       "2623"
      ]
     },
     "execution_count": 53,
     "metadata": {},
     "output_type": "execute_result"
    }
   ],
   "source": [
    "off_meta['rank'].isnull().sum()"
   ]
  },
  {
   "cell_type": "code",
   "execution_count": 54,
   "id": "7562a14e",
   "metadata": {},
   "outputs": [
    {
     "data": {
      "text/plain": [
       "1656"
      ]
     },
     "execution_count": 54,
     "metadata": {},
     "output_type": "execute_result"
    }
   ],
   "source": [
    "off_meta.price[off_meta['rank'].isnull()].isnull().sum()"
   ]
  },
  {
   "cell_type": "markdown",
   "id": "6d0d4b9c",
   "metadata": {},
   "source": [
    "## more than 60% of the null values in rank has corresponding price is null "
   ]
  },
  {
   "cell_type": "markdown",
   "id": "3960565b",
   "metadata": {},
   "source": [
    "# Cleaning Brand column "
   ]
  },
  {
   "cell_type": "code",
   "execution_count": 55,
   "id": "f5f45548",
   "metadata": {},
   "outputs": [
    {
     "data": {
      "text/plain": [
       "                   4831\n",
       "3dRose             2583\n",
       "AT-A-GLANCE        2311\n",
       "HP                 2106\n",
       "Avery              2092\n",
       "                   ... \n",
       "Sticky Plots          1\n",
       "Linen and Gifts       1\n",
       "Fusion Forms          1\n",
       "A P Products          1\n",
       "SRPC                  1\n",
       "Name: brand, Length: 37976, dtype: int64"
      ]
     },
     "execution_count": 55,
     "metadata": {},
     "output_type": "execute_result"
    }
   ],
   "source": [
    "off_meta.brand.value_counts()"
   ]
  },
  {
   "cell_type": "code",
   "execution_count": 56,
   "id": "e48568ce",
   "metadata": {
    "scrolled": true
   },
   "outputs": [
    {
     "data": {
      "text/plain": [
       "unknown                                          6279\n",
       "3drose                                           2583\n",
       "at-a-glance                                      2330\n",
       "hp                                               2123\n",
       "avery                                            2092\n",
       "                                                 ... \n",
       "springs creative products                           1\n",
       "gt inc                                              1\n",
       "portable laptop desk tray caddy double boards       1\n",
       "bggoodidea                                          1\n",
       "srpc                                                1\n",
       "Name: brand, Length: 36701, dtype: int64"
      ]
     },
     "execution_count": 56,
     "metadata": {},
     "output_type": "execute_result"
    }
   ],
   "source": [
    "off_meta.brand = off_meta.brand.str.lower()\n",
    "off_meta.brand = off_meta.brand.replace(\"\",np.nan)\n",
    "off_meta['brand'] = off_meta['brand'].fillna(\"unknown\")\n",
    "off_meta.brand.value_counts()"
   ]
  },
  {
   "cell_type": "markdown",
   "id": "5e92f1e1",
   "metadata": {},
   "source": [
    "# Details column"
   ]
  },
  {
   "cell_type": "code",
   "execution_count": 57,
   "id": "3a71b301",
   "metadata": {},
   "outputs": [
    {
     "data": {
      "text/plain": [
       "{}                                                                                                                                                                                                                                                                                                                                                                                                                                                                             284561\n",
       "{'Shipping Weight:': '0.3 ounces (', 'ASIN: ': 'B00UY2BJI6', 'Item model number:': 'MBD'}                                                                                                                                                                                                                                                                                                                                                                                          15\n",
       "{'ASIN: ': 'B00AK4QHFI'}                                                                                                                                                                                                                                                                                                                                                                                                                                                            9\n",
       "{'\n",
       "    Item Weight: \n",
       "    ': '1.5 pounds', 'Shipping Weight:': '1.5 pounds (', 'ASIN: ': 'B06Y2K7K84', 'UPC:': '788551053064'}                                                                                                                                                                                                                                                                                                                                                       4\n",
       "{'\n",
       "    Product Dimensions: \n",
       "    ': '14 x 2 x 0.5 inches ; 0.32 ounces', 'Shipping Weight:': '0.3 ounces (', 'ASIN: ': 'B019585BKQ', 'Item model number:': '7.47E+11'}                                                                                                                                                                                                                                                                                                               4\n",
       "                                                                                                                                                                                                                                                                                                                                                                                                                                                                                ...  \n",
       "{'\n",
       "    Product Dimensions: \n",
       "    ': '20 x 1.8 x 26 inches ; 0.32 ounces', 'Shipping Weight:': '1 pounds (', 'ASIN:': 'B00620UYLM', 'Item model number:': '1398166'}                                                                                                                                                                                                                                                                                                                  1\n",
       "{'\n",
       "    Product Dimensions: \n",
       "    ': '36 x 16 x 1 inches ; 2.3 pounds', 'Shipping Weight:': '3.1 pounds (', 'Domestic Shipping: ': 'Currently, item can be shipped only within the U.S. and to APO/FPO addresses. For APO/FPO shipments, please check with the manufacturer regarding warranty and support issues.', 'International Shipping: ': 'This item can be shipped to select countries outside of the U.S.', 'ASIN:': 'B00620VPAG', 'Item model number:': 'FLP37016'}         1\n",
       "{'\n",
       "    Product Dimensions: \n",
       "    ': '11 x 14 x 0.2 inches ; 10 pounds', 'Shipping Weight:': '10 pounds (', 'ASIN:': 'B00620YRW4', 'Item model number:': 'A11140'}                                                                                                                                                                                                                                                                                                                    1\n",
       "{'\n",
       "    Product Dimensions: \n",
       "    ': '20 x 30 x 0.2 inches', 'Shipping Weight:': '15 pounds (', 'ASIN:': 'B00620YYCC', 'Item model number:': '20335-25'}                                                                                                                                                                                                                                                                                                                              1\n",
       "{'Shipping Weight:': '9.1 ounces', 'ASIN: ': 'B01HJARVO6'}                                                                                                                                                                                                                                                                                                                                                                                                                          1\n",
       "Name: details, Length: 14852, dtype: int64"
      ]
     },
     "execution_count": 57,
     "metadata": {},
     "output_type": "execute_result"
    }
   ],
   "source": [
    "off_meta.details.value_counts()"
   ]
  },
  {
   "cell_type": "code",
   "execution_count": 58,
   "id": "c2fe682a",
   "metadata": {},
   "outputs": [],
   "source": [
    "off_meta.drop(['details'], axis = 1, inplace = True)"
   ]
  },
  {
   "cell_type": "code",
   "execution_count": 59,
   "id": "98294c00",
   "metadata": {},
   "outputs": [
    {
     "data": {
      "text/plain": [
       "(306617, 11)"
      ]
     },
     "execution_count": 59,
     "metadata": {},
     "output_type": "execute_result"
    }
   ],
   "source": [
    "off_meta.shape"
   ]
  },
  {
   "cell_type": "code",
   "execution_count": 60,
   "id": "a8d94698",
   "metadata": {
    "scrolled": false
   },
   "outputs": [
    {
     "data": {
      "text/plain": [
       "title                    0\n",
       "also_buy                 0\n",
       "brand                    0\n",
       "rank                  2623\n",
       "also_view                0\n",
       "main_cat                 0\n",
       "price               140964\n",
       "asin                     0\n",
       "primary_category         0\n",
       "sub_cat                  0\n",
       "product_type         33007\n",
       "dtype: int64"
      ]
     },
     "execution_count": 60,
     "metadata": {},
     "output_type": "execute_result"
    }
   ],
   "source": [
    "off_meta.isnull().sum()"
   ]
  },
  {
   "cell_type": "code",
   "execution_count": 61,
   "id": "d413d264",
   "metadata": {},
   "outputs": [
    {
     "data": {
      "text/html": [
       "<div>\n",
       "<style scoped>\n",
       "    .dataframe tbody tr th:only-of-type {\n",
       "        vertical-align: middle;\n",
       "    }\n",
       "\n",
       "    .dataframe tbody tr th {\n",
       "        vertical-align: top;\n",
       "    }\n",
       "\n",
       "    .dataframe thead th {\n",
       "        text-align: right;\n",
       "    }\n",
       "</style>\n",
       "<table border=\"1\" class=\"dataframe\">\n",
       "  <thead>\n",
       "    <tr style=\"text-align: right;\">\n",
       "      <th></th>\n",
       "      <th>title</th>\n",
       "      <th>also_buy</th>\n",
       "      <th>brand</th>\n",
       "      <th>rank</th>\n",
       "      <th>also_view</th>\n",
       "      <th>main_cat</th>\n",
       "      <th>price</th>\n",
       "      <th>asin</th>\n",
       "      <th>primary_category</th>\n",
       "      <th>sub_cat</th>\n",
       "      <th>product_type</th>\n",
       "    </tr>\n",
       "  </thead>\n",
       "  <tbody>\n",
       "    <tr>\n",
       "      <th>0</th>\n",
       "      <td>Sequential Spelling Level 1 Bundle with Studen...</td>\n",
       "      <td>[]</td>\n",
       "      <td>stl distributors</td>\n",
       "      <td>439654.0</td>\n",
       "      <td>[1935943065, 1935943073, B00IJH9Q4M, 002115021...</td>\n",
       "      <td>Office Products</td>\n",
       "      <td>32.900002</td>\n",
       "      <td>0012624861</td>\n",
       "      <td>['Office  and School Supplies']</td>\n",
       "      <td>['Education  and Crafts']</td>\n",
       "      <td>['Early Childhood Education Materials']</td>\n",
       "    </tr>\n",
       "    <tr>\n",
       "      <th>1</th>\n",
       "      <td>Mathematics, Applications and Concepts, Course...</td>\n",
       "      <td>[]</td>\n",
       "      <td>bailey</td>\n",
       "      <td>3839628.0</td>\n",
       "      <td>[]</td>\n",
       "      <td>Books</td>\n",
       "      <td>8.620000</td>\n",
       "      <td>0078652669</td>\n",
       "      <td>['Office  and School Supplies']</td>\n",
       "      <td>['Education  and Crafts']</td>\n",
       "      <td>NaN</td>\n",
       "    </tr>\n",
       "    <tr>\n",
       "      <th>2</th>\n",
       "      <td>Pearson MyHistoryLab Online Access Code for Am...</td>\n",
       "      <td>[]</td>\n",
       "      <td>pearson myhistorylab</td>\n",
       "      <td>1925354.0</td>\n",
       "      <td>[]</td>\n",
       "      <td>Office Products</td>\n",
       "      <td>0.990000</td>\n",
       "      <td>0136039847</td>\n",
       "      <td>['Office  and School Supplies']</td>\n",
       "      <td>['Paper']</td>\n",
       "      <td>NaN</td>\n",
       "    </tr>\n",
       "    <tr>\n",
       "      <th>3</th>\n",
       "      <td>A Pocket for Corduroy</td>\n",
       "      <td>[0140501738, 0448421917, 0670063428, 042528875...</td>\n",
       "      <td>ingram book &amp; distributor</td>\n",
       "      <td>422894.0</td>\n",
       "      <td>[0140501738]</td>\n",
       "      <td>Office Products</td>\n",
       "      <td>0.950000</td>\n",
       "      <td>0140503528</td>\n",
       "      <td>['Office  and School Supplies']</td>\n",
       "      <td>['Education  and Crafts']</td>\n",
       "      <td>['Early Childhood Education Materials']</td>\n",
       "    </tr>\n",
       "    <tr>\n",
       "      <th>4</th>\n",
       "      <td>Social Entrepreneurship: What Everyone Needs t...</td>\n",
       "      <td>[0195334760, 1613630328, 1422104060, 158648956...</td>\n",
       "      <td>visit amazon's david bornstein page</td>\n",
       "      <td>110732.0</td>\n",
       "      <td>[0195334760, 1586489569, 1613630328, 142210406...</td>\n",
       "      <td>Books</td>\n",
       "      <td>NaN</td>\n",
       "      <td>0195396332</td>\n",
       "      <td>['Office  and School Supplies']</td>\n",
       "      <td>['Education  and Crafts']</td>\n",
       "      <td>NaN</td>\n",
       "    </tr>\n",
       "    <tr>\n",
       "      <th>...</th>\n",
       "      <td>...</td>\n",
       "      <td>...</td>\n",
       "      <td>...</td>\n",
       "      <td>...</td>\n",
       "      <td>...</td>\n",
       "      <td>...</td>\n",
       "      <td>...</td>\n",
       "      <td>...</td>\n",
       "      <td>...</td>\n",
       "      <td>...</td>\n",
       "      <td>...</td>\n",
       "    </tr>\n",
       "    <tr>\n",
       "      <th>306612</th>\n",
       "      <td>Nintendo Super Mario Bros. Lanyard with Mario ...</td>\n",
       "      <td>[]</td>\n",
       "      <td>nintendo</td>\n",
       "      <td>439112.0</td>\n",
       "      <td>[B01BF122TY, B06XGMZ2NT, B01MRXB87Q, B019SLVB9...</td>\n",
       "      <td>Automotive</td>\n",
       "      <td>8.000000</td>\n",
       "      <td>B01HJF4C66</td>\n",
       "      <td>['Office  and School Supplies']</td>\n",
       "      <td>['Labels, Indexes  and Stamps']</td>\n",
       "      <td>['Identification Badges and Supplies']</td>\n",
       "    </tr>\n",
       "    <tr>\n",
       "      <th>306613</th>\n",
       "      <td>Lot of 2 - US American Flag &amp;amp; Eagle US Pat...</td>\n",
       "      <td>[B01K452Y5E, B00LMB1YQ0, B018EH7DZU, B01EHJG9M...</td>\n",
       "      <td>nykc</td>\n",
       "      <td>408194.0</td>\n",
       "      <td>[B00LMB1YQ0, B01BCO7ID4, B01JO8H8NA, B00G5WZLK...</td>\n",
       "      <td>Office Products</td>\n",
       "      <td>4.990000</td>\n",
       "      <td>B01HJF5WZQ</td>\n",
       "      <td>['Office  and School Supplies']</td>\n",
       "      <td>['Forms, Recordkeeping  and Money Handling']</td>\n",
       "      <td>['Key Tags and Chains']</td>\n",
       "    </tr>\n",
       "    <tr>\n",
       "      <th>306614</th>\n",
       "      <td>CatchTheWave Natural Wood Pen Holder Folding S...</td>\n",
       "      <td>[B00M0FACO2, B000J3X9VU]</td>\n",
       "      <td>catchthewave</td>\n",
       "      <td>307901.0</td>\n",
       "      <td>[B07C6T4HQ1, B01J6DNIBO, B00QX6SEJO, B076Q65VP...</td>\n",
       "      <td>Office Products</td>\n",
       "      <td>NaN</td>\n",
       "      <td>B01HJF6JIA</td>\n",
       "      <td>['Office  and School Supplies']</td>\n",
       "      <td>['Desk Accessories  and Workspace Organizers']</td>\n",
       "      <td>['Desk Supplies Holders and Dispensers']</td>\n",
       "    </tr>\n",
       "    <tr>\n",
       "      <th>306615</th>\n",
       "      <td>1pcs / Set Fashion Cartoon Blue Toy Story Phon...</td>\n",
       "      <td>[]</td>\n",
       "      <td>lanyard</td>\n",
       "      <td>749930.0</td>\n",
       "      <td>[]</td>\n",
       "      <td>Office Products</td>\n",
       "      <td>NaN</td>\n",
       "      <td>B01HJFOEQ4</td>\n",
       "      <td>['Office  and School Supplies']</td>\n",
       "      <td>['Paper']</td>\n",
       "      <td>NaN</td>\n",
       "    </tr>\n",
       "    <tr>\n",
       "      <th>306616</th>\n",
       "      <td>( PACK OF 5 ) FELLOWSHIP Full Transparent Desi...</td>\n",
       "      <td>[]</td>\n",
       "      <td>srpc</td>\n",
       "      <td>1191960.0</td>\n",
       "      <td>[]</td>\n",
       "      <td>Office Products</td>\n",
       "      <td>NaN</td>\n",
       "      <td>B01HJFPBLG</td>\n",
       "      <td>['Office  and School Supplies']</td>\n",
       "      <td>['Writing  and Correction Supplies']</td>\n",
       "      <td>['Pens and Refills']</td>\n",
       "    </tr>\n",
       "  </tbody>\n",
       "</table>\n",
       "<p>306617 rows × 11 columns</p>\n",
       "</div>"
      ],
      "text/plain": [
       "                                                    title  \\\n",
       "0       Sequential Spelling Level 1 Bundle with Studen...   \n",
       "1       Mathematics, Applications and Concepts, Course...   \n",
       "2       Pearson MyHistoryLab Online Access Code for Am...   \n",
       "3                                   A Pocket for Corduroy   \n",
       "4       Social Entrepreneurship: What Everyone Needs t...   \n",
       "...                                                   ...   \n",
       "306612  Nintendo Super Mario Bros. Lanyard with Mario ...   \n",
       "306613  Lot of 2 - US American Flag &amp; Eagle US Pat...   \n",
       "306614  CatchTheWave Natural Wood Pen Holder Folding S...   \n",
       "306615  1pcs / Set Fashion Cartoon Blue Toy Story Phon...   \n",
       "306616  ( PACK OF 5 ) FELLOWSHIP Full Transparent Desi...   \n",
       "\n",
       "                                                 also_buy  \\\n",
       "0                                                      []   \n",
       "1                                                      []   \n",
       "2                                                      []   \n",
       "3       [0140501738, 0448421917, 0670063428, 042528875...   \n",
       "4       [0195334760, 1613630328, 1422104060, 158648956...   \n",
       "...                                                   ...   \n",
       "306612                                                 []   \n",
       "306613  [B01K452Y5E, B00LMB1YQ0, B018EH7DZU, B01EHJG9M...   \n",
       "306614                           [B00M0FACO2, B000J3X9VU]   \n",
       "306615                                                 []   \n",
       "306616                                                 []   \n",
       "\n",
       "                                      brand       rank  \\\n",
       "0                          stl distributors   439654.0   \n",
       "1                                    bailey  3839628.0   \n",
       "2                      pearson myhistorylab  1925354.0   \n",
       "3                 ingram book & distributor   422894.0   \n",
       "4       visit amazon's david bornstein page   110732.0   \n",
       "...                                     ...        ...   \n",
       "306612                             nintendo   439112.0   \n",
       "306613                                 nykc   408194.0   \n",
       "306614                         catchthewave   307901.0   \n",
       "306615                              lanyard   749930.0   \n",
       "306616                                 srpc  1191960.0   \n",
       "\n",
       "                                                also_view         main_cat  \\\n",
       "0       [1935943065, 1935943073, B00IJH9Q4M, 002115021...  Office Products   \n",
       "1                                                      []            Books   \n",
       "2                                                      []  Office Products   \n",
       "3                                            [0140501738]  Office Products   \n",
       "4       [0195334760, 1586489569, 1613630328, 142210406...            Books   \n",
       "...                                                   ...              ...   \n",
       "306612  [B01BF122TY, B06XGMZ2NT, B01MRXB87Q, B019SLVB9...       Automotive   \n",
       "306613  [B00LMB1YQ0, B01BCO7ID4, B01JO8H8NA, B00G5WZLK...  Office Products   \n",
       "306614  [B07C6T4HQ1, B01J6DNIBO, B00QX6SEJO, B076Q65VP...  Office Products   \n",
       "306615                                                 []  Office Products   \n",
       "306616                                                 []  Office Products   \n",
       "\n",
       "            price        asin                 primary_category  \\\n",
       "0       32.900002  0012624861  ['Office  and School Supplies']   \n",
       "1        8.620000  0078652669  ['Office  and School Supplies']   \n",
       "2        0.990000  0136039847  ['Office  and School Supplies']   \n",
       "3        0.950000  0140503528  ['Office  and School Supplies']   \n",
       "4             NaN  0195396332  ['Office  and School Supplies']   \n",
       "...           ...         ...                              ...   \n",
       "306612   8.000000  B01HJF4C66  ['Office  and School Supplies']   \n",
       "306613   4.990000  B01HJF5WZQ  ['Office  and School Supplies']   \n",
       "306614        NaN  B01HJF6JIA  ['Office  and School Supplies']   \n",
       "306615        NaN  B01HJFOEQ4  ['Office  and School Supplies']   \n",
       "306616        NaN  B01HJFPBLG  ['Office  and School Supplies']   \n",
       "\n",
       "                                               sub_cat  \\\n",
       "0                            ['Education  and Crafts']   \n",
       "1                            ['Education  and Crafts']   \n",
       "2                                            ['Paper']   \n",
       "3                            ['Education  and Crafts']   \n",
       "4                            ['Education  and Crafts']   \n",
       "...                                                ...   \n",
       "306612                 ['Labels, Indexes  and Stamps']   \n",
       "306613    ['Forms, Recordkeeping  and Money Handling']   \n",
       "306614  ['Desk Accessories  and Workspace Organizers']   \n",
       "306615                                       ['Paper']   \n",
       "306616            ['Writing  and Correction Supplies']   \n",
       "\n",
       "                                    product_type  \n",
       "0        ['Early Childhood Education Materials']  \n",
       "1                                            NaN  \n",
       "2                                            NaN  \n",
       "3        ['Early Childhood Education Materials']  \n",
       "4                                            NaN  \n",
       "...                                          ...  \n",
       "306612    ['Identification Badges and Supplies']  \n",
       "306613                   ['Key Tags and Chains']  \n",
       "306614  ['Desk Supplies Holders and Dispensers']  \n",
       "306615                                       NaN  \n",
       "306616                      ['Pens and Refills']  \n",
       "\n",
       "[306617 rows x 11 columns]"
      ]
     },
     "execution_count": 61,
     "metadata": {},
     "output_type": "execute_result"
    }
   ],
   "source": [
    "off_meta"
   ]
  },
  {
   "cell_type": "code",
   "execution_count": 64,
   "id": "56e4171f",
   "metadata": {},
   "outputs": [],
   "source": [
    "off_meta.to_csv(\"Office_meta.csv\", index = False)"
   ]
  },
  {
   "cell_type": "code",
   "execution_count": null,
   "id": "ea6f632a",
   "metadata": {},
   "outputs": [],
   "source": []
  },
  {
   "cell_type": "code",
   "execution_count": null,
   "id": "26bef444",
   "metadata": {},
   "outputs": [],
   "source": []
  }
 ],
 "metadata": {
  "kernelspec": {
   "display_name": "Python 3 (ipykernel)",
   "language": "python",
   "name": "python3"
  },
  "language_info": {
   "codemirror_mode": {
    "name": "ipython",
    "version": 3
   },
   "file_extension": ".py",
   "mimetype": "text/x-python",
   "name": "python",
   "nbconvert_exporter": "python",
   "pygments_lexer": "ipython3",
   "version": "3.9.12"
  }
 },
 "nbformat": 4,
 "nbformat_minor": 5
}
