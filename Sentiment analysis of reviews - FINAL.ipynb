{
 "cells": [
  {
   "cell_type": "markdown",
   "id": "4e114530",
   "metadata": {},
   "source": [
    "# Natural Language processing - Sentiment analysis using vadersentiment  tool "
   ]
  },
  {
   "cell_type": "markdown",
   "id": "08b1b846",
   "metadata": {},
   "source": [
    "## In this we will find out the true sentiment of the reviews posted by the customers on amazon. There shall be three classification of sentiments namely \"Positive\",\"Negative\" and \"Neutral\". \n",
    "\n",
    "## Using Vader Sentiment tool we shall depict class of each review. "
   ]
  },
  {
   "cell_type": "code",
   "execution_count": 1,
   "id": "accffcfa",
   "metadata": {},
   "outputs": [],
   "source": [
    "import numpy as np\n",
    "import pandas as pd\n",
    "\n",
    "from sklearn.preprocessing import Binarizer\n",
    "from sklearn.preprocessing import MultiLabelBinarizer\n",
    "\n",
    "from sklearn.linear_model import LogisticRegression\n",
    "from sklearn.multiclass import OneVsRestClassifier\n",
    "from sklearn.feature_extraction.text import TfidfVectorizer, CountVectorizer\n",
    "from sklearn.model_selection import train_test_split\n",
    "from sklearn.metrics import f1_score\n",
    "\n",
    "\n",
    "# Metrics \n",
    "from sklearn import metrics\n",
    "from sklearn.metrics import recall_score\n",
    "from sklearn.metrics import f1_score\n",
    "from sklearn.metrics import accuracy_score\n",
    "from sklearn.metrics import precision_score\n",
    "\n",
    "import matplotlib.pyplot as plt\n",
    "from sklearn.metrics import classification_report\n",
    "from sklearn.naive_bayes import MultinomialNB    # Naive bayes algorithm\n",
    "from sklearn.metrics import roc_curve\n",
    "from sklearn.metrics import roc_auc_score\n",
    "from sklearn.model_selection import cross_val_score\n",
    "from sklearn.model_selection import RepeatedStratifiedKFold"
   ]
  },
  {
   "cell_type": "markdown",
   "id": "42793f8b",
   "metadata": {},
   "source": [
    "## Importing Final review file which is preprocessed and merged."
   ]
  },
  {
   "cell_type": "code",
   "execution_count": 2,
   "id": "374a12f5",
   "metadata": {
    "scrolled": false
   },
   "outputs": [
    {
     "data": {
      "text/html": [
       "<div>\n",
       "<style scoped>\n",
       "    .dataframe tbody tr th:only-of-type {\n",
       "        vertical-align: middle;\n",
       "    }\n",
       "\n",
       "    .dataframe tbody tr th {\n",
       "        vertical-align: top;\n",
       "    }\n",
       "\n",
       "    .dataframe thead th {\n",
       "        text-align: right;\n",
       "    }\n",
       "</style>\n",
       "<table border=\"1\" class=\"dataframe\">\n",
       "  <thead>\n",
       "    <tr style=\"text-align: right;\">\n",
       "      <th></th>\n",
       "      <th>overall</th>\n",
       "      <th>verified</th>\n",
       "      <th>reviewTime</th>\n",
       "      <th>reviewerID</th>\n",
       "      <th>asin</th>\n",
       "      <th>reviewerName</th>\n",
       "      <th>reviewText</th>\n",
       "      <th>summary</th>\n",
       "      <th>class</th>\n",
       "      <th>title</th>\n",
       "      <th>also_buy</th>\n",
       "      <th>brand</th>\n",
       "      <th>rank</th>\n",
       "      <th>also_view</th>\n",
       "      <th>main_cat</th>\n",
       "      <th>price</th>\n",
       "      <th>primary_category</th>\n",
       "      <th>sub_cat</th>\n",
       "      <th>product_type</th>\n",
       "    </tr>\n",
       "  </thead>\n",
       "  <tbody>\n",
       "    <tr>\n",
       "      <th>0</th>\n",
       "      <td>4.0</td>\n",
       "      <td>True</td>\n",
       "      <td>2017-11-07</td>\n",
       "      <td>A2NIJTYWADLK57</td>\n",
       "      <td>0140503528</td>\n",
       "      <td>cotton clay</td>\n",
       "      <td>kids like story but while i really wanted a bo...</td>\n",
       "      <td>good story, small size book though</td>\n",
       "      <td>good</td>\n",
       "      <td>A Pocket for Corduroy</td>\n",
       "      <td>['0140501738', '0448421917', '0670063428', '04...</td>\n",
       "      <td>ingram book &amp; distributor</td>\n",
       "      <td>&lt;bound method NDFrame.rank of          overall...</td>\n",
       "      <td>['0140501738']</td>\n",
       "      <td>Office Products</td>\n",
       "      <td>0.95</td>\n",
       "      <td>['Office  and School Supplies']</td>\n",
       "      <td>['Education  and Crafts']</td>\n",
       "      <td>['Early Childhood Education Materials']</td>\n",
       "    </tr>\n",
       "    <tr>\n",
       "      <th>1</th>\n",
       "      <td>4.0</td>\n",
       "      <td>True</td>\n",
       "      <td>2017-03-07</td>\n",
       "      <td>A2827D8EEURMP4</td>\n",
       "      <td>0140503528</td>\n",
       "      <td>emankcin</td>\n",
       "      <td>bought this used and it came in great conditio...</td>\n",
       "      <td>good</td>\n",
       "      <td>good</td>\n",
       "      <td>A Pocket for Corduroy</td>\n",
       "      <td>['0140501738', '0448421917', '0670063428', '04...</td>\n",
       "      <td>ingram book &amp; distributor</td>\n",
       "      <td>&lt;bound method NDFrame.rank of          overall...</td>\n",
       "      <td>['0140501738']</td>\n",
       "      <td>Office Products</td>\n",
       "      <td>0.95</td>\n",
       "      <td>['Office  and School Supplies']</td>\n",
       "      <td>['Education  and Crafts']</td>\n",
       "      <td>['Early Childhood Education Materials']</td>\n",
       "    </tr>\n",
       "    <tr>\n",
       "      <th>2</th>\n",
       "      <td>5.0</td>\n",
       "      <td>True</td>\n",
       "      <td>2016-06-25</td>\n",
       "      <td>APB6087F4J09J</td>\n",
       "      <td>0140503528</td>\n",
       "      <td>Starbucks Fan</td>\n",
       "      <td>every story and book about corduroy is fantast...</td>\n",
       "      <td>best books for all children</td>\n",
       "      <td>great</td>\n",
       "      <td>A Pocket for Corduroy</td>\n",
       "      <td>['0140501738', '0448421917', '0670063428', '04...</td>\n",
       "      <td>ingram book &amp; distributor</td>\n",
       "      <td>&lt;bound method NDFrame.rank of          overall...</td>\n",
       "      <td>['0140501738']</td>\n",
       "      <td>Office Products</td>\n",
       "      <td>0.95</td>\n",
       "      <td>['Office  and School Supplies']</td>\n",
       "      <td>['Education  and Crafts']</td>\n",
       "      <td>['Early Childhood Education Materials']</td>\n",
       "    </tr>\n",
       "    <tr>\n",
       "      <th>3</th>\n",
       "      <td>5.0</td>\n",
       "      <td>True</td>\n",
       "      <td>2016-02-21</td>\n",
       "      <td>A2DHERRZIPFU7X</td>\n",
       "      <td>0140503528</td>\n",
       "      <td>Caitlyn Jacobson</td>\n",
       "      <td>i purchased this book for my first grade class...</td>\n",
       "      <td>great for math!</td>\n",
       "      <td>great</td>\n",
       "      <td>A Pocket for Corduroy</td>\n",
       "      <td>['0140501738', '0448421917', '0670063428', '04...</td>\n",
       "      <td>ingram book &amp; distributor</td>\n",
       "      <td>&lt;bound method NDFrame.rank of          overall...</td>\n",
       "      <td>['0140501738']</td>\n",
       "      <td>Office Products</td>\n",
       "      <td>0.95</td>\n",
       "      <td>['Office  and School Supplies']</td>\n",
       "      <td>['Education  and Crafts']</td>\n",
       "      <td>['Early Childhood Education Materials']</td>\n",
       "    </tr>\n",
       "    <tr>\n",
       "      <th>4</th>\n",
       "      <td>5.0</td>\n",
       "      <td>False</td>\n",
       "      <td>2015-08-02</td>\n",
       "      <td>A2XCLJRGFANRC</td>\n",
       "      <td>0140503528</td>\n",
       "      <td>E. Ervin</td>\n",
       "      <td>having spent numerous years in an elementary s...</td>\n",
       "      <td>love corduroy</td>\n",
       "      <td>great</td>\n",
       "      <td>A Pocket for Corduroy</td>\n",
       "      <td>['0140501738', '0448421917', '0670063428', '04...</td>\n",
       "      <td>ingram book &amp; distributor</td>\n",
       "      <td>&lt;bound method NDFrame.rank of          overall...</td>\n",
       "      <td>['0140501738']</td>\n",
       "      <td>Office Products</td>\n",
       "      <td>0.95</td>\n",
       "      <td>['Office  and School Supplies']</td>\n",
       "      <td>['Education  and Crafts']</td>\n",
       "      <td>['Early Childhood Education Materials']</td>\n",
       "    </tr>\n",
       "    <tr>\n",
       "      <th>...</th>\n",
       "      <td>...</td>\n",
       "      <td>...</td>\n",
       "      <td>...</td>\n",
       "      <td>...</td>\n",
       "      <td>...</td>\n",
       "      <td>...</td>\n",
       "      <td>...</td>\n",
       "      <td>...</td>\n",
       "      <td>...</td>\n",
       "      <td>...</td>\n",
       "      <td>...</td>\n",
       "      <td>...</td>\n",
       "      <td>...</td>\n",
       "      <td>...</td>\n",
       "      <td>...</td>\n",
       "      <td>...</td>\n",
       "      <td>...</td>\n",
       "      <td>...</td>\n",
       "      <td>...</td>\n",
       "    </tr>\n",
       "    <tr>\n",
       "      <th>2019553</th>\n",
       "      <td>5.0</td>\n",
       "      <td>True</td>\n",
       "      <td>2016-12-31</td>\n",
       "      <td>A30ZM19J0CNAGJ</td>\n",
       "      <td>B01HJDG28E</td>\n",
       "      <td>Reggie: a music lover</td>\n",
       "      <td>night hawk is ten outstanding new recordings o...</td>\n",
       "      <td>My favorite cut is the cover of \"(Ghost) Rider...</td>\n",
       "      <td>great</td>\n",
       "      <td>Night Hawk</td>\n",
       "      <td>['0718074963', 'B0012GMV5S', 'B00I89Y2SQ', 'B0...</td>\n",
       "      <td>charlie daniels band</td>\n",
       "      <td>&lt;bound method NDFrame.rank of          overall...</td>\n",
       "      <td>['B07H5VY3LK', 'B00FLV06V6', 'B00I89Y2SQ', 'B0...</td>\n",
       "      <td>Digital Music</td>\n",
       "      <td>8.00</td>\n",
       "      <td>['CDs &amp; Vinyl']</td>\n",
       "      <td>['Country']</td>\n",
       "      <td>['Country']</td>\n",
       "    </tr>\n",
       "    <tr>\n",
       "      <th>2019554</th>\n",
       "      <td>3.0</td>\n",
       "      <td>True</td>\n",
       "      <td>2018-07-25</td>\n",
       "      <td>APXJ8QC63EG38</td>\n",
       "      <td>B01HJG3VZI</td>\n",
       "      <td>Steven Schubak</td>\n",
       "      <td>ok</td>\n",
       "      <td>Three Stars</td>\n",
       "      <td>average</td>\n",
       "      <td>Original Album Classics</td>\n",
       "      <td>['B06Y1L22WT', 'B017CJL0BO', 'B005JS7VTQ', 'B0...</td>\n",
       "      <td>the guess who</td>\n",
       "      <td>&lt;bound method NDFrame.rank of          overall...</td>\n",
       "      <td>['B000CNE11O', 'B00000I0QI', 'B0042OZDP2', 'B0...</td>\n",
       "      <td>Digital Music</td>\n",
       "      <td>17.28</td>\n",
       "      <td>['CDs &amp; Vinyl']</td>\n",
       "      <td>['Pop']</td>\n",
       "      <td>['Pop']</td>\n",
       "    </tr>\n",
       "    <tr>\n",
       "      <th>2019555</th>\n",
       "      <td>5.0</td>\n",
       "      <td>True</td>\n",
       "      <td>2018-07-17</td>\n",
       "      <td>A5HIGHKQPINEO</td>\n",
       "      <td>B01HJG3VZI</td>\n",
       "      <td>Oman</td>\n",
       "      <td>great music great sound love the music lots of...</td>\n",
       "      <td>The sound quality and number of hits</td>\n",
       "      <td>great</td>\n",
       "      <td>Original Album Classics</td>\n",
       "      <td>['B06Y1L22WT', 'B017CJL0BO', 'B005JS7VTQ', 'B0...</td>\n",
       "      <td>the guess who</td>\n",
       "      <td>&lt;bound method NDFrame.rank of          overall...</td>\n",
       "      <td>['B000CNE11O', 'B00000I0QI', 'B0042OZDP2', 'B0...</td>\n",
       "      <td>Digital Music</td>\n",
       "      <td>17.28</td>\n",
       "      <td>['CDs &amp; Vinyl']</td>\n",
       "      <td>['Pop']</td>\n",
       "      <td>['Pop']</td>\n",
       "    </tr>\n",
       "    <tr>\n",
       "      <th>2019556</th>\n",
       "      <td>5.0</td>\n",
       "      <td>True</td>\n",
       "      <td>2018-06-23</td>\n",
       "      <td>A1B26TNQEWHQ4K</td>\n",
       "      <td>B01HJG3VZI</td>\n",
       "      <td>David W. Barsness</td>\n",
       "      <td>really good fun quality stuff</td>\n",
       "      <td>5fer</td>\n",
       "      <td>great</td>\n",
       "      <td>Original Album Classics</td>\n",
       "      <td>['B06Y1L22WT', 'B017CJL0BO', 'B005JS7VTQ', 'B0...</td>\n",
       "      <td>the guess who</td>\n",
       "      <td>&lt;bound method NDFrame.rank of          overall...</td>\n",
       "      <td>['B000CNE11O', 'B00000I0QI', 'B0042OZDP2', 'B0...</td>\n",
       "      <td>Digital Music</td>\n",
       "      <td>17.28</td>\n",
       "      <td>['CDs &amp; Vinyl']</td>\n",
       "      <td>['Pop']</td>\n",
       "      <td>['Pop']</td>\n",
       "    </tr>\n",
       "    <tr>\n",
       "      <th>2019557</th>\n",
       "      <td>5.0</td>\n",
       "      <td>True</td>\n",
       "      <td>2017-11-04</td>\n",
       "      <td>A1KCWOF28NPM3M</td>\n",
       "      <td>B01HJG3VZI</td>\n",
       "      <td>Peter G.</td>\n",
       "      <td>great 5 lp by the guess who, love all these al...</td>\n",
       "      <td>Guess Who 5 Pack!</td>\n",
       "      <td>great</td>\n",
       "      <td>Original Album Classics</td>\n",
       "      <td>['B06Y1L22WT', 'B017CJL0BO', 'B005JS7VTQ', 'B0...</td>\n",
       "      <td>the guess who</td>\n",
       "      <td>&lt;bound method NDFrame.rank of          overall...</td>\n",
       "      <td>['B000CNE11O', 'B00000I0QI', 'B0042OZDP2', 'B0...</td>\n",
       "      <td>Digital Music</td>\n",
       "      <td>17.28</td>\n",
       "      <td>['CDs &amp; Vinyl']</td>\n",
       "      <td>['Pop']</td>\n",
       "      <td>['Pop']</td>\n",
       "    </tr>\n",
       "  </tbody>\n",
       "</table>\n",
       "<p>2019558 rows × 19 columns</p>\n",
       "</div>"
      ],
      "text/plain": [
       "         overall  verified  reviewTime      reviewerID        asin  \\\n",
       "0            4.0      True  2017-11-07  A2NIJTYWADLK57  0140503528   \n",
       "1            4.0      True  2017-03-07  A2827D8EEURMP4  0140503528   \n",
       "2            5.0      True  2016-06-25   APB6087F4J09J  0140503528   \n",
       "3            5.0      True  2016-02-21  A2DHERRZIPFU7X  0140503528   \n",
       "4            5.0     False  2015-08-02   A2XCLJRGFANRC  0140503528   \n",
       "...          ...       ...         ...             ...         ...   \n",
       "2019553      5.0      True  2016-12-31  A30ZM19J0CNAGJ  B01HJDG28E   \n",
       "2019554      3.0      True  2018-07-25   APXJ8QC63EG38  B01HJG3VZI   \n",
       "2019555      5.0      True  2018-07-17   A5HIGHKQPINEO  B01HJG3VZI   \n",
       "2019556      5.0      True  2018-06-23  A1B26TNQEWHQ4K  B01HJG3VZI   \n",
       "2019557      5.0      True  2017-11-04  A1KCWOF28NPM3M  B01HJG3VZI   \n",
       "\n",
       "                  reviewerName  \\\n",
       "0                  cotton clay   \n",
       "1                     emankcin   \n",
       "2                Starbucks Fan   \n",
       "3             Caitlyn Jacobson   \n",
       "4                     E. Ervin   \n",
       "...                        ...   \n",
       "2019553  Reggie: a music lover   \n",
       "2019554         Steven Schubak   \n",
       "2019555                   Oman   \n",
       "2019556      David W. Barsness   \n",
       "2019557               Peter G.   \n",
       "\n",
       "                                                reviewText  \\\n",
       "0        kids like story but while i really wanted a bo...   \n",
       "1        bought this used and it came in great conditio...   \n",
       "2        every story and book about corduroy is fantast...   \n",
       "3        i purchased this book for my first grade class...   \n",
       "4        having spent numerous years in an elementary s...   \n",
       "...                                                    ...   \n",
       "2019553  night hawk is ten outstanding new recordings o...   \n",
       "2019554                                                 ok   \n",
       "2019555  great music great sound love the music lots of...   \n",
       "2019556                      really good fun quality stuff   \n",
       "2019557  great 5 lp by the guess who, love all these al...   \n",
       "\n",
       "                                                   summary    class  \\\n",
       "0                       good story, small size book though     good   \n",
       "1                                                     good     good   \n",
       "2                              best books for all children    great   \n",
       "3                                          great for math!    great   \n",
       "4                                            love corduroy    great   \n",
       "...                                                    ...      ...   \n",
       "2019553  My favorite cut is the cover of \"(Ghost) Rider...    great   \n",
       "2019554                                        Three Stars  average   \n",
       "2019555               The sound quality and number of hits    great   \n",
       "2019556                                               5fer    great   \n",
       "2019557                                  Guess Who 5 Pack!    great   \n",
       "\n",
       "                           title  \\\n",
       "0          A Pocket for Corduroy   \n",
       "1          A Pocket for Corduroy   \n",
       "2          A Pocket for Corduroy   \n",
       "3          A Pocket for Corduroy   \n",
       "4          A Pocket for Corduroy   \n",
       "...                          ...   \n",
       "2019553               Night Hawk   \n",
       "2019554  Original Album Classics   \n",
       "2019555  Original Album Classics   \n",
       "2019556  Original Album Classics   \n",
       "2019557  Original Album Classics   \n",
       "\n",
       "                                                  also_buy  \\\n",
       "0        ['0140501738', '0448421917', '0670063428', '04...   \n",
       "1        ['0140501738', '0448421917', '0670063428', '04...   \n",
       "2        ['0140501738', '0448421917', '0670063428', '04...   \n",
       "3        ['0140501738', '0448421917', '0670063428', '04...   \n",
       "4        ['0140501738', '0448421917', '0670063428', '04...   \n",
       "...                                                    ...   \n",
       "2019553  ['0718074963', 'B0012GMV5S', 'B00I89Y2SQ', 'B0...   \n",
       "2019554  ['B06Y1L22WT', 'B017CJL0BO', 'B005JS7VTQ', 'B0...   \n",
       "2019555  ['B06Y1L22WT', 'B017CJL0BO', 'B005JS7VTQ', 'B0...   \n",
       "2019556  ['B06Y1L22WT', 'B017CJL0BO', 'B005JS7VTQ', 'B0...   \n",
       "2019557  ['B06Y1L22WT', 'B017CJL0BO', 'B005JS7VTQ', 'B0...   \n",
       "\n",
       "                             brand  \\\n",
       "0        ingram book & distributor   \n",
       "1        ingram book & distributor   \n",
       "2        ingram book & distributor   \n",
       "3        ingram book & distributor   \n",
       "4        ingram book & distributor   \n",
       "...                            ...   \n",
       "2019553       charlie daniels band   \n",
       "2019554              the guess who   \n",
       "2019555              the guess who   \n",
       "2019556              the guess who   \n",
       "2019557              the guess who   \n",
       "\n",
       "                                                      rank  \\\n",
       "0        <bound method NDFrame.rank of          overall...   \n",
       "1        <bound method NDFrame.rank of          overall...   \n",
       "2        <bound method NDFrame.rank of          overall...   \n",
       "3        <bound method NDFrame.rank of          overall...   \n",
       "4        <bound method NDFrame.rank of          overall...   \n",
       "...                                                    ...   \n",
       "2019553  <bound method NDFrame.rank of          overall...   \n",
       "2019554  <bound method NDFrame.rank of          overall...   \n",
       "2019555  <bound method NDFrame.rank of          overall...   \n",
       "2019556  <bound method NDFrame.rank of          overall...   \n",
       "2019557  <bound method NDFrame.rank of          overall...   \n",
       "\n",
       "                                                 also_view         main_cat  \\\n",
       "0                                           ['0140501738']  Office Products   \n",
       "1                                           ['0140501738']  Office Products   \n",
       "2                                           ['0140501738']  Office Products   \n",
       "3                                           ['0140501738']  Office Products   \n",
       "4                                           ['0140501738']  Office Products   \n",
       "...                                                    ...              ...   \n",
       "2019553  ['B07H5VY3LK', 'B00FLV06V6', 'B00I89Y2SQ', 'B0...    Digital Music   \n",
       "2019554  ['B000CNE11O', 'B00000I0QI', 'B0042OZDP2', 'B0...    Digital Music   \n",
       "2019555  ['B000CNE11O', 'B00000I0QI', 'B0042OZDP2', 'B0...    Digital Music   \n",
       "2019556  ['B000CNE11O', 'B00000I0QI', 'B0042OZDP2', 'B0...    Digital Music   \n",
       "2019557  ['B000CNE11O', 'B00000I0QI', 'B0042OZDP2', 'B0...    Digital Music   \n",
       "\n",
       "         price                 primary_category                    sub_cat  \\\n",
       "0         0.95  ['Office  and School Supplies']  ['Education  and Crafts']   \n",
       "1         0.95  ['Office  and School Supplies']  ['Education  and Crafts']   \n",
       "2         0.95  ['Office  and School Supplies']  ['Education  and Crafts']   \n",
       "3         0.95  ['Office  and School Supplies']  ['Education  and Crafts']   \n",
       "4         0.95  ['Office  and School Supplies']  ['Education  and Crafts']   \n",
       "...        ...                              ...                        ...   \n",
       "2019553   8.00                  ['CDs & Vinyl']                ['Country']   \n",
       "2019554  17.28                  ['CDs & Vinyl']                    ['Pop']   \n",
       "2019555  17.28                  ['CDs & Vinyl']                    ['Pop']   \n",
       "2019556  17.28                  ['CDs & Vinyl']                    ['Pop']   \n",
       "2019557  17.28                  ['CDs & Vinyl']                    ['Pop']   \n",
       "\n",
       "                                    product_type  \n",
       "0        ['Early Childhood Education Materials']  \n",
       "1        ['Early Childhood Education Materials']  \n",
       "2        ['Early Childhood Education Materials']  \n",
       "3        ['Early Childhood Education Materials']  \n",
       "4        ['Early Childhood Education Materials']  \n",
       "...                                          ...  \n",
       "2019553                              ['Country']  \n",
       "2019554                                  ['Pop']  \n",
       "2019555                                  ['Pop']  \n",
       "2019556                                  ['Pop']  \n",
       "2019557                                  ['Pop']  \n",
       "\n",
       "[2019558 rows x 19 columns]"
      ]
     },
     "execution_count": 2,
     "metadata": {},
     "output_type": "execute_result"
    }
   ],
   "source": [
    "review = pd.read_csv(\"final_reviews_file.csv\")\n",
    "review"
   ]
  },
  {
   "cell_type": "markdown",
   "id": "e5d5908e",
   "metadata": {},
   "source": [
    "# Since the size of the data is huge it is recommended to sample the data for easy and quick conclusion"
   ]
  },
  {
   "cell_type": "markdown",
   "id": "0ffba9c2",
   "metadata": {},
   "source": [
    "## sampling the data with respect to the overall column, so that equal sample be extracted pertaining to different classes of overall column ie. 1, 2, 3, 4, 5 in order to get a clear analysis on the review text. "
   ]
  },
  {
   "cell_type": "code",
   "execution_count": 3,
   "id": "c01e88af",
   "metadata": {
    "scrolled": false
   },
   "outputs": [
    {
     "name": "stderr",
     "output_type": "stream",
     "text": [
      "C:\\Users\\ankit gurung\\AppData\\Local\\Temp\\ipykernel_2488\\2903411394.py:8: FutureWarning: The frame.append method is deprecated and will be removed from pandas in a future version. Use pandas.concat instead.\n",
      "  strat_sample_df=strat_sample_df.append(sample_data,ignore_index=True)\n"
     ]
    },
    {
     "data": {
      "text/html": [
       "<div>\n",
       "<style scoped>\n",
       "    .dataframe tbody tr th:only-of-type {\n",
       "        vertical-align: middle;\n",
       "    }\n",
       "\n",
       "    .dataframe tbody tr th {\n",
       "        vertical-align: top;\n",
       "    }\n",
       "\n",
       "    .dataframe thead th {\n",
       "        text-align: right;\n",
       "    }\n",
       "</style>\n",
       "<table border=\"1\" class=\"dataframe\">\n",
       "  <thead>\n",
       "    <tr style=\"text-align: right;\">\n",
       "      <th></th>\n",
       "      <th>overall</th>\n",
       "      <th>verified</th>\n",
       "      <th>reviewTime</th>\n",
       "      <th>reviewerID</th>\n",
       "      <th>asin</th>\n",
       "      <th>reviewerName</th>\n",
       "      <th>reviewText</th>\n",
       "      <th>summary</th>\n",
       "      <th>class</th>\n",
       "      <th>title</th>\n",
       "      <th>also_buy</th>\n",
       "      <th>brand</th>\n",
       "      <th>rank</th>\n",
       "      <th>also_view</th>\n",
       "      <th>main_cat</th>\n",
       "      <th>price</th>\n",
       "      <th>primary_category</th>\n",
       "      <th>sub_cat</th>\n",
       "      <th>product_type</th>\n",
       "    </tr>\n",
       "  </thead>\n",
       "  <tbody>\n",
       "    <tr>\n",
       "      <th>0</th>\n",
       "      <td>4.0</td>\n",
       "      <td>False</td>\n",
       "      <td>2000-05-17</td>\n",
       "      <td>AED6KI8T2OEZU</td>\n",
       "      <td>B00000AGMV</td>\n",
       "      <td>rickshayne</td>\n",
       "      <td>ok, i don't have this album but i'm sure after...</td>\n",
       "      <td>d_h_monroe@hotmail.com . Someone PLEASE REPLY</td>\n",
       "      <td>good</td>\n",
       "      <td>In the Beginning</td>\n",
       "      <td>['B000002LAX']</td>\n",
       "      <td>madonna</td>\n",
       "      <td>&lt;bound method NDFrame.rank of          overall...</td>\n",
       "      <td>[]</td>\n",
       "      <td>Digital Music</td>\n",
       "      <td>4.420000</td>\n",
       "      <td>['CDs &amp; Vinyl']</td>\n",
       "      <td>['Dance &amp; Electronic']</td>\n",
       "      <td>['Disco']</td>\n",
       "    </tr>\n",
       "    <tr>\n",
       "      <th>1</th>\n",
       "      <td>4.0</td>\n",
       "      <td>False</td>\n",
       "      <td>2005-12-05</td>\n",
       "      <td>AK5DRX4JZ5OD0</td>\n",
       "      <td>B0002XEDNU</td>\n",
       "      <td>Reg</td>\n",
       "      <td>i've given this live album 4 stars only, simpl...</td>\n",
       "      <td>A bit of a taste, a bit of a tease</td>\n",
       "      <td>good</td>\n",
       "      <td>Fiebre</td>\n",
       "      <td>['B000005J53', 'B000006E4K', 'B00005B51H']</td>\n",
       "      <td>radio tarifa</td>\n",
       "      <td>&lt;bound method NDFrame.rank of          overall...</td>\n",
       "      <td>['B000025AK1']</td>\n",
       "      <td>Digital Music</td>\n",
       "      <td>16.101245</td>\n",
       "      <td>['CDs &amp; Vinyl']</td>\n",
       "      <td>['World Music']</td>\n",
       "      <td>['Europe']</td>\n",
       "    </tr>\n",
       "    <tr>\n",
       "      <th>2</th>\n",
       "      <td>4.0</td>\n",
       "      <td>False</td>\n",
       "      <td>2007-06-14</td>\n",
       "      <td>A2O4R917QCTNBM</td>\n",
       "      <td>B0000029AP</td>\n",
       "      <td>sjc</td>\n",
       "      <td>as other reviewers have said this is a classic...</td>\n",
       "      <td>Great SACD Version of Toys</td>\n",
       "      <td>good</td>\n",
       "      <td>Toys In The Attic Remastered</td>\n",
       "      <td>['B0000029AS', 'B0000029AN', 'B007V4QLOC', 'B0...</td>\n",
       "      <td>aerosmith</td>\n",
       "      <td>&lt;bound method NDFrame.rank of          overall...</td>\n",
       "      <td>['B00CJ7XYIC', 'B0000029AN', 'B016W63RR8', 'B0...</td>\n",
       "      <td>Digital Music</td>\n",
       "      <td>1.990000</td>\n",
       "      <td>['CDs &amp; Vinyl']</td>\n",
       "      <td>['Classic Rock']</td>\n",
       "      <td>['Album-Oriented Rock (AOR)']</td>\n",
       "    </tr>\n",
       "    <tr>\n",
       "      <th>3</th>\n",
       "      <td>4.0</td>\n",
       "      <td>False</td>\n",
       "      <td>2003-03-01</td>\n",
       "      <td>A2FGK9K4K10K86</td>\n",
       "      <td>B000001DSD</td>\n",
       "      <td>J. Miller</td>\n",
       "      <td>in sides is a good orbital album -- but there'...</td>\n",
       "      <td>Find the Other 2nd Disc</td>\n",
       "      <td>good</td>\n",
       "      <td>In-Sides</td>\n",
       "      <td>['B000003R5R', 'B00000J8LA', 'B07CXFK8JH', 'B0...</td>\n",
       "      <td>orbital</td>\n",
       "      <td>&lt;bound method NDFrame.rank of          overall...</td>\n",
       "      <td>['B07CXFK8JH', 'B00004T6UZ', 'B00VN7OFGO', 'B0...</td>\n",
       "      <td>Digital Music</td>\n",
       "      <td>10.850000</td>\n",
       "      <td>['CDs &amp; Vinyl']</td>\n",
       "      <td>['Dance &amp; Electronic']</td>\n",
       "      <td>['Ambient']</td>\n",
       "    </tr>\n",
       "    <tr>\n",
       "      <th>4</th>\n",
       "      <td>4.0</td>\n",
       "      <td>True</td>\n",
       "      <td>2016-09-18</td>\n",
       "      <td>AM7K76WF9BR7W</td>\n",
       "      <td>B000GWE8TQ</td>\n",
       "      <td>Jesse</td>\n",
       "      <td>note that this is ink, not watercolor. they ar...</td>\n",
       "      <td>four stars</td>\n",
       "      <td>good</td>\n",
       "      <td>Derwent Colored Pencils, Inktense Ink Pencils,...</td>\n",
       "      <td>['B004QQ5I06', 'B000TKCWCU', 'B004QQ5I0Q', 'B0...</td>\n",
       "      <td>derwent</td>\n",
       "      <td>&lt;bound method NDFrame.rank of          overall...</td>\n",
       "      <td>[]</td>\n",
       "      <td>Office Products</td>\n",
       "      <td>13.990000</td>\n",
       "      <td>['Office  and School Supplies']</td>\n",
       "      <td>['Paper']</td>\n",
       "      <td>NaN</td>\n",
       "    </tr>\n",
       "    <tr>\n",
       "      <th>...</th>\n",
       "      <td>...</td>\n",
       "      <td>...</td>\n",
       "      <td>...</td>\n",
       "      <td>...</td>\n",
       "      <td>...</td>\n",
       "      <td>...</td>\n",
       "      <td>...</td>\n",
       "      <td>...</td>\n",
       "      <td>...</td>\n",
       "      <td>...</td>\n",
       "      <td>...</td>\n",
       "      <td>...</td>\n",
       "      <td>...</td>\n",
       "      <td>...</td>\n",
       "      <td>...</td>\n",
       "      <td>...</td>\n",
       "      <td>...</td>\n",
       "      <td>...</td>\n",
       "      <td>...</td>\n",
       "    </tr>\n",
       "    <tr>\n",
       "      <th>249995</th>\n",
       "      <td>1.0</td>\n",
       "      <td>True</td>\n",
       "      <td>2018-02-06</td>\n",
       "      <td>A1RKZK2BHN49IW</td>\n",
       "      <td>B00006RSP9</td>\n",
       "      <td>Amazon Customer</td>\n",
       "      <td>got a black color in the carmine red pencil.</td>\n",
       "      <td>wrong color in the pencil</td>\n",
       "      <td>poor</td>\n",
       "      <td>Prismacolor Col-Erase Erasable Colored Pencil,...</td>\n",
       "      <td>['B000J07P9U', 'B000HHG5CI', 'B000JI6HOG', 'B0...</td>\n",
       "      <td>prismacolor</td>\n",
       "      <td>&lt;bound method NDFrame.rank of          overall...</td>\n",
       "      <td>[]</td>\n",
       "      <td>Office Products</td>\n",
       "      <td>5.520000</td>\n",
       "      <td>['Office  and School Supplies']</td>\n",
       "      <td>['Writing  and Correction Supplies']</td>\n",
       "      <td>['Pencils']</td>\n",
       "    </tr>\n",
       "    <tr>\n",
       "      <th>249996</th>\n",
       "      <td>1.0</td>\n",
       "      <td>True</td>\n",
       "      <td>2015-12-19</td>\n",
       "      <td>AWZR0O65DL2Q</td>\n",
       "      <td>B0067VH3OC</td>\n",
       "      <td>Nameless Faceless One</td>\n",
       "      <td>i have been wrestling with these inks all day....</td>\n",
       "      <td>faint colors and not working</td>\n",
       "      <td>poor</td>\n",
       "      <td>Anti-UV Sublimation 100Ml Ink for Epson C68, C...</td>\n",
       "      <td>['B00ZJCDNMG', 'B00CEJQWFM', 'B000FSOZE4', 'B0...</td>\n",
       "      <td>ink jet</td>\n",
       "      <td>&lt;bound method NDFrame.rank of          overall...</td>\n",
       "      <td>['B06XSB4M8J', 'B000FSOZE4', 'B073V5LPL8', 'B0...</td>\n",
       "      <td>Office Products</td>\n",
       "      <td>21.990000</td>\n",
       "      <td>['Office  and School Supplies']</td>\n",
       "      <td>['Printer Ink  and Toner']</td>\n",
       "      <td>NaN</td>\n",
       "    </tr>\n",
       "    <tr>\n",
       "      <th>249997</th>\n",
       "      <td>1.0</td>\n",
       "      <td>False</td>\n",
       "      <td>2006-04-07</td>\n",
       "      <td>A1JIW8GOSSGUQR</td>\n",
       "      <td>B00000JYY7</td>\n",
       "      <td>T. Gore</td>\n",
       "      <td>how could any band named \"megadeth\" release a ...</td>\n",
       "      <td>Stinks like a dirty diaper</td>\n",
       "      <td>poor</td>\n",
       "      <td>Risk</td>\n",
       "      <td>['B0002EXH4A', 'B0002EXH4U', 'B0002EXH4K', 'B0...</td>\n",
       "      <td>megadeth</td>\n",
       "      <td>&lt;bound method NDFrame.rank of          overall...</td>\n",
       "      <td>['B0002EXH5E', 'B00008EUMA', 'B0002EXH40', 'B0...</td>\n",
       "      <td>Digital Music</td>\n",
       "      <td>2.000000</td>\n",
       "      <td>['CDs &amp; Vinyl']</td>\n",
       "      <td>['Rock']</td>\n",
       "      <td>['Progressive']</td>\n",
       "    </tr>\n",
       "    <tr>\n",
       "      <th>249998</th>\n",
       "      <td>1.0</td>\n",
       "      <td>True</td>\n",
       "      <td>2016-07-16</td>\n",
       "      <td>A2ZRA0VW1EBSUR</td>\n",
       "      <td>B000002H33</td>\n",
       "      <td>Rachael Anderson</td>\n",
       "      <td>this was showed as it was available but it was...</td>\n",
       "      <td>Make sure in stock.</td>\n",
       "      <td>poor</td>\n",
       "      <td>Master of Puppets</td>\n",
       "      <td>['B01BUX7Z6M', 'B01BUX7Z5I', 'B00EBDXU4A', 'B0...</td>\n",
       "      <td>metallica</td>\n",
       "      <td>&lt;bound method NDFrame.rank of          overall...</td>\n",
       "      <td>['B00LYHXIE8', 'B07GW5LBS7', 'B01BUX7YY0', 'B0...</td>\n",
       "      <td>Digital Music</td>\n",
       "      <td>9.990000</td>\n",
       "      <td>['CDs &amp; Vinyl']</td>\n",
       "      <td>['Metal']</td>\n",
       "      <td>['Pop Metal']</td>\n",
       "    </tr>\n",
       "    <tr>\n",
       "      <th>249999</th>\n",
       "      <td>1.0</td>\n",
       "      <td>False</td>\n",
       "      <td>2010-01-23</td>\n",
       "      <td>AOBWQX84JB0NV</td>\n",
       "      <td>B00008NOQ1</td>\n",
       "      <td>TerryF</td>\n",
       "      <td>sharp uses the tried-and-tested scheme of virt...</td>\n",
       "      <td>complete cr@p</td>\n",
       "      <td>poor</td>\n",
       "      <td>Sharp UX-C70B Black Ink Cartridge UX-B700 Fax</td>\n",
       "      <td>['B00II8W2X4', 'B005585M14', 'B000VSHWKM', 'B0...</td>\n",
       "      <td>sharp</td>\n",
       "      <td>&lt;bound method NDFrame.rank of          overall...</td>\n",
       "      <td>['B00II8W2X4', 'B0021A8RJ8', 'B000187UYK', 'B0...</td>\n",
       "      <td>Office Products</td>\n",
       "      <td>16.556923</td>\n",
       "      <td>['Office  and School Supplies']</td>\n",
       "      <td>['Printer Ink  and Toner']</td>\n",
       "      <td>['Inkjet Printer Ink']</td>\n",
       "    </tr>\n",
       "  </tbody>\n",
       "</table>\n",
       "<p>250000 rows × 19 columns</p>\n",
       "</div>"
      ],
      "text/plain": [
       "        overall  verified  reviewTime      reviewerID        asin  \\\n",
       "0           4.0     False  2000-05-17   AED6KI8T2OEZU  B00000AGMV   \n",
       "1           4.0     False  2005-12-05   AK5DRX4JZ5OD0  B0002XEDNU   \n",
       "2           4.0     False  2007-06-14  A2O4R917QCTNBM  B0000029AP   \n",
       "3           4.0     False  2003-03-01  A2FGK9K4K10K86  B000001DSD   \n",
       "4           4.0      True  2016-09-18   AM7K76WF9BR7W  B000GWE8TQ   \n",
       "...         ...       ...         ...             ...         ...   \n",
       "249995      1.0      True  2018-02-06  A1RKZK2BHN49IW  B00006RSP9   \n",
       "249996      1.0      True  2015-12-19    AWZR0O65DL2Q  B0067VH3OC   \n",
       "249997      1.0     False  2006-04-07  A1JIW8GOSSGUQR  B00000JYY7   \n",
       "249998      1.0      True  2016-07-16  A2ZRA0VW1EBSUR  B000002H33   \n",
       "249999      1.0     False  2010-01-23   AOBWQX84JB0NV  B00008NOQ1   \n",
       "\n",
       "                 reviewerName  \\\n",
       "0                  rickshayne   \n",
       "1                         Reg   \n",
       "2                         sjc   \n",
       "3                   J. Miller   \n",
       "4                       Jesse   \n",
       "...                       ...   \n",
       "249995        Amazon Customer   \n",
       "249996  Nameless Faceless One   \n",
       "249997                T. Gore   \n",
       "249998       Rachael Anderson   \n",
       "249999                 TerryF   \n",
       "\n",
       "                                               reviewText  \\\n",
       "0       ok, i don't have this album but i'm sure after...   \n",
       "1       i've given this live album 4 stars only, simpl...   \n",
       "2       as other reviewers have said this is a classic...   \n",
       "3       in sides is a good orbital album -- but there'...   \n",
       "4       note that this is ink, not watercolor. they ar...   \n",
       "...                                                   ...   \n",
       "249995       got a black color in the carmine red pencil.   \n",
       "249996  i have been wrestling with these inks all day....   \n",
       "249997  how could any band named \"megadeth\" release a ...   \n",
       "249998  this was showed as it was available but it was...   \n",
       "249999  sharp uses the tried-and-tested scheme of virt...   \n",
       "\n",
       "                                              summary class  \\\n",
       "0       d_h_monroe@hotmail.com . Someone PLEASE REPLY  good   \n",
       "1                  A bit of a taste, a bit of a tease  good   \n",
       "2                          Great SACD Version of Toys  good   \n",
       "3                             Find the Other 2nd Disc  good   \n",
       "4                                          four stars  good   \n",
       "...                                               ...   ...   \n",
       "249995                      wrong color in the pencil  poor   \n",
       "249996                   faint colors and not working  poor   \n",
       "249997                     Stinks like a dirty diaper  poor   \n",
       "249998                            Make sure in stock.  poor   \n",
       "249999                                  complete cr@p  poor   \n",
       "\n",
       "                                                    title  \\\n",
       "0                                        In the Beginning   \n",
       "1                                                  Fiebre   \n",
       "2                            Toys In The Attic Remastered   \n",
       "3                                                In-Sides   \n",
       "4       Derwent Colored Pencils, Inktense Ink Pencils,...   \n",
       "...                                                   ...   \n",
       "249995  Prismacolor Col-Erase Erasable Colored Pencil,...   \n",
       "249996  Anti-UV Sublimation 100Ml Ink for Epson C68, C...   \n",
       "249997                                               Risk   \n",
       "249998                                  Master of Puppets   \n",
       "249999      Sharp UX-C70B Black Ink Cartridge UX-B700 Fax   \n",
       "\n",
       "                                                 also_buy         brand  \\\n",
       "0                                          ['B000002LAX']       madonna   \n",
       "1              ['B000005J53', 'B000006E4K', 'B00005B51H']  radio tarifa   \n",
       "2       ['B0000029AS', 'B0000029AN', 'B007V4QLOC', 'B0...     aerosmith   \n",
       "3       ['B000003R5R', 'B00000J8LA', 'B07CXFK8JH', 'B0...       orbital   \n",
       "4       ['B004QQ5I06', 'B000TKCWCU', 'B004QQ5I0Q', 'B0...       derwent   \n",
       "...                                                   ...           ...   \n",
       "249995  ['B000J07P9U', 'B000HHG5CI', 'B000JI6HOG', 'B0...   prismacolor   \n",
       "249996  ['B00ZJCDNMG', 'B00CEJQWFM', 'B000FSOZE4', 'B0...       ink jet   \n",
       "249997  ['B0002EXH4A', 'B0002EXH4U', 'B0002EXH4K', 'B0...      megadeth   \n",
       "249998  ['B01BUX7Z6M', 'B01BUX7Z5I', 'B00EBDXU4A', 'B0...     metallica   \n",
       "249999  ['B00II8W2X4', 'B005585M14', 'B000VSHWKM', 'B0...         sharp   \n",
       "\n",
       "                                                     rank  \\\n",
       "0       <bound method NDFrame.rank of          overall...   \n",
       "1       <bound method NDFrame.rank of          overall...   \n",
       "2       <bound method NDFrame.rank of          overall...   \n",
       "3       <bound method NDFrame.rank of          overall...   \n",
       "4       <bound method NDFrame.rank of          overall...   \n",
       "...                                                   ...   \n",
       "249995  <bound method NDFrame.rank of          overall...   \n",
       "249996  <bound method NDFrame.rank of          overall...   \n",
       "249997  <bound method NDFrame.rank of          overall...   \n",
       "249998  <bound method NDFrame.rank of          overall...   \n",
       "249999  <bound method NDFrame.rank of          overall...   \n",
       "\n",
       "                                                also_view         main_cat  \\\n",
       "0                                                      []    Digital Music   \n",
       "1                                          ['B000025AK1']    Digital Music   \n",
       "2       ['B00CJ7XYIC', 'B0000029AN', 'B016W63RR8', 'B0...    Digital Music   \n",
       "3       ['B07CXFK8JH', 'B00004T6UZ', 'B00VN7OFGO', 'B0...    Digital Music   \n",
       "4                                                      []  Office Products   \n",
       "...                                                   ...              ...   \n",
       "249995                                                 []  Office Products   \n",
       "249996  ['B06XSB4M8J', 'B000FSOZE4', 'B073V5LPL8', 'B0...  Office Products   \n",
       "249997  ['B0002EXH5E', 'B00008EUMA', 'B0002EXH40', 'B0...    Digital Music   \n",
       "249998  ['B00LYHXIE8', 'B07GW5LBS7', 'B01BUX7YY0', 'B0...    Digital Music   \n",
       "249999  ['B00II8W2X4', 'B0021A8RJ8', 'B000187UYK', 'B0...  Office Products   \n",
       "\n",
       "            price                 primary_category  \\\n",
       "0        4.420000                  ['CDs & Vinyl']   \n",
       "1       16.101245                  ['CDs & Vinyl']   \n",
       "2        1.990000                  ['CDs & Vinyl']   \n",
       "3       10.850000                  ['CDs & Vinyl']   \n",
       "4       13.990000  ['Office  and School Supplies']   \n",
       "...           ...                              ...   \n",
       "249995   5.520000  ['Office  and School Supplies']   \n",
       "249996  21.990000  ['Office  and School Supplies']   \n",
       "249997   2.000000                  ['CDs & Vinyl']   \n",
       "249998   9.990000                  ['CDs & Vinyl']   \n",
       "249999  16.556923  ['Office  and School Supplies']   \n",
       "\n",
       "                                     sub_cat                   product_type  \n",
       "0                     ['Dance & Electronic']                      ['Disco']  \n",
       "1                            ['World Music']                     ['Europe']  \n",
       "2                           ['Classic Rock']  ['Album-Oriented Rock (AOR)']  \n",
       "3                     ['Dance & Electronic']                    ['Ambient']  \n",
       "4                                  ['Paper']                            NaN  \n",
       "...                                      ...                            ...  \n",
       "249995  ['Writing  and Correction Supplies']                    ['Pencils']  \n",
       "249996            ['Printer Ink  and Toner']                            NaN  \n",
       "249997                              ['Rock']                ['Progressive']  \n",
       "249998                             ['Metal']                  ['Pop Metal']  \n",
       "249999            ['Printer Ink  and Toner']         ['Inkjet Printer Ink']  \n",
       "\n",
       "[250000 rows x 19 columns]"
      ]
     },
     "execution_count": 3,
     "metadata": {},
     "output_type": "execute_result"
    }
   ],
   "source": [
    "## sampling \n",
    "groupby_object = review.groupby('overall') \n",
    "dep=review['overall'].unique() \n",
    "strat_sample_df=pd.DataFrame() \n",
    "for d in dep:\n",
    "    d_data=groupby_object.get_group(d) \n",
    "    sample_data=d_data.sample(n = 50000,random_state=1)  \n",
    "    strat_sample_df=strat_sample_df.append(sample_data,ignore_index=True) \n",
    "    \n",
    "    \n",
    "strat_sample_df"
   ]
  },
  {
   "cell_type": "code",
   "execution_count": 4,
   "id": "96de64f3",
   "metadata": {},
   "outputs": [],
   "source": [
    "review_data = strat_sample_df"
   ]
  },
  {
   "cell_type": "code",
   "execution_count": 5,
   "id": "b2b06888",
   "metadata": {},
   "outputs": [],
   "source": [
    "a = review_data['reviewText']"
   ]
  },
  {
   "cell_type": "markdown",
   "id": "3c6377fe",
   "metadata": {},
   "source": [
    "## Data cleaning (removing all special characters, numbers etc)"
   ]
  },
  {
   "cell_type": "code",
   "execution_count": 6,
   "id": "ef7cdf14",
   "metadata": {},
   "outputs": [],
   "source": [
    "import re\n",
    "def clean_text(text):\n",
    "    \"\"\"\n",
    "    Return clean version of the text\n",
    "    \"\"\"\n",
    "    # Remove all non-letters and non-spaces except for hyphens and digits\n",
    "    text = re.sub(\"[^0-9A-Za-z\\- ]+\", \" \", text)\n",
    "    # Remove all numbers except those attached to a word\n",
    "    text = re.sub(\"(?<!\\w)\\d+\", \"\", text)\n",
    "    # Remove all hyphens except between two words\n",
    "    text = re.sub(\"-(?!\\w)|(?<!\\w)-\", \"\", text)\n",
    "    # Remove multiple spaces and lowercase everything\n",
    "    text = \" \".join(text.split())\n",
    "    text = text.lower()\n",
    "\n",
    "    return text"
   ]
  },
  {
   "cell_type": "code",
   "execution_count": 7,
   "id": "3ee2e6e5",
   "metadata": {},
   "outputs": [],
   "source": [
    "a = a.apply(clean_text)"
   ]
  },
  {
   "cell_type": "markdown",
   "id": "5832d296",
   "metadata": {},
   "source": [
    "## Removing all the stop words as per nltk library"
   ]
  },
  {
   "cell_type": "code",
   "execution_count": 8,
   "id": "178986cf",
   "metadata": {},
   "outputs": [
    {
     "data": {
      "text/plain": [
       "0         ok album m sure ll ll agree liking want know d...\n",
       "1         ve given live album stars simply know experien...\n",
       "2         reviewers said classic aerosmith album sounded...\n",
       "3         sides good orbital album different release not...\n",
       "4                    note ink watercolor semi-permanent dry\n",
       "                                ...                        \n",
       "249995                   got black color carmine red pencil\n",
       "249996    wrestling inks day printing transfer paper ima...\n",
       "249997    could band named megadeth release piece like a...\n",
       "249998    showed available really wanted oh well better ...\n",
       "249999    sharp uses tried-and-tested scheme virtually i...\n",
       "Name: reviewText, Length: 250000, dtype: object"
      ]
     },
     "execution_count": 8,
     "metadata": {},
     "output_type": "execute_result"
    }
   ],
   "source": [
    "stopwords = ['ourselves', 'hers', 'between', 'yourself', 'but', 'again', 'there', 'about', 'once', 'during', 'out', 'very', 'having', 'with', 'they', 'own', 'an', 'be', 'some', 'for', 'do', 'its', 'yours', 'such', 'into', 'of', 'most', 'itself', 'other', 'off', 'is', 's', 'am', 'or', 'who', 'as', 'from', 'him', 'each', 'the', 'themselves', 'until', 'below', 'are', 'we', 'these', 'your', 'his', 'through', 'don', 'nor', 'me', 'were', 'her', 'more', 'himself', 'this', 'down', 'should', 'our', 'their', 'while', 'above', 'both', 'up', 'to', 'ours', 'had', 'she', 'all', 'no', 'when', 'at', 'any', 'before', 'them', 'same', 'and', 'been', 'have', 'in', 'will', 'on', 'does', 'yourselves', 'then', 'that', 'because', 'what', 'over', 'why', 'so', 'can', 'did', 'not', 'now', 'under', 'he', 'you', 'herself', 'has', 'just', 'where', 'too', 'only', 'myself', 'which', 'those', 'i', 'after', 'few', 'whom', 't', 'being', 'if', 'theirs', 'my', 'against', 'a', 'by', 'doing', 'it', 'how', 'further', 'was', 'here', 'than']\n",
    "a = a.apply(lambda x :' '.join([word for word in x.split() if word not in (stopwords)]))\n",
    "a"
   ]
  },
  {
   "cell_type": "markdown",
   "id": "916bb157",
   "metadata": {},
   "source": [
    "# Installing and importing VaderSentiment for sentimental analysis "
   ]
  },
  {
   "cell_type": "code",
   "execution_count": 9,
   "id": "40ba4d59",
   "metadata": {},
   "outputs": [],
   "source": [
    "#pip install vaderSentiment"
   ]
  },
  {
   "cell_type": "code",
   "execution_count": 10,
   "id": "08796cb5",
   "metadata": {},
   "outputs": [],
   "source": [
    "from vaderSentiment.vaderSentiment import SentimentIntensityAnalyzer"
   ]
  },
  {
   "cell_type": "code",
   "execution_count": 11,
   "id": "6845d392",
   "metadata": {},
   "outputs": [],
   "source": [
    "def sentiment_scores(sentence):\n",
    "         \n",
    "    sid_obj = SentimentIntensityAnalyzer()\n",
    "    sentiment_dict = sid_obj.polarity_scores(sentence)\n",
    "    \n",
    "    sentiment = \"\"\n",
    "    \n",
    "    if sentiment_dict['compound'] >= 0.05 :\n",
    "        sentiment = \"Positive\"\n",
    " \n",
    "    elif sentiment_dict['compound'] <= - 0.05 :\n",
    "        sentiment = \"Negative\"\n",
    " \n",
    "    else :\n",
    "        sentiment = \"Neutral\"\n",
    "        \n",
    "    return sentiment"
   ]
  },
  {
   "cell_type": "code",
   "execution_count": 12,
   "id": "19b43a1c",
   "metadata": {},
   "outputs": [
    {
     "data": {
      "text/plain": [
       "'Positive'"
      ]
     },
     "execution_count": 12,
     "metadata": {},
     "output_type": "execute_result"
    }
   ],
   "source": [
    "sentiment_scores(review.reviewText[0])"
   ]
  },
  {
   "cell_type": "markdown",
   "id": "82b7d4af",
   "metadata": {},
   "source": [
    "## Generating the sentiment class for all the review text (testing)"
   ]
  },
  {
   "cell_type": "code",
   "execution_count": 13,
   "id": "c5527293",
   "metadata": {},
   "outputs": [
    {
     "data": {
      "text/plain": [
       "0     Positive\n",
       "1     Positive\n",
       "2     Positive\n",
       "3     Positive\n",
       "4      Neutral\n",
       "        ...   \n",
       "95    Negative\n",
       "96    Positive\n",
       "97    Positive\n",
       "98    Positive\n",
       "99    Positive\n",
       "Name: reviewText, Length: 100, dtype: object"
      ]
     },
     "execution_count": 13,
     "metadata": {},
     "output_type": "execute_result"
    }
   ],
   "source": [
    "p = a[:100].apply(lambda i : sentiment_scores(i))\n",
    "p"
   ]
  },
  {
   "cell_type": "code",
   "execution_count": 14,
   "id": "8c56b8ec",
   "metadata": {
    "scrolled": true
   },
   "outputs": [
    {
     "data": {
      "text/plain": [
       "Positive    85\n",
       "Neutral     12\n",
       "Negative     3\n",
       "Name: reviewText, dtype: int64"
      ]
     },
     "execution_count": 14,
     "metadata": {},
     "output_type": "execute_result"
    }
   ],
   "source": [
    "p.value_counts()"
   ]
  },
  {
   "cell_type": "code",
   "execution_count": 15,
   "id": "7895436c",
   "metadata": {
    "scrolled": true
   },
   "outputs": [
    {
     "data": {
      "text/plain": [
       "4.0    100\n",
       "Name: overall, dtype: int64"
      ]
     },
     "execution_count": 15,
     "metadata": {},
     "output_type": "execute_result"
    }
   ],
   "source": [
    "r = review_data.overall[0:100]\n",
    "r.value_counts()"
   ]
  },
  {
   "cell_type": "code",
   "execution_count": 16,
   "id": "a6020ded",
   "metadata": {
    "scrolled": false
   },
   "outputs": [
    {
     "data": {
      "text/html": [
       "<div>\n",
       "<style scoped>\n",
       "    .dataframe tbody tr th:only-of-type {\n",
       "        vertical-align: middle;\n",
       "    }\n",
       "\n",
       "    .dataframe tbody tr th {\n",
       "        vertical-align: top;\n",
       "    }\n",
       "\n",
       "    .dataframe thead th {\n",
       "        text-align: right;\n",
       "    }\n",
       "</style>\n",
       "<table border=\"1\" class=\"dataframe\">\n",
       "  <thead>\n",
       "    <tr style=\"text-align: right;\">\n",
       "      <th></th>\n",
       "      <th>overall</th>\n",
       "      <th>verified</th>\n",
       "      <th>reviewTime</th>\n",
       "      <th>reviewerID</th>\n",
       "      <th>asin</th>\n",
       "      <th>reviewerName</th>\n",
       "      <th>reviewText</th>\n",
       "      <th>summary</th>\n",
       "      <th>class</th>\n",
       "      <th>title</th>\n",
       "      <th>also_buy</th>\n",
       "      <th>brand</th>\n",
       "      <th>rank</th>\n",
       "      <th>also_view</th>\n",
       "      <th>main_cat</th>\n",
       "      <th>price</th>\n",
       "      <th>primary_category</th>\n",
       "      <th>sub_cat</th>\n",
       "      <th>product_type</th>\n",
       "      <th>review_sentiment</th>\n",
       "    </tr>\n",
       "  </thead>\n",
       "  <tbody>\n",
       "    <tr>\n",
       "      <th>0</th>\n",
       "      <td>4.0</td>\n",
       "      <td>False</td>\n",
       "      <td>2000-05-17</td>\n",
       "      <td>AED6KI8T2OEZU</td>\n",
       "      <td>B00000AGMV</td>\n",
       "      <td>rickshayne</td>\n",
       "      <td>ok, i don't have this album but i'm sure after...</td>\n",
       "      <td>d_h_monroe@hotmail.com . Someone PLEASE REPLY</td>\n",
       "      <td>good</td>\n",
       "      <td>In the Beginning</td>\n",
       "      <td>['B000002LAX']</td>\n",
       "      <td>madonna</td>\n",
       "      <td>&lt;bound method NDFrame.rank of          overall...</td>\n",
       "      <td>[]</td>\n",
       "      <td>Digital Music</td>\n",
       "      <td>4.420000</td>\n",
       "      <td>['CDs &amp; Vinyl']</td>\n",
       "      <td>['Dance &amp; Electronic']</td>\n",
       "      <td>['Disco']</td>\n",
       "      <td>NaN</td>\n",
       "    </tr>\n",
       "    <tr>\n",
       "      <th>1</th>\n",
       "      <td>4.0</td>\n",
       "      <td>False</td>\n",
       "      <td>2005-12-05</td>\n",
       "      <td>AK5DRX4JZ5OD0</td>\n",
       "      <td>B0002XEDNU</td>\n",
       "      <td>Reg</td>\n",
       "      <td>i've given this live album 4 stars only, simpl...</td>\n",
       "      <td>A bit of a taste, a bit of a tease</td>\n",
       "      <td>good</td>\n",
       "      <td>Fiebre</td>\n",
       "      <td>['B000005J53', 'B000006E4K', 'B00005B51H']</td>\n",
       "      <td>radio tarifa</td>\n",
       "      <td>&lt;bound method NDFrame.rank of          overall...</td>\n",
       "      <td>['B000025AK1']</td>\n",
       "      <td>Digital Music</td>\n",
       "      <td>16.101245</td>\n",
       "      <td>['CDs &amp; Vinyl']</td>\n",
       "      <td>['World Music']</td>\n",
       "      <td>['Europe']</td>\n",
       "      <td>NaN</td>\n",
       "    </tr>\n",
       "    <tr>\n",
       "      <th>2</th>\n",
       "      <td>4.0</td>\n",
       "      <td>False</td>\n",
       "      <td>2007-06-14</td>\n",
       "      <td>A2O4R917QCTNBM</td>\n",
       "      <td>B0000029AP</td>\n",
       "      <td>sjc</td>\n",
       "      <td>as other reviewers have said this is a classic...</td>\n",
       "      <td>Great SACD Version of Toys</td>\n",
       "      <td>good</td>\n",
       "      <td>Toys In The Attic Remastered</td>\n",
       "      <td>['B0000029AS', 'B0000029AN', 'B007V4QLOC', 'B0...</td>\n",
       "      <td>aerosmith</td>\n",
       "      <td>&lt;bound method NDFrame.rank of          overall...</td>\n",
       "      <td>['B00CJ7XYIC', 'B0000029AN', 'B016W63RR8', 'B0...</td>\n",
       "      <td>Digital Music</td>\n",
       "      <td>1.990000</td>\n",
       "      <td>['CDs &amp; Vinyl']</td>\n",
       "      <td>['Classic Rock']</td>\n",
       "      <td>['Album-Oriented Rock (AOR)']</td>\n",
       "      <td>NaN</td>\n",
       "    </tr>\n",
       "    <tr>\n",
       "      <th>3</th>\n",
       "      <td>4.0</td>\n",
       "      <td>False</td>\n",
       "      <td>2003-03-01</td>\n",
       "      <td>A2FGK9K4K10K86</td>\n",
       "      <td>B000001DSD</td>\n",
       "      <td>J. Miller</td>\n",
       "      <td>in sides is a good orbital album -- but there'...</td>\n",
       "      <td>Find the Other 2nd Disc</td>\n",
       "      <td>good</td>\n",
       "      <td>In-Sides</td>\n",
       "      <td>['B000003R5R', 'B00000J8LA', 'B07CXFK8JH', 'B0...</td>\n",
       "      <td>orbital</td>\n",
       "      <td>&lt;bound method NDFrame.rank of          overall...</td>\n",
       "      <td>['B07CXFK8JH', 'B00004T6UZ', 'B00VN7OFGO', 'B0...</td>\n",
       "      <td>Digital Music</td>\n",
       "      <td>10.850000</td>\n",
       "      <td>['CDs &amp; Vinyl']</td>\n",
       "      <td>['Dance &amp; Electronic']</td>\n",
       "      <td>['Ambient']</td>\n",
       "      <td>NaN</td>\n",
       "    </tr>\n",
       "    <tr>\n",
       "      <th>4</th>\n",
       "      <td>4.0</td>\n",
       "      <td>True</td>\n",
       "      <td>2016-09-18</td>\n",
       "      <td>AM7K76WF9BR7W</td>\n",
       "      <td>B000GWE8TQ</td>\n",
       "      <td>Jesse</td>\n",
       "      <td>note that this is ink, not watercolor. they ar...</td>\n",
       "      <td>four stars</td>\n",
       "      <td>good</td>\n",
       "      <td>Derwent Colored Pencils, Inktense Ink Pencils,...</td>\n",
       "      <td>['B004QQ5I06', 'B000TKCWCU', 'B004QQ5I0Q', 'B0...</td>\n",
       "      <td>derwent</td>\n",
       "      <td>&lt;bound method NDFrame.rank of          overall...</td>\n",
       "      <td>[]</td>\n",
       "      <td>Office Products</td>\n",
       "      <td>13.990000</td>\n",
       "      <td>['Office  and School Supplies']</td>\n",
       "      <td>['Paper']</td>\n",
       "      <td>NaN</td>\n",
       "      <td>NaN</td>\n",
       "    </tr>\n",
       "  </tbody>\n",
       "</table>\n",
       "</div>"
      ],
      "text/plain": [
       "   overall  verified  reviewTime      reviewerID        asin reviewerName  \\\n",
       "0      4.0     False  2000-05-17   AED6KI8T2OEZU  B00000AGMV   rickshayne   \n",
       "1      4.0     False  2005-12-05   AK5DRX4JZ5OD0  B0002XEDNU          Reg   \n",
       "2      4.0     False  2007-06-14  A2O4R917QCTNBM  B0000029AP          sjc   \n",
       "3      4.0     False  2003-03-01  A2FGK9K4K10K86  B000001DSD    J. Miller   \n",
       "4      4.0      True  2016-09-18   AM7K76WF9BR7W  B000GWE8TQ        Jesse   \n",
       "\n",
       "                                          reviewText  \\\n",
       "0  ok, i don't have this album but i'm sure after...   \n",
       "1  i've given this live album 4 stars only, simpl...   \n",
       "2  as other reviewers have said this is a classic...   \n",
       "3  in sides is a good orbital album -- but there'...   \n",
       "4  note that this is ink, not watercolor. they ar...   \n",
       "\n",
       "                                         summary class  \\\n",
       "0  d_h_monroe@hotmail.com . Someone PLEASE REPLY  good   \n",
       "1             A bit of a taste, a bit of a tease  good   \n",
       "2                     Great SACD Version of Toys  good   \n",
       "3                        Find the Other 2nd Disc  good   \n",
       "4                                     four stars  good   \n",
       "\n",
       "                                               title  \\\n",
       "0                                   In the Beginning   \n",
       "1                                             Fiebre   \n",
       "2                       Toys In The Attic Remastered   \n",
       "3                                           In-Sides   \n",
       "4  Derwent Colored Pencils, Inktense Ink Pencils,...   \n",
       "\n",
       "                                            also_buy         brand  \\\n",
       "0                                     ['B000002LAX']       madonna   \n",
       "1         ['B000005J53', 'B000006E4K', 'B00005B51H']  radio tarifa   \n",
       "2  ['B0000029AS', 'B0000029AN', 'B007V4QLOC', 'B0...     aerosmith   \n",
       "3  ['B000003R5R', 'B00000J8LA', 'B07CXFK8JH', 'B0...       orbital   \n",
       "4  ['B004QQ5I06', 'B000TKCWCU', 'B004QQ5I0Q', 'B0...       derwent   \n",
       "\n",
       "                                                rank  \\\n",
       "0  <bound method NDFrame.rank of          overall...   \n",
       "1  <bound method NDFrame.rank of          overall...   \n",
       "2  <bound method NDFrame.rank of          overall...   \n",
       "3  <bound method NDFrame.rank of          overall...   \n",
       "4  <bound method NDFrame.rank of          overall...   \n",
       "\n",
       "                                           also_view         main_cat  \\\n",
       "0                                                 []    Digital Music   \n",
       "1                                     ['B000025AK1']    Digital Music   \n",
       "2  ['B00CJ7XYIC', 'B0000029AN', 'B016W63RR8', 'B0...    Digital Music   \n",
       "3  ['B07CXFK8JH', 'B00004T6UZ', 'B00VN7OFGO', 'B0...    Digital Music   \n",
       "4                                                 []  Office Products   \n",
       "\n",
       "       price                 primary_category                 sub_cat  \\\n",
       "0   4.420000                  ['CDs & Vinyl']  ['Dance & Electronic']   \n",
       "1  16.101245                  ['CDs & Vinyl']         ['World Music']   \n",
       "2   1.990000                  ['CDs & Vinyl']        ['Classic Rock']   \n",
       "3  10.850000                  ['CDs & Vinyl']  ['Dance & Electronic']   \n",
       "4  13.990000  ['Office  and School Supplies']               ['Paper']   \n",
       "\n",
       "                    product_type  review_sentiment  \n",
       "0                      ['Disco']               NaN  \n",
       "1                     ['Europe']               NaN  \n",
       "2  ['Album-Oriented Rock (AOR)']               NaN  \n",
       "3                    ['Ambient']               NaN  \n",
       "4                            NaN               NaN  "
      ]
     },
     "execution_count": 16,
     "metadata": {},
     "output_type": "execute_result"
    }
   ],
   "source": [
    "review_data['review_sentiment'] = [np.nan]*len(review_data)\n",
    "review_data.head()"
   ]
  },
  {
   "cell_type": "markdown",
   "id": "41c22a51",
   "metadata": {},
   "source": [
    "# Generating sentiment category for the sample data for future analysis "
   ]
  },
  {
   "cell_type": "code",
   "execution_count": 17,
   "id": "a02bf415",
   "metadata": {
    "scrolled": true
   },
   "outputs": [
    {
     "data": {
      "text/plain": [
       "Positive    196662\n",
       "Negative     35763\n",
       "Neutral      17575\n",
       "Name: review_sentiment, dtype: int64"
      ]
     },
     "execution_count": 17,
     "metadata": {},
     "output_type": "execute_result"
    }
   ],
   "source": [
    "lst = []\n",
    "for i in a:\n",
    "    lst.append(sentiment_scores(i))\n",
    "\n",
    "review_data['review_sentiment'] = lst\n",
    "review_data.review_sentiment.value_counts()"
   ]
  },
  {
   "cell_type": "code",
   "execution_count": 18,
   "id": "c81c7deb",
   "metadata": {},
   "outputs": [
    {
     "data": {
      "text/plain": [
       "4.0    50000\n",
       "5.0    50000\n",
       "3.0    50000\n",
       "2.0    50000\n",
       "1.0    50000\n",
       "Name: overall, dtype: int64"
      ]
     },
     "execution_count": 18,
     "metadata": {},
     "output_type": "execute_result"
    }
   ],
   "source": [
    "review_data.overall.value_counts()"
   ]
  },
  {
   "cell_type": "code",
   "execution_count": 19,
   "id": "5ca39e1a",
   "metadata": {},
   "outputs": [
    {
     "data": {
      "text/plain": [
       "Digital Music                   154568\n",
       "Office Products                  66487\n",
       "All Electronics                  12991\n",
       "Amazon Home                       3658\n",
       "Movies & TV                       3450\n",
       "Arts Crafts & Sewing              2024\n",
       "Tools & Home Improvement          1333\n",
       "Industrial & Scientific           1299\n",
       "Computers                         1271\n",
       "Health & Personal Care             540\n",
       "Toys & Games                       486\n",
       "Books                              359\n",
       "Sports & Outdoors                  291\n",
       "Tools and Home Improvement         169\n",
       "Cell Phones & Accessories          161\n",
       "Camera & Photo                     122\n",
       "Home Audio & Theater               119\n",
       "Automotive                         105\n",
       "Amazon Fashion                     104\n",
       "Arts Crafts and Sewing              90\n",
       "Software                            79\n",
       "All Beauty                          74\n",
       "Industrial and Scientific           48\n",
       "Toys and Games                      32\n",
       "Baby                                31\n",
       "Health and Personal Care            27\n",
       "Home Audio and Theater              17\n",
       "Cell Phones and Accessories         15\n",
       "Pet Supplies                        14\n",
       "Musical Instruments                 11\n",
       "Sports and Outdoors                 10\n",
       "Gift Cards                           6\n",
       "Buy a Kindle                         3\n",
       "Amazon Devices                       3\n",
       "Grocery                              2\n",
       "Portable Audio & Accessories         1\n",
       "Name: main_cat, dtype: int64"
      ]
     },
     "execution_count": 19,
     "metadata": {},
     "output_type": "execute_result"
    }
   ],
   "source": [
    "review_data.main_cat.value_counts()"
   ]
  },
  {
   "cell_type": "code",
   "execution_count": 21,
   "id": "22ca38fa",
   "metadata": {},
   "outputs": [
    {
     "data": {
      "text/html": [
       "<div>\n",
       "<style scoped>\n",
       "    .dataframe tbody tr th:only-of-type {\n",
       "        vertical-align: middle;\n",
       "    }\n",
       "\n",
       "    .dataframe tbody tr th {\n",
       "        vertical-align: top;\n",
       "    }\n",
       "\n",
       "    .dataframe thead th {\n",
       "        text-align: right;\n",
       "    }\n",
       "</style>\n",
       "<table border=\"1\" class=\"dataframe\">\n",
       "  <thead>\n",
       "    <tr style=\"text-align: right;\">\n",
       "      <th></th>\n",
       "      <th>reviewText</th>\n",
       "      <th>review_sentiment</th>\n",
       "    </tr>\n",
       "  </thead>\n",
       "  <tbody>\n",
       "    <tr>\n",
       "      <th>0</th>\n",
       "      <td>ok, i don't have this album but i'm sure after...</td>\n",
       "      <td>Positive</td>\n",
       "    </tr>\n",
       "    <tr>\n",
       "      <th>1</th>\n",
       "      <td>i've given this live album 4 stars only, simpl...</td>\n",
       "      <td>Positive</td>\n",
       "    </tr>\n",
       "    <tr>\n",
       "      <th>2</th>\n",
       "      <td>as other reviewers have said this is a classic...</td>\n",
       "      <td>Positive</td>\n",
       "    </tr>\n",
       "    <tr>\n",
       "      <th>3</th>\n",
       "      <td>in sides is a good orbital album -- but there'...</td>\n",
       "      <td>Positive</td>\n",
       "    </tr>\n",
       "    <tr>\n",
       "      <th>4</th>\n",
       "      <td>note that this is ink, not watercolor. they ar...</td>\n",
       "      <td>Neutral</td>\n",
       "    </tr>\n",
       "  </tbody>\n",
       "</table>\n",
       "</div>"
      ],
      "text/plain": [
       "                                          reviewText review_sentiment\n",
       "0  ok, i don't have this album but i'm sure after...         Positive\n",
       "1  i've given this live album 4 stars only, simpl...         Positive\n",
       "2  as other reviewers have said this is a classic...         Positive\n",
       "3  in sides is a good orbital album -- but there'...         Positive\n",
       "4  note that this is ink, not watercolor. they ar...          Neutral"
      ]
     },
     "execution_count": 21,
     "metadata": {},
     "output_type": "execute_result"
    }
   ],
   "source": [
    "data = review_data[['reviewText','review_sentiment']]\n",
    "data.head()"
   ]
  },
  {
   "cell_type": "markdown",
   "id": "127a2bad",
   "metadata": {},
   "source": [
    "## Train test split of data"
   ]
  },
  {
   "cell_type": "code",
   "execution_count": 22,
   "id": "074341bd",
   "metadata": {},
   "outputs": [
    {
     "name": "stdout",
     "output_type": "stream",
     "text": [
      "Train index Int64Index([ 69769,  69873,   3869,  88259, 140907,  93326,   7577, 143471,\n",
      "             10506, 237955,\n",
      "            ...\n",
      "            196886,  61872, 208716, 128963, 206083,  36482,  40177, 150781,\n",
      "            235163, 210763],\n",
      "           dtype='int64', length=200000)\n",
      "Test index Int64Index([109672, 143738, 180135, 248710,  41081, 115582, 247319,   4024,\n",
      "             99395, 224873,\n",
      "            ...\n",
      "            247095,  59518, 162080, 213580,  91604,  23704, 228320, 101091,\n",
      "            174512, 244930],\n",
      "           dtype='int64', length=50000)\n"
     ]
    }
   ],
   "source": [
    "x_train, x_test, y_train, y_test = train_test_split(data['reviewText'],data['review_sentiment'], test_size=0.20, random_state=12)\n",
    "\n",
    "\n",
    "print('Train index',x_train.index)\n",
    "print('Test index',x_test.index)"
   ]
  },
  {
   "cell_type": "markdown",
   "id": "da0ed917",
   "metadata": {},
   "source": [
    "## TFIDF vectorizer model with Logistic Regression"
   ]
  },
  {
   "cell_type": "code",
   "execution_count": 23,
   "id": "e8bc23d2",
   "metadata": {},
   "outputs": [],
   "source": [
    "tfidf_vectorizer = TfidfVectorizer()\n",
    "x_train_vector = tfidf_vectorizer.fit_transform(x_train)\n",
    "x_test_vector = tfidf_vectorizer.transform(x_test)"
   ]
  },
  {
   "cell_type": "code",
   "execution_count": 24,
   "id": "ce078c57",
   "metadata": {},
   "outputs": [],
   "source": [
    "lr = LogisticRegression(max_iter = 200, verbose = 1)\n",
    "ovr = OneVsRestClassifier(lr)"
   ]
  },
  {
   "cell_type": "code",
   "execution_count": 25,
   "id": "399c5d86",
   "metadata": {},
   "outputs": [
    {
     "name": "stderr",
     "output_type": "stream",
     "text": [
      "[Parallel(n_jobs=1)]: Using backend SequentialBackend with 1 concurrent workers.\n",
      "C:\\Users\\ankit gurung\\anaconda3\\lib\\site-packages\\sklearn\\linear_model\\_logistic.py:814: ConvergenceWarning: lbfgs failed to converge (status=1):\n",
      "STOP: TOTAL NO. of ITERATIONS REACHED LIMIT.\n",
      "\n",
      "Increase the number of iterations (max_iter) or scale the data as shown in:\n",
      "    https://scikit-learn.org/stable/modules/preprocessing.html\n",
      "Please also refer to the documentation for alternative solver options:\n",
      "    https://scikit-learn.org/stable/modules/linear_model.html#logistic-regression\n",
      "  n_iter_i = _check_optimize_result(\n",
      "[Parallel(n_jobs=1)]: Done   1 out of   1 | elapsed:  1.0min finished\n"
     ]
    }
   ],
   "source": [
    "# fit the model on the training data\n",
    "lr.fit(x_train_vector, y_train)\n",
    "y_pred = lr.predict(x_test_vector)"
   ]
  },
  {
   "cell_type": "code",
   "execution_count": 26,
   "id": "00ba7b5e",
   "metadata": {},
   "outputs": [
    {
     "data": {
      "text/html": [
       "<div>\n",
       "<style scoped>\n",
       "    .dataframe tbody tr th:only-of-type {\n",
       "        vertical-align: middle;\n",
       "    }\n",
       "\n",
       "    .dataframe tbody tr th {\n",
       "        vertical-align: top;\n",
       "    }\n",
       "\n",
       "    .dataframe thead th {\n",
       "        text-align: right;\n",
       "    }\n",
       "</style>\n",
       "<table border=\"1\" class=\"dataframe\">\n",
       "  <thead>\n",
       "    <tr style=\"text-align: right;\">\n",
       "      <th></th>\n",
       "      <th>actual</th>\n",
       "      <th>predicted</th>\n",
       "    </tr>\n",
       "  </thead>\n",
       "  <tbody>\n",
       "    <tr>\n",
       "      <th>109672</th>\n",
       "      <td>Positive</td>\n",
       "      <td>Positive</td>\n",
       "    </tr>\n",
       "    <tr>\n",
       "      <th>143738</th>\n",
       "      <td>Positive</td>\n",
       "      <td>Positive</td>\n",
       "    </tr>\n",
       "    <tr>\n",
       "      <th>180135</th>\n",
       "      <td>Negative</td>\n",
       "      <td>Positive</td>\n",
       "    </tr>\n",
       "    <tr>\n",
       "      <th>248710</th>\n",
       "      <td>Positive</td>\n",
       "      <td>Positive</td>\n",
       "    </tr>\n",
       "    <tr>\n",
       "      <th>41081</th>\n",
       "      <td>Positive</td>\n",
       "      <td>Positive</td>\n",
       "    </tr>\n",
       "    <tr>\n",
       "      <th>...</th>\n",
       "      <td>...</td>\n",
       "      <td>...</td>\n",
       "    </tr>\n",
       "    <tr>\n",
       "      <th>23704</th>\n",
       "      <td>Positive</td>\n",
       "      <td>Positive</td>\n",
       "    </tr>\n",
       "    <tr>\n",
       "      <th>228320</th>\n",
       "      <td>Positive</td>\n",
       "      <td>Positive</td>\n",
       "    </tr>\n",
       "    <tr>\n",
       "      <th>101091</th>\n",
       "      <td>Positive</td>\n",
       "      <td>Positive</td>\n",
       "    </tr>\n",
       "    <tr>\n",
       "      <th>174512</th>\n",
       "      <td>Positive</td>\n",
       "      <td>Positive</td>\n",
       "    </tr>\n",
       "    <tr>\n",
       "      <th>244930</th>\n",
       "      <td>Positive</td>\n",
       "      <td>Positive</td>\n",
       "    </tr>\n",
       "  </tbody>\n",
       "</table>\n",
       "<p>50000 rows × 2 columns</p>\n",
       "</div>"
      ],
      "text/plain": [
       "          actual predicted\n",
       "109672  Positive  Positive\n",
       "143738  Positive  Positive\n",
       "180135  Negative  Positive\n",
       "248710  Positive  Positive\n",
       "41081   Positive  Positive\n",
       "...          ...       ...\n",
       "23704   Positive  Positive\n",
       "228320  Positive  Positive\n",
       "101091  Positive  Positive\n",
       "174512  Positive  Positive\n",
       "244930  Positive  Positive\n",
       "\n",
       "[50000 rows x 2 columns]"
      ]
     },
     "execution_count": 26,
     "metadata": {},
     "output_type": "execute_result"
    }
   ],
   "source": [
    "compare = pd.DataFrame()\n",
    "compare['actual'] = y_test\n",
    "compare['predicted'] = y_pred\n",
    "compare"
   ]
  },
  {
   "cell_type": "code",
   "execution_count": 27,
   "id": "d6d3949b",
   "metadata": {},
   "outputs": [
    {
     "name": "stdout",
     "output_type": "stream",
     "text": [
      "              precision    recall  f1-score   support\n",
      "\n",
      "    Negative       0.88      0.73      0.80      7207\n",
      "     Neutral       0.88      0.75      0.81      3509\n",
      "    Positive       0.94      0.98      0.96     39284\n",
      "\n",
      "    accuracy                           0.93     50000\n",
      "   macro avg       0.90      0.82      0.86     50000\n",
      "weighted avg       0.93      0.93      0.93     50000\n",
      "\n"
     ]
    }
   ],
   "source": [
    "print(classification_report(y_test, y_pred))"
   ]
  },
  {
   "cell_type": "code",
   "execution_count": 28,
   "id": "caf1d280",
   "metadata": {},
   "outputs": [
    {
     "name": "stdout",
     "output_type": "stream",
     "text": [
      "Accuracy  : 0.93\n",
      "Recall    : 0.93\n",
      "F1-score  : 0.93\n",
      "Precision : 0.93\n"
     ]
    }
   ],
   "source": [
    "accuracy1 = accuracy_score(y_test,y_pred)\n",
    "recall1   = recall_score(y_test,y_pred, average = 'weighted')\n",
    "f1score1  = f1_score(y_test,y_pred, average = 'weighted')\n",
    "precision1= precision_score(y_test,y_pred, average = 'weighted')\n",
    "\n",
    "\n",
    "print('Accuracy  :', round(accuracy1,2))\n",
    "print('Recall    :', round(recall1,2))\n",
    "print('F1-score  :', round(f1score1,2))\n",
    "print('Precision :', round(precision1,2))"
   ]
  },
  {
   "cell_type": "code",
   "execution_count": 30,
   "id": "a6d8e2d8",
   "metadata": {},
   "outputs": [
    {
     "data": {
      "image/png": "[encoded data removed]",
      "text/plain": [
       "<Figure size 432x288 with 2 Axes>"
      ]
     },
     "metadata": {
      "needs_background": "light"
     },
     "output_type": "display_data"
    }
   ],
   "source": [
    "from sklearn.metrics import confusion_matrix\n",
    "confusion_matrix1 = confusion_matrix(y_test, y_pred)\n",
    "cm_display = metrics.ConfusionMatrixDisplay(confusion_matrix = confusion_matrix1, display_labels = ['Negative', 'neutral','positive'])\n",
    "\n",
    "cm_display.plot()\n",
    "plt.show()"
   ]
  },
  {
   "cell_type": "markdown",
   "id": "dc7bdf41",
   "metadata": {},
   "source": [
    "## There are a total of 46,542 correctly predicted categlories (38,640+2635+5267)\n",
    "## There are a total of 3458 correctly predicted categories (183+511+218+133+1722+691)\n",
    "## The F1 score of predicting Positive sentiment is the highest with 98% F1 Score\n",
    "## The overall F1 score and Accuracy is also high making it a good model for sentiment analysis "
   ]
  },
  {
   "cell_type": "markdown",
   "id": "30207df8",
   "metadata": {},
   "source": [
    "# -------------------------------------------------------------------------------------------------------"
   ]
  },
  {
   "cell_type": "markdown",
   "id": "b0928664",
   "metadata": {},
   "source": [
    "## Other observations: \n",
    "## The overall score for all the reviews is not in accordance with the text. \n",
    "## Hence overall scorer can not be used for classifying the sentiment of the review "
   ]
  },
  {
   "cell_type": "markdown",
   "id": "c986bfa5",
   "metadata": {},
   "source": [
    "# TFIDF vectorizer model with OVR classifer"
   ]
  },
  {
   "cell_type": "code",
   "execution_count": 31,
   "id": "97745d09",
   "metadata": {},
   "outputs": [
    {
     "name": "stderr",
     "output_type": "stream",
     "text": [
      "[Parallel(n_jobs=1)]: Using backend SequentialBackend with 1 concurrent workers.\n",
      "[Parallel(n_jobs=1)]: Done   1 out of   1 | elapsed:   16.5s finished\n",
      "[Parallel(n_jobs=1)]: Using backend SequentialBackend with 1 concurrent workers.\n",
      "[Parallel(n_jobs=1)]: Done   1 out of   1 | elapsed:   12.1s finished\n",
      "[Parallel(n_jobs=1)]: Using backend SequentialBackend with 1 concurrent workers.\n",
      "C:\\Users\\ankit gurung\\anaconda3\\lib\\site-packages\\sklearn\\linear_model\\_logistic.py:814: ConvergenceWarning: lbfgs failed to converge (status=1):\n",
      "STOP: TOTAL NO. of ITERATIONS REACHED LIMIT.\n",
      "\n",
      "Increase the number of iterations (max_iter) or scale the data as shown in:\n",
      "    https://scikit-learn.org/stable/modules/preprocessing.html\n",
      "Please also refer to the documentation for alternative solver options:\n",
      "    https://scikit-learn.org/stable/modules/linear_model.html#logistic-regression\n",
      "  n_iter_i = _check_optimize_result(\n",
      "[Parallel(n_jobs=1)]: Done   1 out of   1 | elapsed:   17.1s finished\n"
     ]
    }
   ],
   "source": [
    "# fit the model on the training data\n",
    "ovr.fit(x_train_vector, y_train)\n",
    "y_pred2= ovr.predict(x_test_vector)"
   ]
  },
  {
   "cell_type": "code",
   "execution_count": 32,
   "id": "5474c311",
   "metadata": {},
   "outputs": [
    {
     "data": {
      "text/html": [
       "<div>\n",
       "<style scoped>\n",
       "    .dataframe tbody tr th:only-of-type {\n",
       "        vertical-align: middle;\n",
       "    }\n",
       "\n",
       "    .dataframe tbody tr th {\n",
       "        vertical-align: top;\n",
       "    }\n",
       "\n",
       "    .dataframe thead th {\n",
       "        text-align: right;\n",
       "    }\n",
       "</style>\n",
       "<table border=\"1\" class=\"dataframe\">\n",
       "  <thead>\n",
       "    <tr style=\"text-align: right;\">\n",
       "      <th></th>\n",
       "      <th>actual</th>\n",
       "      <th>predicted</th>\n",
       "    </tr>\n",
       "  </thead>\n",
       "  <tbody>\n",
       "    <tr>\n",
       "      <th>109672</th>\n",
       "      <td>Positive</td>\n",
       "      <td>Positive</td>\n",
       "    </tr>\n",
       "    <tr>\n",
       "      <th>143738</th>\n",
       "      <td>Positive</td>\n",
       "      <td>Positive</td>\n",
       "    </tr>\n",
       "    <tr>\n",
       "      <th>180135</th>\n",
       "      <td>Negative</td>\n",
       "      <td>Positive</td>\n",
       "    </tr>\n",
       "    <tr>\n",
       "      <th>248710</th>\n",
       "      <td>Positive</td>\n",
       "      <td>Positive</td>\n",
       "    </tr>\n",
       "    <tr>\n",
       "      <th>41081</th>\n",
       "      <td>Positive</td>\n",
       "      <td>Positive</td>\n",
       "    </tr>\n",
       "    <tr>\n",
       "      <th>...</th>\n",
       "      <td>...</td>\n",
       "      <td>...</td>\n",
       "    </tr>\n",
       "    <tr>\n",
       "      <th>23704</th>\n",
       "      <td>Positive</td>\n",
       "      <td>Positive</td>\n",
       "    </tr>\n",
       "    <tr>\n",
       "      <th>228320</th>\n",
       "      <td>Positive</td>\n",
       "      <td>Positive</td>\n",
       "    </tr>\n",
       "    <tr>\n",
       "      <th>101091</th>\n",
       "      <td>Positive</td>\n",
       "      <td>Positive</td>\n",
       "    </tr>\n",
       "    <tr>\n",
       "      <th>174512</th>\n",
       "      <td>Positive</td>\n",
       "      <td>Positive</td>\n",
       "    </tr>\n",
       "    <tr>\n",
       "      <th>244930</th>\n",
       "      <td>Positive</td>\n",
       "      <td>Positive</td>\n",
       "    </tr>\n",
       "  </tbody>\n",
       "</table>\n",
       "<p>50000 rows × 2 columns</p>\n",
       "</div>"
      ],
      "text/plain": [
       "          actual predicted\n",
       "109672  Positive  Positive\n",
       "143738  Positive  Positive\n",
       "180135  Negative  Positive\n",
       "248710  Positive  Positive\n",
       "41081   Positive  Positive\n",
       "...          ...       ...\n",
       "23704   Positive  Positive\n",
       "228320  Positive  Positive\n",
       "101091  Positive  Positive\n",
       "174512  Positive  Positive\n",
       "244930  Positive  Positive\n",
       "\n",
       "[50000 rows x 2 columns]"
      ]
     },
     "execution_count": 32,
     "metadata": {},
     "output_type": "execute_result"
    }
   ],
   "source": [
    "compare2 = pd.DataFrame()\n",
    "compare2['actual'] = y_test\n",
    "compare2['predicted'] = y_pred2\n",
    "compare2"
   ]
  },
  {
   "cell_type": "code",
   "execution_count": 33,
   "id": "eae0e27f",
   "metadata": {},
   "outputs": [
    {
     "name": "stdout",
     "output_type": "stream",
     "text": [
      "              precision    recall  f1-score   support\n",
      "\n",
      "    Negative       0.89      0.68      0.77      7207\n",
      "     Neutral       0.90      0.70      0.79      3509\n",
      "    Positive       0.93      0.99      0.96     39284\n",
      "\n",
      "    accuracy                           0.92     50000\n",
      "   macro avg       0.91      0.79      0.84     50000\n",
      "weighted avg       0.92      0.92      0.92     50000\n",
      "\n"
     ]
    }
   ],
   "source": [
    "print(classification_report(y_test, y_pred2))"
   ]
  },
  {
   "cell_type": "code",
   "execution_count": 34,
   "id": "52ca9791",
   "metadata": {},
   "outputs": [
    {
     "name": "stdout",
     "output_type": "stream",
     "text": [
      "Accuracy  : 0.92\n",
      "Recall    : 0.92\n",
      "F1-score  : 0.92\n",
      "Precision : 0.92\n"
     ]
    }
   ],
   "source": [
    "accuracy2 = accuracy_score(y_test,y_pred2)\n",
    "recall2 = recall_score(y_test,y_pred2, average = 'weighted')\n",
    "f1score2  = f1_score(y_test,y_pred2, average = 'weighted')\n",
    "precision2= precision_score(y_test,y_pred2, average = 'weighted')\n",
    "\n",
    "\n",
    "print('Accuracy  :', round(accuracy2,2))\n",
    "print('Recall    :', round(recall2,2))\n",
    "print('F1-score  :', round(f1score2,2))\n",
    "print('Precision :', round(precision2,2))"
   ]
  },
  {
   "cell_type": "code",
   "execution_count": 35,
   "id": "dde8796a",
   "metadata": {},
   "outputs": [
    {
     "data": {
      "image/png": "[encoded data removed]",
      "text/plain": [
       "<Figure size 432x288 with 2 Axes>"
      ]
     },
     "metadata": {
      "needs_background": "light"
     },
     "output_type": "display_data"
    }
   ],
   "source": [
    "confusion_matrix2 = confusion_matrix(y_test, y_pred2)\n",
    "cm_display2 = metrics.ConfusionMatrixDisplay(confusion_matrix = confusion_matrix2, display_labels = ['Negative', 'neutral','positive'])\n",
    "\n",
    "cm_display2.plot()\n",
    "plt.show()"
   ]
  },
  {
   "cell_type": "markdown",
   "id": "cea6061e",
   "metadata": {},
   "source": [
    "# TFIDF vectorizer model with MultinomialNB Classifier."
   ]
  },
  {
   "cell_type": "code",
   "execution_count": 36,
   "id": "f049794d",
   "metadata": {},
   "outputs": [],
   "source": [
    "model3= MultinomialNB().fit(x_train_vector, y_train)\n",
    "y_pred3 = model3.predict(x_test_vector)"
   ]
  },
  {
   "cell_type": "code",
   "execution_count": 37,
   "id": "ac842250",
   "metadata": {},
   "outputs": [
    {
     "data": {
      "text/html": [
       "<div>\n",
       "<style scoped>\n",
       "    .dataframe tbody tr th:only-of-type {\n",
       "        vertical-align: middle;\n",
       "    }\n",
       "\n",
       "    .dataframe tbody tr th {\n",
       "        vertical-align: top;\n",
       "    }\n",
       "\n",
       "    .dataframe thead th {\n",
       "        text-align: right;\n",
       "    }\n",
       "</style>\n",
       "<table border=\"1\" class=\"dataframe\">\n",
       "  <thead>\n",
       "    <tr style=\"text-align: right;\">\n",
       "      <th></th>\n",
       "      <th>actual</th>\n",
       "      <th>predicted</th>\n",
       "    </tr>\n",
       "  </thead>\n",
       "  <tbody>\n",
       "    <tr>\n",
       "      <th>109672</th>\n",
       "      <td>Positive</td>\n",
       "      <td>Positive</td>\n",
       "    </tr>\n",
       "    <tr>\n",
       "      <th>143738</th>\n",
       "      <td>Positive</td>\n",
       "      <td>Positive</td>\n",
       "    </tr>\n",
       "    <tr>\n",
       "      <th>180135</th>\n",
       "      <td>Negative</td>\n",
       "      <td>Positive</td>\n",
       "    </tr>\n",
       "    <tr>\n",
       "      <th>248710</th>\n",
       "      <td>Positive</td>\n",
       "      <td>Positive</td>\n",
       "    </tr>\n",
       "    <tr>\n",
       "      <th>41081</th>\n",
       "      <td>Positive</td>\n",
       "      <td>Positive</td>\n",
       "    </tr>\n",
       "    <tr>\n",
       "      <th>...</th>\n",
       "      <td>...</td>\n",
       "      <td>...</td>\n",
       "    </tr>\n",
       "    <tr>\n",
       "      <th>23704</th>\n",
       "      <td>Positive</td>\n",
       "      <td>Positive</td>\n",
       "    </tr>\n",
       "    <tr>\n",
       "      <th>228320</th>\n",
       "      <td>Positive</td>\n",
       "      <td>Positive</td>\n",
       "    </tr>\n",
       "    <tr>\n",
       "      <th>101091</th>\n",
       "      <td>Positive</td>\n",
       "      <td>Positive</td>\n",
       "    </tr>\n",
       "    <tr>\n",
       "      <th>174512</th>\n",
       "      <td>Positive</td>\n",
       "      <td>Positive</td>\n",
       "    </tr>\n",
       "    <tr>\n",
       "      <th>244930</th>\n",
       "      <td>Positive</td>\n",
       "      <td>Positive</td>\n",
       "    </tr>\n",
       "  </tbody>\n",
       "</table>\n",
       "<p>50000 rows × 2 columns</p>\n",
       "</div>"
      ],
      "text/plain": [
       "          actual predicted\n",
       "109672  Positive  Positive\n",
       "143738  Positive  Positive\n",
       "180135  Negative  Positive\n",
       "248710  Positive  Positive\n",
       "41081   Positive  Positive\n",
       "...          ...       ...\n",
       "23704   Positive  Positive\n",
       "228320  Positive  Positive\n",
       "101091  Positive  Positive\n",
       "174512  Positive  Positive\n",
       "244930  Positive  Positive\n",
       "\n",
       "[50000 rows x 2 columns]"
      ]
     },
     "execution_count": 37,
     "metadata": {},
     "output_type": "execute_result"
    }
   ],
   "source": [
    "compare3 = pd.DataFrame()\n",
    "compare3['actual'] = y_test\n",
    "compare3['predicted'] = y_pred3\n",
    "compare3"
   ]
  },
  {
   "cell_type": "code",
   "execution_count": 38,
   "id": "7ce0887c",
   "metadata": {},
   "outputs": [
    {
     "name": "stdout",
     "output_type": "stream",
     "text": [
      "              precision    recall  f1-score   support\n",
      "\n",
      "    Negative       0.84      0.00      0.01      7207\n",
      "     Neutral       0.50      0.01      0.02      3509\n",
      "    Positive       0.79      1.00      0.88     39284\n",
      "\n",
      "    accuracy                           0.79     50000\n",
      "   macro avg       0.71      0.34      0.30     50000\n",
      "weighted avg       0.77      0.79      0.69     50000\n",
      "\n"
     ]
    }
   ],
   "source": [
    "print(classification_report(y_test, y_pred3))"
   ]
  },
  {
   "cell_type": "code",
   "execution_count": 39,
   "id": "798ec347",
   "metadata": {},
   "outputs": [
    {
     "name": "stdout",
     "output_type": "stream",
     "text": [
      "Accuracy  : 0.79\n",
      "Recall    : 0.79\n",
      "F1-score  : 0.69\n",
      "Precision : 0.77\n"
     ]
    }
   ],
   "source": [
    "accuracy3 = accuracy_score(y_test,y_pred3)\n",
    "recall3 = recall_score(y_test,y_pred3, average = 'weighted')\n",
    "f1score3  = f1_score(y_test,y_pred3, average = 'weighted')\n",
    "precision3= precision_score(y_test,y_pred3, average = 'weighted')\n",
    "\n",
    "\n",
    "print('Accuracy  :', round(accuracy3,2))\n",
    "print('Recall    :', round(recall3,2))\n",
    "print('F1-score  :', round(f1score3,2))\n",
    "print('Precision :', round(precision3,2))"
   ]
  },
  {
   "cell_type": "code",
   "execution_count": 40,
   "id": "3a896966",
   "metadata": {},
   "outputs": [
    {
     "data": {
      "image/png": "[encoded data removed]",
      "text/plain": [
       "<Figure size 432x288 with 2 Axes>"
      ]
     },
     "metadata": {
      "needs_background": "light"
     },
     "output_type": "display_data"
    }
   ],
   "source": [
    "confusion_matrix3 = confusion_matrix(y_test, y_pred3)\n",
    "cm_display3 = metrics.ConfusionMatrixDisplay(confusion_matrix = confusion_matrix3, display_labels = ['Negative', 'neutral','positive'])\n",
    "\n",
    "cm_display3.plot()\n",
    "plt.show()"
   ]
  },
  {
   "cell_type": "markdown",
   "id": "0117f84c",
   "metadata": {},
   "source": [
    "# TFIDF vectorizer model with DecisionTreeClassifier ."
   ]
  },
  {
   "cell_type": "code",
   "execution_count": 41,
   "id": "cc3dd577",
   "metadata": {},
   "outputs": [
    {
     "data": {
      "text/plain": [
       "[0.78568,\n",
       " 0.78568,\n",
       " 0.78568,\n",
       " 0.78622,\n",
       " 0.78612,\n",
       " 0.78658,\n",
       " 0.78944,\n",
       " 0.79094,\n",
       " 0.79512]"
      ]
     },
     "execution_count": 41,
     "metadata": {},
     "output_type": "execute_result"
    }
   ],
   "source": [
    "from sklearn.tree import DecisionTreeClassifier\n",
    "max_depth_range = list(range(1, 10))\n",
    "accuracy = []\n",
    "for depth in max_depth_range:\n",
    "    clf = DecisionTreeClassifier(max_depth = depth, random_state = 42)\n",
    "    clf.fit(x_train_vector, y_train)    \n",
    "    score = clf.score(x_test_vector, y_test)\n",
    "    accuracy.append(score)\n",
    "    \n",
    "accuracy"
   ]
  },
  {
   "cell_type": "code",
   "execution_count": 42,
   "id": "0f8fe5f8",
   "metadata": {},
   "outputs": [
    {
     "data": {
      "image/png": "[encoded data removed]",
      "text/plain": [
       "<Figure size 432x288 with 1 Axes>"
      ]
     },
     "metadata": {
      "needs_background": "light"
     },
     "output_type": "display_data"
    }
   ],
   "source": [
    "fig, ax = plt.subplots(figsize=(6,4))\n",
    "ax.plot(range(1,10), accuracy)\n",
    "plt.show()"
   ]
  },
  {
   "cell_type": "code",
   "execution_count": 43,
   "id": "3db0f660",
   "metadata": {},
   "outputs": [
    {
     "data": {
      "text/plain": [
       "DecisionTreeClassifier(max_depth=6, random_state=42)"
      ]
     },
     "execution_count": 43,
     "metadata": {},
     "output_type": "execute_result"
    }
   ],
   "source": [
    "model_tree = DecisionTreeClassifier(max_depth=6, random_state=42)\n",
    "model_tree.fit(x_train_vector, y_train)"
   ]
  },
  {
   "cell_type": "code",
   "execution_count": 44,
   "id": "05f976a2",
   "metadata": {},
   "outputs": [],
   "source": [
    "y_pred_tree = model_tree.predict(x_test_vector)"
   ]
  },
  {
   "cell_type": "code",
   "execution_count": 45,
   "id": "bdbb2a00",
   "metadata": {},
   "outputs": [
    {
     "data": {
      "text/html": [
       "<div>\n",
       "<style scoped>\n",
       "    .dataframe tbody tr th:only-of-type {\n",
       "        vertical-align: middle;\n",
       "    }\n",
       "\n",
       "    .dataframe tbody tr th {\n",
       "        vertical-align: top;\n",
       "    }\n",
       "\n",
       "    .dataframe thead th {\n",
       "        text-align: right;\n",
       "    }\n",
       "</style>\n",
       "<table border=\"1\" class=\"dataframe\">\n",
       "  <thead>\n",
       "    <tr style=\"text-align: right;\">\n",
       "      <th></th>\n",
       "      <th>actual</th>\n",
       "      <th>predicted</th>\n",
       "    </tr>\n",
       "  </thead>\n",
       "  <tbody>\n",
       "    <tr>\n",
       "      <th>109672</th>\n",
       "      <td>Positive</td>\n",
       "      <td>Positive</td>\n",
       "    </tr>\n",
       "    <tr>\n",
       "      <th>143738</th>\n",
       "      <td>Positive</td>\n",
       "      <td>Positive</td>\n",
       "    </tr>\n",
       "    <tr>\n",
       "      <th>180135</th>\n",
       "      <td>Negative</td>\n",
       "      <td>Positive</td>\n",
       "    </tr>\n",
       "    <tr>\n",
       "      <th>248710</th>\n",
       "      <td>Positive</td>\n",
       "      <td>Positive</td>\n",
       "    </tr>\n",
       "    <tr>\n",
       "      <th>41081</th>\n",
       "      <td>Positive</td>\n",
       "      <td>Positive</td>\n",
       "    </tr>\n",
       "    <tr>\n",
       "      <th>...</th>\n",
       "      <td>...</td>\n",
       "      <td>...</td>\n",
       "    </tr>\n",
       "    <tr>\n",
       "      <th>23704</th>\n",
       "      <td>Positive</td>\n",
       "      <td>Positive</td>\n",
       "    </tr>\n",
       "    <tr>\n",
       "      <th>228320</th>\n",
       "      <td>Positive</td>\n",
       "      <td>Positive</td>\n",
       "    </tr>\n",
       "    <tr>\n",
       "      <th>101091</th>\n",
       "      <td>Positive</td>\n",
       "      <td>Positive</td>\n",
       "    </tr>\n",
       "    <tr>\n",
       "      <th>174512</th>\n",
       "      <td>Positive</td>\n",
       "      <td>Positive</td>\n",
       "    </tr>\n",
       "    <tr>\n",
       "      <th>244930</th>\n",
       "      <td>Positive</td>\n",
       "      <td>Negative</td>\n",
       "    </tr>\n",
       "  </tbody>\n",
       "</table>\n",
       "<p>50000 rows × 2 columns</p>\n",
       "</div>"
      ],
      "text/plain": [
       "          actual predicted\n",
       "109672  Positive  Positive\n",
       "143738  Positive  Positive\n",
       "180135  Negative  Positive\n",
       "248710  Positive  Positive\n",
       "41081   Positive  Positive\n",
       "...          ...       ...\n",
       "23704   Positive  Positive\n",
       "228320  Positive  Positive\n",
       "101091  Positive  Positive\n",
       "174512  Positive  Positive\n",
       "244930  Positive  Negative\n",
       "\n",
       "[50000 rows x 2 columns]"
      ]
     },
     "execution_count": 45,
     "metadata": {},
     "output_type": "execute_result"
    }
   ],
   "source": [
    "compare4 = pd.DataFrame()\n",
    "compare4['actual'] = y_test\n",
    "compare4['predicted'] = y_pred_tree\n",
    "compare4"
   ]
  },
  {
   "cell_type": "code",
   "execution_count": 46,
   "id": "676c70f9",
   "metadata": {},
   "outputs": [
    {
     "name": "stderr",
     "output_type": "stream",
     "text": [
      "C:\\Users\\ankit gurung\\anaconda3\\lib\\site-packages\\sklearn\\metrics\\_classification.py:1318: UndefinedMetricWarning: Precision and F-score are ill-defined and being set to 0.0 in labels with no predicted samples. Use `zero_division` parameter to control this behavior.\n",
      "  _warn_prf(average, modifier, msg_start, len(result))\n"
     ]
    },
    {
     "name": "stdout",
     "output_type": "stream",
     "text": [
      "              precision    recall  f1-score   support\n",
      "\n",
      "    Negative       0.56      0.02      0.05      7207\n",
      "     Neutral       0.00      0.00      0.00      3509\n",
      "    Positive       0.79      1.00      0.88     39284\n",
      "\n",
      "    accuracy                           0.79     50000\n",
      "   macro avg       0.45      0.34      0.31     50000\n",
      "weighted avg       0.70      0.79      0.70     50000\n",
      "\n"
     ]
    },
    {
     "name": "stderr",
     "output_type": "stream",
     "text": [
      "C:\\Users\\ankit gurung\\anaconda3\\lib\\site-packages\\sklearn\\metrics\\_classification.py:1318: UndefinedMetricWarning: Precision and F-score are ill-defined and being set to 0.0 in labels with no predicted samples. Use `zero_division` parameter to control this behavior.\n",
      "  _warn_prf(average, modifier, msg_start, len(result))\n",
      "C:\\Users\\ankit gurung\\anaconda3\\lib\\site-packages\\sklearn\\metrics\\_classification.py:1318: UndefinedMetricWarning: Precision and F-score are ill-defined and being set to 0.0 in labels with no predicted samples. Use `zero_division` parameter to control this behavior.\n",
      "  _warn_prf(average, modifier, msg_start, len(result))\n"
     ]
    }
   ],
   "source": [
    "print(classification_report(y_test, y_pred_tree))"
   ]
  },
  {
   "cell_type": "code",
   "execution_count": 47,
   "id": "4830588c",
   "metadata": {},
   "outputs": [
    {
     "name": "stdout",
     "output_type": "stream",
     "text": [
      "Accuracy  : 0.79\n",
      "Recall    : 0.79\n",
      "F1-score  : 0.7\n",
      "Precision : 0.7\n"
     ]
    },
    {
     "name": "stderr",
     "output_type": "stream",
     "text": [
      "C:\\Users\\ankit gurung\\anaconda3\\lib\\site-packages\\sklearn\\metrics\\_classification.py:1318: UndefinedMetricWarning: Precision is ill-defined and being set to 0.0 in labels with no predicted samples. Use `zero_division` parameter to control this behavior.\n",
      "  _warn_prf(average, modifier, msg_start, len(result))\n"
     ]
    }
   ],
   "source": [
    "accuracy4= accuracy_score(y_test,y_pred_tree)\n",
    "recall4 = recall_score(y_test,y_pred_tree, average = 'weighted')\n",
    "f1score4  = f1_score(y_test,y_pred_tree, average = 'weighted')\n",
    "precision4= precision_score(y_test,y_pred_tree, average = 'weighted')\n",
    "\n",
    "\n",
    "print('Accuracy  :', round(accuracy4,2))\n",
    "print('Recall    :', round(recall4,2))\n",
    "print('F1-score  :', round(f1score4,2))\n",
    "print('Precision :', round(precision4,2))"
   ]
  },
  {
   "cell_type": "code",
   "execution_count": 48,
   "id": "e592a231",
   "metadata": {},
   "outputs": [
    {
     "data": {
      "image/png": "[encoded data removed]",
      "text/plain": [
       "<Figure size 432x288 with 2 Axes>"
      ]
     },
     "metadata": {
      "needs_background": "light"
     },
     "output_type": "display_data"
    }
   ],
   "source": [
    "confusion_matrix4 = confusion_matrix(y_test, y_pred_tree)\n",
    "cm_display4 = metrics.ConfusionMatrixDisplay(confusion_matrix = confusion_matrix4, display_labels = ['Negative', 'neutral','positive'])\n",
    "\n",
    "cm_display4.plot()\n",
    "plt.show()"
   ]
  },
  {
   "cell_type": "markdown",
   "id": "7f0e4bc8",
   "metadata": {},
   "source": [
    "# TFIDF vectorizer model with RandomForestClassifier ."
   ]
  },
  {
   "cell_type": "code",
   "execution_count": 49,
   "id": "b22342b9",
   "metadata": {},
   "outputs": [],
   "source": [
    "from sklearn.ensemble import RandomForestClassifier\n",
    "clf1=RandomForestClassifier(n_jobs=-1)\n",
    "clf1.fit(x_train_vector, y_train)\n",
    "y_pred5 = clf1.predict(x_test_vector) "
   ]
  },
  {
   "cell_type": "code",
   "execution_count": 50,
   "id": "22e35432",
   "metadata": {},
   "outputs": [
    {
     "data": {
      "text/html": [
       "<div>\n",
       "<style scoped>\n",
       "    .dataframe tbody tr th:only-of-type {\n",
       "        vertical-align: middle;\n",
       "    }\n",
       "\n",
       "    .dataframe tbody tr th {\n",
       "        vertical-align: top;\n",
       "    }\n",
       "\n",
       "    .dataframe thead th {\n",
       "        text-align: right;\n",
       "    }\n",
       "</style>\n",
       "<table border=\"1\" class=\"dataframe\">\n",
       "  <thead>\n",
       "    <tr style=\"text-align: right;\">\n",
       "      <th></th>\n",
       "      <th>actual</th>\n",
       "      <th>predicted</th>\n",
       "    </tr>\n",
       "  </thead>\n",
       "  <tbody>\n",
       "    <tr>\n",
       "      <th>109672</th>\n",
       "      <td>Positive</td>\n",
       "      <td>Positive</td>\n",
       "    </tr>\n",
       "    <tr>\n",
       "      <th>143738</th>\n",
       "      <td>Positive</td>\n",
       "      <td>Positive</td>\n",
       "    </tr>\n",
       "    <tr>\n",
       "      <th>180135</th>\n",
       "      <td>Negative</td>\n",
       "      <td>Positive</td>\n",
       "    </tr>\n",
       "    <tr>\n",
       "      <th>248710</th>\n",
       "      <td>Positive</td>\n",
       "      <td>Positive</td>\n",
       "    </tr>\n",
       "    <tr>\n",
       "      <th>41081</th>\n",
       "      <td>Positive</td>\n",
       "      <td>Positive</td>\n",
       "    </tr>\n",
       "    <tr>\n",
       "      <th>...</th>\n",
       "      <td>...</td>\n",
       "      <td>...</td>\n",
       "    </tr>\n",
       "    <tr>\n",
       "      <th>23704</th>\n",
       "      <td>Positive</td>\n",
       "      <td>Positive</td>\n",
       "    </tr>\n",
       "    <tr>\n",
       "      <th>228320</th>\n",
       "      <td>Positive</td>\n",
       "      <td>Positive</td>\n",
       "    </tr>\n",
       "    <tr>\n",
       "      <th>101091</th>\n",
       "      <td>Positive</td>\n",
       "      <td>Positive</td>\n",
       "    </tr>\n",
       "    <tr>\n",
       "      <th>174512</th>\n",
       "      <td>Positive</td>\n",
       "      <td>Positive</td>\n",
       "    </tr>\n",
       "    <tr>\n",
       "      <th>244930</th>\n",
       "      <td>Positive</td>\n",
       "      <td>Positive</td>\n",
       "    </tr>\n",
       "  </tbody>\n",
       "</table>\n",
       "<p>50000 rows × 2 columns</p>\n",
       "</div>"
      ],
      "text/plain": [
       "          actual predicted\n",
       "109672  Positive  Positive\n",
       "143738  Positive  Positive\n",
       "180135  Negative  Positive\n",
       "248710  Positive  Positive\n",
       "41081   Positive  Positive\n",
       "...          ...       ...\n",
       "23704   Positive  Positive\n",
       "228320  Positive  Positive\n",
       "101091  Positive  Positive\n",
       "174512  Positive  Positive\n",
       "244930  Positive  Positive\n",
       "\n",
       "[50000 rows x 2 columns]"
      ]
     },
     "execution_count": 50,
     "metadata": {},
     "output_type": "execute_result"
    }
   ],
   "source": [
    "compare5 = pd.DataFrame()\n",
    "compare5['actual'] = y_test\n",
    "compare5['predicted'] = y_pred5\n",
    "compare5"
   ]
  },
  {
   "cell_type": "code",
   "execution_count": 51,
   "id": "1e7c7ce9",
   "metadata": {},
   "outputs": [
    {
     "name": "stdout",
     "output_type": "stream",
     "text": [
      "              precision    recall  f1-score   support\n",
      "\n",
      "    Negative       0.96      0.16      0.28      7207\n",
      "     Neutral       0.89      0.51      0.65      3509\n",
      "    Positive       0.84      1.00      0.91     39284\n",
      "\n",
      "    accuracy                           0.84     50000\n",
      "   macro avg       0.90      0.56      0.61     50000\n",
      "weighted avg       0.86      0.84      0.80     50000\n",
      "\n"
     ]
    }
   ],
   "source": [
    "print(classification_report(y_test, y_pred5))"
   ]
  },
  {
   "cell_type": "code",
   "execution_count": 52,
   "id": "87eb3fdc",
   "metadata": {},
   "outputs": [
    {
     "name": "stdout",
     "output_type": "stream",
     "text": [
      "Accuracy  : 0.84\n",
      "Recall    : 0.84\n",
      "F1-score  : 0.8\n",
      "Precision : 0.86\n"
     ]
    }
   ],
   "source": [
    "accuracy5= accuracy_score(y_test,y_pred5)\n",
    "recall5 = recall_score(y_test,y_pred5, average = 'weighted')\n",
    "f1score5  = f1_score(y_test,y_pred5, average = 'weighted')\n",
    "precision5= precision_score(y_test,y_pred5, average = 'weighted')\n",
    "\n",
    "\n",
    "print('Accuracy  :', round(accuracy5,2))\n",
    "print('Recall    :', round(recall5,2))\n",
    "print('F1-score  :', round(f1score5,2))\n",
    "print('Precision :', round(precision5,2))"
   ]
  },
  {
   "cell_type": "code",
   "execution_count": 53,
   "id": "926d0ce5",
   "metadata": {},
   "outputs": [
    {
     "data": {
      "image/png": "[encoded data removed]",
      "text/plain": [
       "<Figure size 432x288 with 2 Axes>"
      ]
     },
     "metadata": {
      "needs_background": "light"
     },
     "output_type": "display_data"
    }
   ],
   "source": [
    "confusion_matrix5 = confusion_matrix(y_test, y_pred5)\n",
    "cm_display5 = metrics.ConfusionMatrixDisplay(confusion_matrix = confusion_matrix5, display_labels = ['Negative', 'neutral','positive'])\n",
    "\n",
    "cm_display5.plot()\n",
    "plt.show()"
   ]
  },
  {
   "cell_type": "markdown",
   "id": "95a204fc",
   "metadata": {},
   "source": [
    "# Final Dataframe"
   ]
  },
  {
   "cell_type": "code",
   "execution_count": 55,
   "id": "8815952b",
   "metadata": {},
   "outputs": [],
   "source": [
    "final_data=pd.DataFrame({'Models':['Logistic Regression','OVR classifier','MultinomialNB','DecisionTreeClassifier','RandomForestClassifier'],\n",
    "                        'F1-Score':[f1score1,f1score2,f1score3,f1score4,f1score5],\n",
    "                         'Recall_score':[recall1,recall2,recall3,recall4,recall5],\n",
    "                        'Precison_score':[precision1,precision2,precision3,precision4,precision5],\n",
    "                        'Accuracy_score':[accuracy1,accuracy2,accuracy3,accuracy4,accuracy5]})"
   ]
  },
  {
   "cell_type": "code",
   "execution_count": 56,
   "id": "781dadfb",
   "metadata": {
    "scrolled": true
   },
   "outputs": [
    {
     "data": {
      "text/html": [
       "<div>\n",
       "<style scoped>\n",
       "    .dataframe tbody tr th:only-of-type {\n",
       "        vertical-align: middle;\n",
       "    }\n",
       "\n",
       "    .dataframe tbody tr th {\n",
       "        vertical-align: top;\n",
       "    }\n",
       "\n",
       "    .dataframe thead th {\n",
       "        text-align: right;\n",
       "    }\n",
       "</style>\n",
       "<table border=\"1\" class=\"dataframe\">\n",
       "  <thead>\n",
       "    <tr style=\"text-align: right;\">\n",
       "      <th></th>\n",
       "      <th>Models</th>\n",
       "      <th>F1-Score</th>\n",
       "      <th>Recall_score</th>\n",
       "      <th>Precison_score</th>\n",
       "      <th>Accuracy_score</th>\n",
       "    </tr>\n",
       "  </thead>\n",
       "  <tbody>\n",
       "    <tr>\n",
       "      <th>0</th>\n",
       "      <td>Logistic Regression</td>\n",
       "      <td>0.928436</td>\n",
       "      <td>0.93120</td>\n",
       "      <td>0.929177</td>\n",
       "      <td>0.93120</td>\n",
       "    </tr>\n",
       "    <tr>\n",
       "      <th>1</th>\n",
       "      <td>OVR classifier</td>\n",
       "      <td>0.918201</td>\n",
       "      <td>0.92258</td>\n",
       "      <td>0.920848</td>\n",
       "      <td>0.92258</td>\n",
       "    </tr>\n",
       "    <tr>\n",
       "      <th>2</th>\n",
       "      <td>MultinomialNB</td>\n",
       "      <td>0.694130</td>\n",
       "      <td>0.78648</td>\n",
       "      <td>0.774175</td>\n",
       "      <td>0.78648</td>\n",
       "    </tr>\n",
       "    <tr>\n",
       "      <th>3</th>\n",
       "      <td>DecisionTreeClassifier</td>\n",
       "      <td>0.698330</td>\n",
       "      <td>0.78658</td>\n",
       "      <td>0.699583</td>\n",
       "      <td>0.78658</td>\n",
       "    </tr>\n",
       "    <tr>\n",
       "      <th>4</th>\n",
       "      <td>RandomForestClassifier</td>\n",
       "      <td>0.800574</td>\n",
       "      <td>0.84230</td>\n",
       "      <td>0.858249</td>\n",
       "      <td>0.84230</td>\n",
       "    </tr>\n",
       "  </tbody>\n",
       "</table>\n",
       "</div>"
      ],
      "text/plain": [
       "                   Models  F1-Score  Recall_score  Precison_score  \\\n",
       "0     Logistic Regression  0.928436       0.93120        0.929177   \n",
       "1          OVR classifier  0.918201       0.92258        0.920848   \n",
       "2           MultinomialNB  0.694130       0.78648        0.774175   \n",
       "3  DecisionTreeClassifier  0.698330       0.78658        0.699583   \n",
       "4  RandomForestClassifier  0.800574       0.84230        0.858249   \n",
       "\n",
       "   Accuracy_score  \n",
       "0         0.93120  \n",
       "1         0.92258  \n",
       "2         0.78648  \n",
       "3         0.78658  \n",
       "4         0.84230  "
      ]
     },
     "execution_count": 56,
     "metadata": {},
     "output_type": "execute_result"
    }
   ],
   "source": [
    "final_data"
   ]
  },
  {
   "cell_type": "markdown",
   "id": "79af8662",
   "metadata": {},
   "source": [
    "CONCLUSION:- FROM THE ABOVE DATAFRAME WE CAN SEE THAT LOGISTIC REGRESSION HAS THE HIGHEST F1-SCORE AS COMPARE TO OTHERS MODEL.SO WE WILL CONSIDER LOGISTIC REGRESSION IS THE BEST MODEL FOR MODELLING."
   ]
  },
  {
   "cell_type": "markdown",
   "id": "5afdd0b9",
   "metadata": {},
   "source": [
    "# TESTING  WITH FINAL MODEL "
   ]
  },
  {
   "cell_type": "code",
   "execution_count": 67,
   "id": "15ba5290",
   "metadata": {},
   "outputs": [
    {
     "name": "stdout",
     "output_type": "stream",
     "text": [
      "['Negative']\n"
     ]
    }
   ],
   "source": [
    "demo_review = np.array(['Poor quality. Faulty device.'])\n",
    "demo_review_X_test = tfidf_vectorizer.transform(demo_review)\n",
    "print(lr.predict(demo_review_X_test))"
   ]
  },
  {
   "cell_type": "code",
   "execution_count": 68,
   "id": "bfc684fa",
   "metadata": {},
   "outputs": [
    {
     "name": "stdout",
     "output_type": "stream",
     "text": [
      "['Positive']\n"
     ]
    }
   ],
   "source": [
    "demo_review2 = np.array(['GOOD QUALITY. GREAT device.'])\n",
    "demo_review_X_test2 = tfidf_vectorizer.transform(demo_review2)\n",
    "print(lr.predict(demo_review_X_test2))"
   ]
  },
  {
   "cell_type": "code",
   "execution_count": 69,
   "id": "f2444dfa",
   "metadata": {},
   "outputs": [
    {
     "name": "stdout",
     "output_type": "stream",
     "text": [
      "['Neutral']\n"
     ]
    }
   ],
   "source": [
    "demo_review3 = np.array(['MONEY. SCHOOL EDUCATION.'])\n",
    "demo_review_X_test3 = tfidf_vectorizer.transform(demo_review3)\n",
    "print(lr.predict(demo_review_X_test3))"
   ]
  },
  {
   "cell_type": "code",
   "execution_count": null,
   "id": "edeeee4c",
   "metadata": {},
   "outputs": [],
   "source": []
  }
 ],
 "metadata": {
  "kernelspec": {
   "display_name": "Python 3 (ipykernel)",
   "language": "python",
   "name": "python3"
  },
  "language_info": {
   "codemirror_mode": {
    "name": "ipython",
    "version": 3
   },
   "file_extension": ".py",
   "mimetype": "text/x-python",
   "name": "python",
   "nbconvert_exporter": "python",
   "pygments_lexer": "ipython3",
   "version": "3.9.12"
  }
 },
 "nbformat": 4,
 "nbformat_minor": 5
}
