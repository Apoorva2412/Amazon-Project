{
 "cells": [
  {
   "cell_type": "code",
   "execution_count": 1,
   "id": "acda6854",
   "metadata": {},
   "outputs": [],
   "source": [
    "import pandas as pd"
   ]
  },
  {
   "cell_type": "code",
   "execution_count": 2,
   "id": "5d050780",
   "metadata": {},
   "outputs": [
    {
     "data": {
      "text/html": [
       "<div>\n",
       "<style scoped>\n",
       "    .dataframe tbody tr th:only-of-type {\n",
       "        vertical-align: middle;\n",
       "    }\n",
       "\n",
       "    .dataframe tbody tr th {\n",
       "        vertical-align: top;\n",
       "    }\n",
       "\n",
       "    .dataframe thead th {\n",
       "        text-align: right;\n",
       "    }\n",
       "</style>\n",
       "<table border=\"1\" class=\"dataframe\">\n",
       "  <thead>\n",
       "    <tr style=\"text-align: right;\">\n",
       "      <th></th>\n",
       "      <th>reviewerID</th>\n",
       "      <th>reviewTime</th>\n",
       "      <th>main_cat</th>\n",
       "      <th>reviewText</th>\n",
       "      <th>review_sentiment</th>\n",
       "      <th>verified</th>\n",
       "    </tr>\n",
       "  </thead>\n",
       "  <tbody>\n",
       "    <tr>\n",
       "      <th>0</th>\n",
       "      <td>A3L8LVKQO4TTMH</td>\n",
       "      <td>2017-04-17</td>\n",
       "      <td>Digital Music</td>\n",
       "      <td>boring  had no interest in it from toddler nor...</td>\n",
       "      <td>Negative</td>\n",
       "      <td>True</td>\n",
       "    </tr>\n",
       "    <tr>\n",
       "      <th>1</th>\n",
       "      <td>A1G99WF5QDDKX</td>\n",
       "      <td>2017-02-17</td>\n",
       "      <td>Digital Music</td>\n",
       "      <td>great for my daycare. kids love the music and ...</td>\n",
       "      <td>Positive</td>\n",
       "      <td>True</td>\n",
       "    </tr>\n",
       "    <tr>\n",
       "      <th>2</th>\n",
       "      <td>APNIJO8P21S6J</td>\n",
       "      <td>2016-12-19</td>\n",
       "      <td>Digital Music</td>\n",
       "      <td>very nice, thanks.</td>\n",
       "      <td>Positive</td>\n",
       "      <td>True</td>\n",
       "    </tr>\n",
       "    <tr>\n",
       "      <th>3</th>\n",
       "      <td>A18QNMVRG08DU5</td>\n",
       "      <td>2015-03-23</td>\n",
       "      <td>Digital Music</td>\n",
       "      <td>these songs are really simple  - maybe okay fo...</td>\n",
       "      <td>Negative</td>\n",
       "      <td>True</td>\n",
       "    </tr>\n",
       "    <tr>\n",
       "      <th>4</th>\n",
       "      <td>A3UURONZ159N3I</td>\n",
       "      <td>2014-09-10</td>\n",
       "      <td>Digital Music</td>\n",
       "      <td>it was nice to fine hap palmer's first music s...</td>\n",
       "      <td>Positive</td>\n",
       "      <td>True</td>\n",
       "    </tr>\n",
       "    <tr>\n",
       "      <th>...</th>\n",
       "      <td>...</td>\n",
       "      <td>...</td>\n",
       "      <td>...</td>\n",
       "      <td>...</td>\n",
       "      <td>...</td>\n",
       "      <td>...</td>\n",
       "    </tr>\n",
       "    <tr>\n",
       "      <th>637071</th>\n",
       "      <td>A30ZM19J0CNAGJ</td>\n",
       "      <td>2016-12-31</td>\n",
       "      <td>Digital Music</td>\n",
       "      <td>night hawk is ten outstanding new recordings o...</td>\n",
       "      <td>Positive</td>\n",
       "      <td>True</td>\n",
       "    </tr>\n",
       "    <tr>\n",
       "      <th>637072</th>\n",
       "      <td>APXJ8QC63EG38</td>\n",
       "      <td>2018-07-25</td>\n",
       "      <td>Digital Music</td>\n",
       "      <td>ok</td>\n",
       "      <td>Positive</td>\n",
       "      <td>True</td>\n",
       "    </tr>\n",
       "    <tr>\n",
       "      <th>637073</th>\n",
       "      <td>A5HIGHKQPINEO</td>\n",
       "      <td>2018-07-17</td>\n",
       "      <td>Digital Music</td>\n",
       "      <td>great music great sound love the music lots of...</td>\n",
       "      <td>Positive</td>\n",
       "      <td>True</td>\n",
       "    </tr>\n",
       "    <tr>\n",
       "      <th>637074</th>\n",
       "      <td>A1B26TNQEWHQ4K</td>\n",
       "      <td>2018-06-23</td>\n",
       "      <td>Digital Music</td>\n",
       "      <td>really good fun quality stuff</td>\n",
       "      <td>Positive</td>\n",
       "      <td>True</td>\n",
       "    </tr>\n",
       "    <tr>\n",
       "      <th>637075</th>\n",
       "      <td>A1KCWOF28NPM3M</td>\n",
       "      <td>2017-11-04</td>\n",
       "      <td>Digital Music</td>\n",
       "      <td>great 5 lp by the guess who, love all these al...</td>\n",
       "      <td>Positive</td>\n",
       "      <td>True</td>\n",
       "    </tr>\n",
       "  </tbody>\n",
       "</table>\n",
       "<p>637076 rows × 6 columns</p>\n",
       "</div>"
      ],
      "text/plain": [
       "            reviewerID  reviewTime       main_cat  \\\n",
       "0       A3L8LVKQO4TTMH  2017-04-17  Digital Music   \n",
       "1        A1G99WF5QDDKX  2017-02-17  Digital Music   \n",
       "2        APNIJO8P21S6J  2016-12-19  Digital Music   \n",
       "3       A18QNMVRG08DU5  2015-03-23  Digital Music   \n",
       "4       A3UURONZ159N3I  2014-09-10  Digital Music   \n",
       "...                ...         ...            ...   \n",
       "637071  A30ZM19J0CNAGJ  2016-12-31  Digital Music   \n",
       "637072   APXJ8QC63EG38  2018-07-25  Digital Music   \n",
       "637073   A5HIGHKQPINEO  2018-07-17  Digital Music   \n",
       "637074  A1B26TNQEWHQ4K  2018-06-23  Digital Music   \n",
       "637075  A1KCWOF28NPM3M  2017-11-04  Digital Music   \n",
       "\n",
       "                                               reviewText review_sentiment  \\\n",
       "0       boring  had no interest in it from toddler nor...         Negative   \n",
       "1       great for my daycare. kids love the music and ...         Positive   \n",
       "2                                      very nice, thanks.         Positive   \n",
       "3       these songs are really simple  - maybe okay fo...         Negative   \n",
       "4       it was nice to fine hap palmer's first music s...         Positive   \n",
       "...                                                   ...              ...   \n",
       "637071  night hawk is ten outstanding new recordings o...         Positive   \n",
       "637072                                                 ok         Positive   \n",
       "637073  great music great sound love the music lots of...         Positive   \n",
       "637074                      really good fun quality stuff         Positive   \n",
       "637075  great 5 lp by the guess who, love all these al...         Positive   \n",
       "\n",
       "        verified  \n",
       "0           True  \n",
       "1           True  \n",
       "2           True  \n",
       "3           True  \n",
       "4           True  \n",
       "...          ...  \n",
       "637071      True  \n",
       "637072      True  \n",
       "637073      True  \n",
       "637074      True  \n",
       "637075      True  \n",
       "\n",
       "[637076 rows x 6 columns]"
      ]
     },
     "execution_count": 2,
     "metadata": {},
     "output_type": "execute_result"
    }
   ],
   "source": [
    "digi = pd.read_csv(\"customer_retention_digital.csv\")\n",
    "digi"
   ]
  },
  {
   "cell_type": "code",
   "execution_count": 3,
   "id": "0e817724",
   "metadata": {},
   "outputs": [
    {
     "data": {
      "text/html": [
       "<div>\n",
       "<style scoped>\n",
       "    .dataframe tbody tr th:only-of-type {\n",
       "        vertical-align: middle;\n",
       "    }\n",
       "\n",
       "    .dataframe tbody tr th {\n",
       "        vertical-align: top;\n",
       "    }\n",
       "\n",
       "    .dataframe thead th {\n",
       "        text-align: right;\n",
       "    }\n",
       "</style>\n",
       "<table border=\"1\" class=\"dataframe\">\n",
       "  <thead>\n",
       "    <tr style=\"text-align: right;\">\n",
       "      <th></th>\n",
       "      <th>reviewerID</th>\n",
       "      <th>reviewTime</th>\n",
       "      <th>main_cat</th>\n",
       "      <th>reviewText</th>\n",
       "      <th>verified</th>\n",
       "      <th>review_sentiment</th>\n",
       "    </tr>\n",
       "  </thead>\n",
       "  <tbody>\n",
       "    <tr>\n",
       "      <th>0</th>\n",
       "      <td>A2NIJTYWADLK57</td>\n",
       "      <td>2017-11-07</td>\n",
       "      <td>Office Products</td>\n",
       "      <td>kids like story but while i really wanted a bo...</td>\n",
       "      <td>True</td>\n",
       "      <td>Positive</td>\n",
       "    </tr>\n",
       "    <tr>\n",
       "      <th>1</th>\n",
       "      <td>A2827D8EEURMP4</td>\n",
       "      <td>2017-03-07</td>\n",
       "      <td>Office Products</td>\n",
       "      <td>bought this used and it came in great conditio...</td>\n",
       "      <td>True</td>\n",
       "      <td>Positive</td>\n",
       "    </tr>\n",
       "    <tr>\n",
       "      <th>2</th>\n",
       "      <td>APB6087F4J09J</td>\n",
       "      <td>2016-06-25</td>\n",
       "      <td>Office Products</td>\n",
       "      <td>every story and book about corduroy is fantast...</td>\n",
       "      <td>True</td>\n",
       "      <td>Positive</td>\n",
       "    </tr>\n",
       "    <tr>\n",
       "      <th>3</th>\n",
       "      <td>A2DHERRZIPFU7X</td>\n",
       "      <td>2016-02-21</td>\n",
       "      <td>Office Products</td>\n",
       "      <td>i purchased this book for my first grade class...</td>\n",
       "      <td>True</td>\n",
       "      <td>Positive</td>\n",
       "    </tr>\n",
       "    <tr>\n",
       "      <th>4</th>\n",
       "      <td>A3JJTLTBCE7T7L</td>\n",
       "      <td>2015-01-01</td>\n",
       "      <td>Office Products</td>\n",
       "      <td>corduroy gets a pocket....riveting stuff people.</td>\n",
       "      <td>True</td>\n",
       "      <td>Neutral</td>\n",
       "    </tr>\n",
       "    <tr>\n",
       "      <th>...</th>\n",
       "      <td>...</td>\n",
       "      <td>...</td>\n",
       "      <td>...</td>\n",
       "      <td>...</td>\n",
       "      <td>...</td>\n",
       "      <td>...</td>\n",
       "    </tr>\n",
       "    <tr>\n",
       "      <th>514676</th>\n",
       "      <td>A1J3T2AHYBSRBI</td>\n",
       "      <td>2009-09-17</td>\n",
       "      <td>Office Products</td>\n",
       "      <td>i am sure i am biased, as i have been in love ...</td>\n",
       "      <td>True</td>\n",
       "      <td>Positive</td>\n",
       "    </tr>\n",
       "    <tr>\n",
       "      <th>514677</th>\n",
       "      <td>A3QSM5XHPL1T6Y</td>\n",
       "      <td>2009-09-15</td>\n",
       "      <td>Office Products</td>\n",
       "      <td>there's been a lot of discussion and not a lit...</td>\n",
       "      <td>True</td>\n",
       "      <td>Positive</td>\n",
       "    </tr>\n",
       "    <tr>\n",
       "      <th>514678</th>\n",
       "      <td>A1TH7MZ6NDUAU8</td>\n",
       "      <td>2017-11-04</td>\n",
       "      <td>Office Products</td>\n",
       "      <td>great album!!!</td>\n",
       "      <td>True</td>\n",
       "      <td>Positive</td>\n",
       "    </tr>\n",
       "    <tr>\n",
       "      <th>514679</th>\n",
       "      <td>APXK8A63WY91A</td>\n",
       "      <td>2018-02-08</td>\n",
       "      <td>Office Products</td>\n",
       "      <td>childrens song cd</td>\n",
       "      <td>True</td>\n",
       "      <td>Neutral</td>\n",
       "    </tr>\n",
       "    <tr>\n",
       "      <th>514680</th>\n",
       "      <td>A1I9MEQLZMTOAS</td>\n",
       "      <td>2018-04-19</td>\n",
       "      <td>Office Products</td>\n",
       "      <td>this was bought as a birthday gift but i also ...</td>\n",
       "      <td>True</td>\n",
       "      <td>Positive</td>\n",
       "    </tr>\n",
       "  </tbody>\n",
       "</table>\n",
       "<p>514681 rows × 6 columns</p>\n",
       "</div>"
      ],
      "text/plain": [
       "            reviewerID  reviewTime         main_cat  \\\n",
       "0       A2NIJTYWADLK57  2017-11-07  Office Products   \n",
       "1       A2827D8EEURMP4  2017-03-07  Office Products   \n",
       "2        APB6087F4J09J  2016-06-25  Office Products   \n",
       "3       A2DHERRZIPFU7X  2016-02-21  Office Products   \n",
       "4       A3JJTLTBCE7T7L  2015-01-01  Office Products   \n",
       "...                ...         ...              ...   \n",
       "514676  A1J3T2AHYBSRBI  2009-09-17  Office Products   \n",
       "514677  A3QSM5XHPL1T6Y  2009-09-15  Office Products   \n",
       "514678  A1TH7MZ6NDUAU8  2017-11-04  Office Products   \n",
       "514679   APXK8A63WY91A  2018-02-08  Office Products   \n",
       "514680  A1I9MEQLZMTOAS  2018-04-19  Office Products   \n",
       "\n",
       "                                               reviewText  verified  \\\n",
       "0       kids like story but while i really wanted a bo...      True   \n",
       "1       bought this used and it came in great conditio...      True   \n",
       "2       every story and book about corduroy is fantast...      True   \n",
       "3       i purchased this book for my first grade class...      True   \n",
       "4        corduroy gets a pocket....riveting stuff people.      True   \n",
       "...                                                   ...       ...   \n",
       "514676  i am sure i am biased, as i have been in love ...      True   \n",
       "514677  there's been a lot of discussion and not a lit...      True   \n",
       "514678                                     great album!!!      True   \n",
       "514679                                  childrens song cd      True   \n",
       "514680  this was bought as a birthday gift but i also ...      True   \n",
       "\n",
       "       review_sentiment  \n",
       "0              Positive  \n",
       "1              Positive  \n",
       "2              Positive  \n",
       "3              Positive  \n",
       "4               Neutral  \n",
       "...                 ...  \n",
       "514676         Positive  \n",
       "514677         Positive  \n",
       "514678         Positive  \n",
       "514679          Neutral  \n",
       "514680         Positive  \n",
       "\n",
       "[514681 rows x 6 columns]"
      ]
     },
     "execution_count": 3,
     "metadata": {},
     "output_type": "execute_result"
    }
   ],
   "source": [
    "office = pd.read_csv(\"customer_retention_office.csv\")\n",
    "office"
   ]
  },
  {
   "cell_type": "code",
   "execution_count": 4,
   "id": "6868be5c",
   "metadata": {},
   "outputs": [
    {
     "data": {
      "text/html": [
       "<div>\n",
       "<style scoped>\n",
       "    .dataframe tbody tr th:only-of-type {\n",
       "        vertical-align: middle;\n",
       "    }\n",
       "\n",
       "    .dataframe tbody tr th {\n",
       "        vertical-align: top;\n",
       "    }\n",
       "\n",
       "    .dataframe thead th {\n",
       "        text-align: right;\n",
       "    }\n",
       "</style>\n",
       "<table border=\"1\" class=\"dataframe\">\n",
       "  <thead>\n",
       "    <tr style=\"text-align: right;\">\n",
       "      <th></th>\n",
       "      <th>reviewerID</th>\n",
       "      <th>reviewTime</th>\n",
       "      <th>main_cat</th>\n",
       "      <th>reviewText</th>\n",
       "      <th>review_sentiment</th>\n",
       "      <th>verified</th>\n",
       "    </tr>\n",
       "  </thead>\n",
       "  <tbody>\n",
       "    <tr>\n",
       "      <th>0</th>\n",
       "      <td>A3L8LVKQO4TTMH</td>\n",
       "      <td>2017-04-17</td>\n",
       "      <td>Digital Music</td>\n",
       "      <td>boring  had no interest in it from toddler nor...</td>\n",
       "      <td>Negative</td>\n",
       "      <td>True</td>\n",
       "    </tr>\n",
       "    <tr>\n",
       "      <th>1</th>\n",
       "      <td>A1G99WF5QDDKX</td>\n",
       "      <td>2017-02-17</td>\n",
       "      <td>Digital Music</td>\n",
       "      <td>great for my daycare. kids love the music and ...</td>\n",
       "      <td>Positive</td>\n",
       "      <td>True</td>\n",
       "    </tr>\n",
       "    <tr>\n",
       "      <th>2</th>\n",
       "      <td>APNIJO8P21S6J</td>\n",
       "      <td>2016-12-19</td>\n",
       "      <td>Digital Music</td>\n",
       "      <td>very nice, thanks.</td>\n",
       "      <td>Positive</td>\n",
       "      <td>True</td>\n",
       "    </tr>\n",
       "    <tr>\n",
       "      <th>3</th>\n",
       "      <td>A18QNMVRG08DU5</td>\n",
       "      <td>2015-03-23</td>\n",
       "      <td>Digital Music</td>\n",
       "      <td>these songs are really simple  - maybe okay fo...</td>\n",
       "      <td>Negative</td>\n",
       "      <td>True</td>\n",
       "    </tr>\n",
       "    <tr>\n",
       "      <th>4</th>\n",
       "      <td>A3UURONZ159N3I</td>\n",
       "      <td>2014-09-10</td>\n",
       "      <td>Digital Music</td>\n",
       "      <td>it was nice to fine hap palmer's first music s...</td>\n",
       "      <td>Positive</td>\n",
       "      <td>True</td>\n",
       "    </tr>\n",
       "    <tr>\n",
       "      <th>...</th>\n",
       "      <td>...</td>\n",
       "      <td>...</td>\n",
       "      <td>...</td>\n",
       "      <td>...</td>\n",
       "      <td>...</td>\n",
       "      <td>...</td>\n",
       "    </tr>\n",
       "    <tr>\n",
       "      <th>514676</th>\n",
       "      <td>A1J3T2AHYBSRBI</td>\n",
       "      <td>2009-09-17</td>\n",
       "      <td>Office Products</td>\n",
       "      <td>i am sure i am biased, as i have been in love ...</td>\n",
       "      <td>Positive</td>\n",
       "      <td>True</td>\n",
       "    </tr>\n",
       "    <tr>\n",
       "      <th>514677</th>\n",
       "      <td>A3QSM5XHPL1T6Y</td>\n",
       "      <td>2009-09-15</td>\n",
       "      <td>Office Products</td>\n",
       "      <td>there's been a lot of discussion and not a lit...</td>\n",
       "      <td>Positive</td>\n",
       "      <td>True</td>\n",
       "    </tr>\n",
       "    <tr>\n",
       "      <th>514678</th>\n",
       "      <td>A1TH7MZ6NDUAU8</td>\n",
       "      <td>2017-11-04</td>\n",
       "      <td>Office Products</td>\n",
       "      <td>great album!!!</td>\n",
       "      <td>Positive</td>\n",
       "      <td>True</td>\n",
       "    </tr>\n",
       "    <tr>\n",
       "      <th>514679</th>\n",
       "      <td>APXK8A63WY91A</td>\n",
       "      <td>2018-02-08</td>\n",
       "      <td>Office Products</td>\n",
       "      <td>childrens song cd</td>\n",
       "      <td>Neutral</td>\n",
       "      <td>True</td>\n",
       "    </tr>\n",
       "    <tr>\n",
       "      <th>514680</th>\n",
       "      <td>A1I9MEQLZMTOAS</td>\n",
       "      <td>2018-04-19</td>\n",
       "      <td>Office Products</td>\n",
       "      <td>this was bought as a birthday gift but i also ...</td>\n",
       "      <td>Positive</td>\n",
       "      <td>True</td>\n",
       "    </tr>\n",
       "  </tbody>\n",
       "</table>\n",
       "<p>1151757 rows × 6 columns</p>\n",
       "</div>"
      ],
      "text/plain": [
       "            reviewerID  reviewTime         main_cat  \\\n",
       "0       A3L8LVKQO4TTMH  2017-04-17    Digital Music   \n",
       "1        A1G99WF5QDDKX  2017-02-17    Digital Music   \n",
       "2        APNIJO8P21S6J  2016-12-19    Digital Music   \n",
       "3       A18QNMVRG08DU5  2015-03-23    Digital Music   \n",
       "4       A3UURONZ159N3I  2014-09-10    Digital Music   \n",
       "...                ...         ...              ...   \n",
       "514676  A1J3T2AHYBSRBI  2009-09-17  Office Products   \n",
       "514677  A3QSM5XHPL1T6Y  2009-09-15  Office Products   \n",
       "514678  A1TH7MZ6NDUAU8  2017-11-04  Office Products   \n",
       "514679   APXK8A63WY91A  2018-02-08  Office Products   \n",
       "514680  A1I9MEQLZMTOAS  2018-04-19  Office Products   \n",
       "\n",
       "                                               reviewText review_sentiment  \\\n",
       "0       boring  had no interest in it from toddler nor...         Negative   \n",
       "1       great for my daycare. kids love the music and ...         Positive   \n",
       "2                                      very nice, thanks.         Positive   \n",
       "3       these songs are really simple  - maybe okay fo...         Negative   \n",
       "4       it was nice to fine hap palmer's first music s...         Positive   \n",
       "...                                                   ...              ...   \n",
       "514676  i am sure i am biased, as i have been in love ...         Positive   \n",
       "514677  there's been a lot of discussion and not a lit...         Positive   \n",
       "514678                                     great album!!!         Positive   \n",
       "514679                                  childrens song cd          Neutral   \n",
       "514680  this was bought as a birthday gift but i also ...         Positive   \n",
       "\n",
       "        verified  \n",
       "0           True  \n",
       "1           True  \n",
       "2           True  \n",
       "3           True  \n",
       "4           True  \n",
       "...          ...  \n",
       "514676      True  \n",
       "514677      True  \n",
       "514678      True  \n",
       "514679      True  \n",
       "514680      True  \n",
       "\n",
       "[1151757 rows x 6 columns]"
      ]
     },
     "execution_count": 4,
     "metadata": {},
     "output_type": "execute_result"
    }
   ],
   "source": [
    "data =  pd.concat([digi, office], axis = 0)\n",
    "data"
   ]
  },
  {
   "cell_type": "code",
   "execution_count": 5,
   "id": "cef55eb2",
   "metadata": {
    "scrolled": true
   },
   "outputs": [
    {
     "data": {
      "text/html": [
       "<div>\n",
       "<style scoped>\n",
       "    .dataframe tbody tr th:only-of-type {\n",
       "        vertical-align: middle;\n",
       "    }\n",
       "\n",
       "    .dataframe tbody tr th {\n",
       "        vertical-align: top;\n",
       "    }\n",
       "\n",
       "    .dataframe thead th {\n",
       "        text-align: right;\n",
       "    }\n",
       "</style>\n",
       "<table border=\"1\" class=\"dataframe\">\n",
       "  <thead>\n",
       "    <tr style=\"text-align: right;\">\n",
       "      <th></th>\n",
       "      <th>reviewText</th>\n",
       "      <th>review_sentiment</th>\n",
       "    </tr>\n",
       "  </thead>\n",
       "  <tbody>\n",
       "    <tr>\n",
       "      <th>0</th>\n",
       "      <td>boring  had no interest in it from toddler nor...</td>\n",
       "      <td>Negative</td>\n",
       "    </tr>\n",
       "    <tr>\n",
       "      <th>1</th>\n",
       "      <td>great for my daycare. kids love the music and ...</td>\n",
       "      <td>Positive</td>\n",
       "    </tr>\n",
       "    <tr>\n",
       "      <th>2</th>\n",
       "      <td>very nice, thanks.</td>\n",
       "      <td>Positive</td>\n",
       "    </tr>\n",
       "    <tr>\n",
       "      <th>3</th>\n",
       "      <td>these songs are really simple  - maybe okay fo...</td>\n",
       "      <td>Negative</td>\n",
       "    </tr>\n",
       "    <tr>\n",
       "      <th>4</th>\n",
       "      <td>it was nice to fine hap palmer's first music s...</td>\n",
       "      <td>Positive</td>\n",
       "    </tr>\n",
       "    <tr>\n",
       "      <th>...</th>\n",
       "      <td>...</td>\n",
       "      <td>...</td>\n",
       "    </tr>\n",
       "    <tr>\n",
       "      <th>514676</th>\n",
       "      <td>i am sure i am biased, as i have been in love ...</td>\n",
       "      <td>Positive</td>\n",
       "    </tr>\n",
       "    <tr>\n",
       "      <th>514677</th>\n",
       "      <td>there's been a lot of discussion and not a lit...</td>\n",
       "      <td>Positive</td>\n",
       "    </tr>\n",
       "    <tr>\n",
       "      <th>514678</th>\n",
       "      <td>great album!!!</td>\n",
       "      <td>Positive</td>\n",
       "    </tr>\n",
       "    <tr>\n",
       "      <th>514679</th>\n",
       "      <td>childrens song cd</td>\n",
       "      <td>Neutral</td>\n",
       "    </tr>\n",
       "    <tr>\n",
       "      <th>514680</th>\n",
       "      <td>this was bought as a birthday gift but i also ...</td>\n",
       "      <td>Positive</td>\n",
       "    </tr>\n",
       "  </tbody>\n",
       "</table>\n",
       "<p>1151757 rows × 2 columns</p>\n",
       "</div>"
      ],
      "text/plain": [
       "                                               reviewText review_sentiment\n",
       "0       boring  had no interest in it from toddler nor...         Negative\n",
       "1       great for my daycare. kids love the music and ...         Positive\n",
       "2                                      very nice, thanks.         Positive\n",
       "3       these songs are really simple  - maybe okay fo...         Negative\n",
       "4       it was nice to fine hap palmer's first music s...         Positive\n",
       "...                                                   ...              ...\n",
       "514676  i am sure i am biased, as i have been in love ...         Positive\n",
       "514677  there's been a lot of discussion and not a lit...         Positive\n",
       "514678                                     great album!!!         Positive\n",
       "514679                                  childrens song cd          Neutral\n",
       "514680  this was bought as a birthday gift but i also ...         Positive\n",
       "\n",
       "[1151757 rows x 2 columns]"
      ]
     },
     "execution_count": 5,
     "metadata": {},
     "output_type": "execute_result"
    }
   ],
   "source": [
    "data = data[['reviewText','review_sentiment']]\n",
    "data"
   ]
  },
  {
   "cell_type": "code",
   "execution_count": 6,
   "id": "ed1f9270",
   "metadata": {},
   "outputs": [
    {
     "data": {
      "text/html": [
       "<div>\n",
       "<style scoped>\n",
       "    .dataframe tbody tr th:only-of-type {\n",
       "        vertical-align: middle;\n",
       "    }\n",
       "\n",
       "    .dataframe tbody tr th {\n",
       "        vertical-align: top;\n",
       "    }\n",
       "\n",
       "    .dataframe thead th {\n",
       "        text-align: right;\n",
       "    }\n",
       "</style>\n",
       "<table border=\"1\" class=\"dataframe\">\n",
       "  <thead>\n",
       "    <tr style=\"text-align: right;\">\n",
       "      <th></th>\n",
       "      <th>reviewText</th>\n",
       "      <th>review_sentiment</th>\n",
       "    </tr>\n",
       "  </thead>\n",
       "  <tbody>\n",
       "    <tr>\n",
       "      <th>0</th>\n",
       "      <td>great</td>\n",
       "      <td>Positive</td>\n",
       "    </tr>\n",
       "    <tr>\n",
       "      <th>1</th>\n",
       "      <td>i'm admittedly a johnny come lately to the cla...</td>\n",
       "      <td>Positive</td>\n",
       "    </tr>\n",
       "    <tr>\n",
       "      <th>2</th>\n",
       "      <td>2 feet are not straight and look bent. there i...</td>\n",
       "      <td>Positive</td>\n",
       "    </tr>\n",
       "    <tr>\n",
       "      <th>3</th>\n",
       "      <td>happy with the purchase.</td>\n",
       "      <td>Positive</td>\n",
       "    </tr>\n",
       "    <tr>\n",
       "      <th>4</th>\n",
       "      <td>the bar in the front that holds up the key boa...</td>\n",
       "      <td>Positive</td>\n",
       "    </tr>\n",
       "    <tr>\n",
       "      <th>...</th>\n",
       "      <td>...</td>\n",
       "      <td>...</td>\n",
       "    </tr>\n",
       "    <tr>\n",
       "      <th>99995</th>\n",
       "      <td>being a fan of andreas bocelli, i have always ...</td>\n",
       "      <td>Positive</td>\n",
       "    </tr>\n",
       "    <tr>\n",
       "      <th>99996</th>\n",
       "      <td>the colors are great and appreciate having the...</td>\n",
       "      <td>Positive</td>\n",
       "    </tr>\n",
       "    <tr>\n",
       "      <th>99997</th>\n",
       "      <td>great</td>\n",
       "      <td>Positive</td>\n",
       "    </tr>\n",
       "    <tr>\n",
       "      <th>99998</th>\n",
       "      <td>delivered on time and as expected.</td>\n",
       "      <td>Neutral</td>\n",
       "    </tr>\n",
       "    <tr>\n",
       "      <th>99999</th>\n",
       "      <td>when i first listened to this album i thought,...</td>\n",
       "      <td>Positive</td>\n",
       "    </tr>\n",
       "  </tbody>\n",
       "</table>\n",
       "<p>100000 rows × 2 columns</p>\n",
       "</div>"
      ],
      "text/plain": [
       "                                              reviewText review_sentiment\n",
       "0                                                  great         Positive\n",
       "1      i'm admittedly a johnny come lately to the cla...         Positive\n",
       "2      2 feet are not straight and look bent. there i...         Positive\n",
       "3                               happy with the purchase.         Positive\n",
       "4      the bar in the front that holds up the key boa...         Positive\n",
       "...                                                  ...              ...\n",
       "99995  being a fan of andreas bocelli, i have always ...         Positive\n",
       "99996  the colors are great and appreciate having the...         Positive\n",
       "99997                                              great         Positive\n",
       "99998                 delivered on time and as expected.          Neutral\n",
       "99999  when i first listened to this album i thought,...         Positive\n",
       "\n",
       "[100000 rows x 2 columns]"
      ]
     },
     "execution_count": 6,
     "metadata": {},
     "output_type": "execute_result"
    }
   ],
   "source": [
    "data = data.sample(100000, random_state = 1)\n",
    "data.reset_index(inplace = True)\n",
    "data.drop('index',axis = 1, inplace=True)\n",
    "data"
   ]
  },
  {
   "cell_type": "code",
   "execution_count": 7,
   "id": "dff5651c",
   "metadata": {},
   "outputs": [],
   "source": [
    "# Cleaning the movie summaries data\n",
    "\n",
    "import re\n",
    "from sklearn.model_selection import train_test_split\n",
    "\n",
    "def clean_text(text):\n",
    "    \"\"\"\n",
    "    Return clean version of the text\n",
    "    \"\"\"\n",
    "    # Remove all non-letters and non-spaces except for hyphens and digits\n",
    "    text = re.sub(\"[^0-9A-Za-z\\- ]+\", \" \", text)\n",
    "    # Remove all numbers except those attached to a word\n",
    "    text = re.sub(\"(?<!\\w)\\d+\", \"\", text)\n",
    "    # Remove all hyphens except between two words\n",
    "    text = re.sub(\"-(?!\\w)|(?<!\\w)-\", \"\", text)\n",
    "    # Remove multiple spaces and lowercase everything\n",
    "    text = \" \".join(text.split())\n",
    "    text = text.lower()\n",
    "\n",
    "    return text\n",
    "\n",
    "data['reviewText'] = data['reviewText'].apply(clean_text)"
   ]
  },
  {
   "cell_type": "code",
   "execution_count": 8,
   "id": "703006da",
   "metadata": {},
   "outputs": [
    {
     "data": {
      "text/html": [
       "<div>\n",
       "<style scoped>\n",
       "    .dataframe tbody tr th:only-of-type {\n",
       "        vertical-align: middle;\n",
       "    }\n",
       "\n",
       "    .dataframe tbody tr th {\n",
       "        vertical-align: top;\n",
       "    }\n",
       "\n",
       "    .dataframe thead th {\n",
       "        text-align: right;\n",
       "    }\n",
       "</style>\n",
       "<table border=\"1\" class=\"dataframe\">\n",
       "  <thead>\n",
       "    <tr style=\"text-align: right;\">\n",
       "      <th></th>\n",
       "      <th>reviewText</th>\n",
       "      <th>review_sentiment</th>\n",
       "    </tr>\n",
       "  </thead>\n",
       "  <tbody>\n",
       "    <tr>\n",
       "      <th>0</th>\n",
       "      <td>great</td>\n",
       "      <td>Positive</td>\n",
       "    </tr>\n",
       "    <tr>\n",
       "      <th>1</th>\n",
       "      <td>m admittedly johnny come lately clash scene tr...</td>\n",
       "      <td>Positive</td>\n",
       "    </tr>\n",
       "    <tr>\n",
       "      <th>2</th>\n",
       "      <td>feet straight look bent slight bent one trays ...</td>\n",
       "      <td>Positive</td>\n",
       "    </tr>\n",
       "    <tr>\n",
       "      <th>3</th>\n",
       "      <td>happy purchase</td>\n",
       "      <td>Positive</td>\n",
       "    </tr>\n",
       "    <tr>\n",
       "      <th>4</th>\n",
       "      <td>bar front holds key board area sturdy needs su...</td>\n",
       "      <td>Positive</td>\n",
       "    </tr>\n",
       "    <tr>\n",
       "      <th>...</th>\n",
       "      <td>...</td>\n",
       "      <td>...</td>\n",
       "    </tr>\n",
       "    <tr>\n",
       "      <th>99995</th>\n",
       "      <td>fan andreas bocelli always enjoyed singing sty...</td>\n",
       "      <td>Positive</td>\n",
       "    </tr>\n",
       "    <tr>\n",
       "      <th>99996</th>\n",
       "      <td>colors great appreciate pop-up notes</td>\n",
       "      <td>Positive</td>\n",
       "    </tr>\n",
       "    <tr>\n",
       "      <th>99997</th>\n",
       "      <td>great</td>\n",
       "      <td>Positive</td>\n",
       "    </tr>\n",
       "    <tr>\n",
       "      <th>99998</th>\n",
       "      <td>delivered time expected</td>\n",
       "      <td>Neutral</td>\n",
       "    </tr>\n",
       "    <tr>\n",
       "      <th>99999</th>\n",
       "      <td>first listened album thought wow really like g...</td>\n",
       "      <td>Positive</td>\n",
       "    </tr>\n",
       "  </tbody>\n",
       "</table>\n",
       "<p>100000 rows × 2 columns</p>\n",
       "</div>"
      ],
      "text/plain": [
       "                                              reviewText review_sentiment\n",
       "0                                                  great         Positive\n",
       "1      m admittedly johnny come lately clash scene tr...         Positive\n",
       "2      feet straight look bent slight bent one trays ...         Positive\n",
       "3                                         happy purchase         Positive\n",
       "4      bar front holds key board area sturdy needs su...         Positive\n",
       "...                                                  ...              ...\n",
       "99995  fan andreas bocelli always enjoyed singing sty...         Positive\n",
       "99996               colors great appreciate pop-up notes         Positive\n",
       "99997                                              great         Positive\n",
       "99998                            delivered time expected          Neutral\n",
       "99999  first listened album thought wow really like g...         Positive\n",
       "\n",
       "[100000 rows x 2 columns]"
      ]
     },
     "execution_count": 8,
     "metadata": {},
     "output_type": "execute_result"
    }
   ],
   "source": [
    "stopwords = ['ourselves', 'hers', 'between', 'yourself', 'but', 'again', 'there', 'about', 'once', 'during', 'out', 'very', 'having', 'with', 'they', 'own', 'an', 'be', 'some', 'for', 'do', 'its', 'yours', 'such', 'into', 'of', 'most', 'itself', 'other', 'off', 'is', 's', 'am', 'or', 'who', 'as', 'from', 'him', 'each', 'the', 'themselves', 'until', 'below', 'are', 'we', 'these', 'your', 'his', 'through', 'don', 'nor', 'me', 'were', 'her', 'more', 'himself', 'this', 'down', 'should', 'our', 'their', 'while', 'above', 'both', 'up', 'to', 'ours', 'had', 'she', 'all', 'no', 'when', 'at', 'any', 'before', 'them', 'same', 'and', 'been', 'have', 'in', 'will', 'on', 'does', 'yourselves', 'then', 'that', 'because', 'what', 'over', 'why', 'so', 'can', 'did', 'not', 'now', 'under', 'he', 'you', 'herself', 'has', 'just', 'where', 'too', 'only', 'myself', 'which', 'those', 'i', 'after', 'few', 'whom', 't', 'being', 'if', 'theirs', 'my', 'against', 'a', 'by', 'doing', 'it', 'how', 'further', 'was', 'here', 'than']\n",
    "a = data['reviewText']\n",
    "a = a.apply(lambda x :' '.join([word for word in x.split() if word not in (stopwords)]))\n",
    "data['reviewText'] = a\n",
    "data"
   ]
  },
  {
   "cell_type": "code",
   "execution_count": 9,
   "id": "dc8dfcb3",
   "metadata": {},
   "outputs": [],
   "source": [
    "import fasttext"
   ]
  },
  {
   "cell_type": "code",
   "execution_count": 10,
   "id": "af60f297",
   "metadata": {},
   "outputs": [],
   "source": [
    "train_df, test_df = train_test_split((data), test_size=0.2, random_state=13)\n",
    "\n",
    "# fastText requires a special input format, namely that labels and text are concatenated separated by\n",
    "# a new line (\\n). Also, the labels should start and end with two underscores. Whitespaces in between should receive\n",
    "# another symbol, e.g. a single underscore.\n",
    "# Save two .txt files, one for the train data and one for the test data in the correct format.\n",
    "\n",
    "with open('concept_train.txt','w+', encoding=\"utf-8\") as training_file:\n",
    "    for i in train_df.index:\n",
    "        labels = ''\n",
    "        labels = labels + '__label__'  + train_df['review_sentiment'][i]\n",
    "        line = str(labels + ' '+train_df['reviewText'][i])\n",
    "        training_file.write(line+'\\n')\n",
    "\n",
    "with open('concept_test.txt','w+', encoding=\"utf-8\") as testing_file:\n",
    "    for i in test_df.index:\n",
    "        labels = ''\n",
    "        labels = labels + '__label__' + test_df['review_sentiment'][i]\n",
    "        line = str(labels + ' '+test_df['reviewText'][i])\n",
    "        testing_file.write(line+'\\n')\n"
   ]
  },
  {
   "cell_type": "code",
   "execution_count": 11,
   "id": "ad7936d1",
   "metadata": {},
   "outputs": [
    {
     "name": "stdout",
     "output_type": "stream",
     "text": [
      "20000 0.90765 0.90765 0.90765\n",
      "20000 0.90795 0.90795 0.90795\n",
      "20000 0.9084 0.9084 0.9084\n",
      "20000 0.90605 0.90605 0.90605\n"
     ]
    }
   ],
   "source": [
    "for i in [15,20,25,30]:\n",
    "    model_sup = fasttext.train_supervised(input='concept_train.txt', lr=0.5, epoch=i, wordNgrams=3, bucket=20000)\n",
    "    test_num, precision, recall = model_sup.test('concept_test.txt', k=1, threshold=0.1)\n",
    "    f_score = (2*precision*recall)/(precision+recall)\n",
    "    print(test_num, precision, recall,f_score)"
   ]
  },
  {
   "cell_type": "code",
   "execution_count": 188,
   "id": "fd199c82",
   "metadata": {},
   "outputs": [
    {
     "name": "stdout",
     "output_type": "stream",
     "text": [
      "Accuracy: 0.9102\n"
     ]
    }
   ],
   "source": [
    "import fasttext\n",
    "import pandas as pd\n",
    "from sklearn.model_selection import train_test_split\n",
    "from sklearn.linear_model import LogisticRegression\n",
    "from sklearn.metrics import accuracy_score\n",
    "\n",
    "\n",
    "# Train fastText on the training data\n",
    "model = fasttext.train_supervised(input='concept_train.txt', lr=0.5, epoch=25, wordNgrams=4, bucket=30000)\n",
    "\n",
    "# Obtain word embeddings for each word in the review text\n",
    "train_vectors = [model.get_sentence_vector(review) for review in train_df['reviewText']]\n",
    "test_vectors = [model.get_sentence_vector(review) for review in test_df['reviewText']]\n",
    "\n",
    "# Train a logistic regression model on the word embeddings\n",
    "clf = LogisticRegression(random_state=42)\n",
    "clf.fit(train_vectors, train_df['review_sentiment'])\n",
    "\n",
    "# Predict the labels for the test data\n",
    "predictions = clf.predict(test_vectors)\n",
    "\n",
    "# Evaluate the performance of the logistic regression model\n",
    "accuracy = accuracy_score(test_df['review_sentiment'], predictions)\n",
    "print('Accuracy:', accuracy)\n"
   ]
  },
  {
   "cell_type": "code",
   "execution_count": null,
   "id": "cbb25f41",
   "metadata": {},
   "outputs": [],
   "source": []
  },
  {
   "cell_type": "code",
   "execution_count": 189,
   "id": "f461f62d",
   "metadata": {
    "scrolled": true
   },
   "outputs": [
    {
     "data": {
      "text/html": [
       "<div>\n",
       "<style scoped>\n",
       "    .dataframe tbody tr th:only-of-type {\n",
       "        vertical-align: middle;\n",
       "    }\n",
       "\n",
       "    .dataframe tbody tr th {\n",
       "        vertical-align: top;\n",
       "    }\n",
       "\n",
       "    .dataframe thead th {\n",
       "        text-align: right;\n",
       "    }\n",
       "</style>\n",
       "<table border=\"1\" class=\"dataframe\">\n",
       "  <thead>\n",
       "    <tr style=\"text-align: right;\">\n",
       "      <th></th>\n",
       "      <th>actual</th>\n",
       "      <th>predicted</th>\n",
       "    </tr>\n",
       "  </thead>\n",
       "  <tbody>\n",
       "    <tr>\n",
       "      <th>72031</th>\n",
       "      <td>Neutral</td>\n",
       "      <td>Neutral</td>\n",
       "    </tr>\n",
       "    <tr>\n",
       "      <th>27978</th>\n",
       "      <td>Positive</td>\n",
       "      <td>Positive</td>\n",
       "    </tr>\n",
       "    <tr>\n",
       "      <th>55639</th>\n",
       "      <td>Positive</td>\n",
       "      <td>Positive</td>\n",
       "    </tr>\n",
       "    <tr>\n",
       "      <th>51955</th>\n",
       "      <td>Positive</td>\n",
       "      <td>Positive</td>\n",
       "    </tr>\n",
       "    <tr>\n",
       "      <th>52145</th>\n",
       "      <td>Positive</td>\n",
       "      <td>Positive</td>\n",
       "    </tr>\n",
       "    <tr>\n",
       "      <th>...</th>\n",
       "      <td>...</td>\n",
       "      <td>...</td>\n",
       "    </tr>\n",
       "    <tr>\n",
       "      <th>21709</th>\n",
       "      <td>Positive</td>\n",
       "      <td>Positive</td>\n",
       "    </tr>\n",
       "    <tr>\n",
       "      <th>99320</th>\n",
       "      <td>Positive</td>\n",
       "      <td>Positive</td>\n",
       "    </tr>\n",
       "    <tr>\n",
       "      <th>80129</th>\n",
       "      <td>Positive</td>\n",
       "      <td>Positive</td>\n",
       "    </tr>\n",
       "    <tr>\n",
       "      <th>77694</th>\n",
       "      <td>Positive</td>\n",
       "      <td>Positive</td>\n",
       "    </tr>\n",
       "    <tr>\n",
       "      <th>29674</th>\n",
       "      <td>Positive</td>\n",
       "      <td>Positive</td>\n",
       "    </tr>\n",
       "  </tbody>\n",
       "</table>\n",
       "<p>20000 rows × 2 columns</p>\n",
       "</div>"
      ],
      "text/plain": [
       "         actual predicted\n",
       "72031   Neutral   Neutral\n",
       "27978  Positive  Positive\n",
       "55639  Positive  Positive\n",
       "51955  Positive  Positive\n",
       "52145  Positive  Positive\n",
       "...         ...       ...\n",
       "21709  Positive  Positive\n",
       "99320  Positive  Positive\n",
       "80129  Positive  Positive\n",
       "77694  Positive  Positive\n",
       "29674  Positive  Positive\n",
       "\n",
       "[20000 rows x 2 columns]"
      ]
     },
     "execution_count": 189,
     "metadata": {},
     "output_type": "execute_result"
    }
   ],
   "source": [
    "compare = pd.DataFrame()\n",
    "compare['actual'] = test_df['review_sentiment']\n",
    "compare['predicted'] = predictions\n",
    "compare"
   ]
  },
  {
   "cell_type": "code",
   "execution_count": 190,
   "id": "4edcb380",
   "metadata": {},
   "outputs": [],
   "source": [
    "y_test = test_df['review_sentiment']\n",
    "y_pred = predictions"
   ]
  },
  {
   "cell_type": "code",
   "execution_count": 191,
   "id": "5bd56290",
   "metadata": {},
   "outputs": [
    {
     "name": "stdout",
     "output_type": "stream",
     "text": [
      "              precision    recall  f1-score   support\n",
      "\n",
      "    Negative       0.46      0.35      0.40      1201\n",
      "     Neutral       0.88      0.68      0.77      1773\n",
      "    Positive       0.94      0.97      0.95     17026\n",
      "\n",
      "    accuracy                           0.91     20000\n",
      "   macro avg       0.76      0.67      0.71     20000\n",
      "weighted avg       0.90      0.91      0.90     20000\n",
      "\n"
     ]
    }
   ],
   "source": [
    "print(classification_report(y_test, y_pred))"
   ]
  },
  {
   "cell_type": "code",
   "execution_count": 192,
   "id": "1ddc47d9",
   "metadata": {},
   "outputs": [
    {
     "name": "stdout",
     "output_type": "stream",
     "text": [
      "Accuracy  : 0.91\n",
      "Recall    : 0.91\n",
      "F1-score  : 0.9\n",
      "Precision : 0.9\n"
     ]
    }
   ],
   "source": [
    "accuracy1 = accuracy_score(y_test,y_pred)\n",
    "recall1   = recall_score(y_test,y_pred, average = 'weighted')\n",
    "f1score1  = f1_score(y_test,y_pred, average = 'weighted')\n",
    "precision1= precision_score(y_test,y_pred, average = 'weighted')\n",
    "\n",
    "\n",
    "print('Accuracy  :', round(accuracy1,2))\n",
    "print('Recall    :', round(recall1,2))\n",
    "print('F1-score  :', round(f1score1,2))\n",
    "print('Precision :', round(precision1,2))"
   ]
  },
  {
   "cell_type": "code",
   "execution_count": 193,
   "id": "3852fd94",
   "metadata": {},
   "outputs": [
    {
     "data": {
      "image/png": "[encoded data removed]",
      "text/plain": [
       "<Figure size 432x288 with 2 Axes>"
      ]
     },
     "metadata": {
      "needs_background": "light"
     },
     "output_type": "display_data"
    }
   ],
   "source": [
    "from sklearn.metrics import confusion_matrix\n",
    "confusion_matrix1 = confusion_matrix(y_test, y_pred)\n",
    "cm_display = metrics.ConfusionMatrixDisplay(confusion_matrix = confusion_matrix1, display_labels = ['Negative', 'neutral','positive'])\n",
    "\n",
    "cm_display.plot()\n",
    "plt.show()"
   ]
  },
  {
   "cell_type": "code",
   "execution_count": 194,
   "id": "265130c2",
   "metadata": {},
   "outputs": [],
   "source": [
    "\n",
    "from sklearn.linear_model import LogisticRegression\n",
    "from sklearn.multiclass import OneVsRestClassifier\n",
    "from sklearn.feature_extraction.text import TfidfVectorizer, CountVectorizer\n",
    "from sklearn.model_selection import train_test_split\n",
    "from sklearn.metrics import f1_score\n",
    "\n",
    "\n",
    "# Metrics \n",
    "from sklearn import metrics\n",
    "from sklearn.metrics import recall_score\n",
    "from sklearn.metrics import f1_score\n",
    "from sklearn.metrics import accuracy_score\n",
    "from sklearn.metrics import precision_score\n",
    "\n",
    "import matplotlib.pyplot as plt\n",
    "from sklearn.metrics import classification_report\n",
    "from sklearn.naive_bayes import MultinomialNB    # Naive bayes algorithm\n",
    "from sklearn.metrics import roc_curve\n",
    "from sklearn.metrics import roc_auc_score\n",
    "from sklearn.model_selection import cross_val_score\n",
    "from sklearn.model_selection import RepeatedStratifiedKFold"
   ]
  },
  {
   "cell_type": "code",
   "execution_count": 247,
   "id": "ab05298f",
   "metadata": {},
   "outputs": [
    {
     "name": "stderr",
     "output_type": "stream",
     "text": [
      "[Parallel(n_jobs=1)]: Using backend SequentialBackend with 1 concurrent workers.\n"
     ]
    },
    {
     "name": "stdout",
     "output_type": "stream",
     "text": [
      "Accuracy: 0.9102\n"
     ]
    },
    {
     "name": "stderr",
     "output_type": "stream",
     "text": [
      "[Parallel(n_jobs=1)]: Done   1 out of   1 | elapsed:    1.4s finished\n"
     ]
    }
   ],
   "source": [
    "lr = LogisticRegression(max_iter = 200, verbose = 1)\n",
    "ovr = OneVsRestClassifier(lr)\n",
    "\n",
    "lr.fit(train_vectors, train_df['review_sentiment'])\n",
    "y_pred2 = lr.predict(test_vectors)\n",
    "\n",
    "# Evaluate the performance of the logistic regression model\n",
    "accuracy = accuracy_score(test_df['review_sentiment'], y_pred2)\n",
    "print('Accuracy:', accuracy)\n"
   ]
  },
  {
   "cell_type": "code",
   "execution_count": 196,
   "id": "c3cdde64",
   "metadata": {},
   "outputs": [
    {
     "data": {
      "text/html": [
       "<div>\n",
       "<style scoped>\n",
       "    .dataframe tbody tr th:only-of-type {\n",
       "        vertical-align: middle;\n",
       "    }\n",
       "\n",
       "    .dataframe tbody tr th {\n",
       "        vertical-align: top;\n",
       "    }\n",
       "\n",
       "    .dataframe thead th {\n",
       "        text-align: right;\n",
       "    }\n",
       "</style>\n",
       "<table border=\"1\" class=\"dataframe\">\n",
       "  <thead>\n",
       "    <tr style=\"text-align: right;\">\n",
       "      <th></th>\n",
       "      <th>actual</th>\n",
       "      <th>predicted</th>\n",
       "    </tr>\n",
       "  </thead>\n",
       "  <tbody>\n",
       "    <tr>\n",
       "      <th>72031</th>\n",
       "      <td>Neutral</td>\n",
       "      <td>Neutral</td>\n",
       "    </tr>\n",
       "    <tr>\n",
       "      <th>27978</th>\n",
       "      <td>Positive</td>\n",
       "      <td>Positive</td>\n",
       "    </tr>\n",
       "    <tr>\n",
       "      <th>55639</th>\n",
       "      <td>Positive</td>\n",
       "      <td>Positive</td>\n",
       "    </tr>\n",
       "    <tr>\n",
       "      <th>51955</th>\n",
       "      <td>Positive</td>\n",
       "      <td>Positive</td>\n",
       "    </tr>\n",
       "    <tr>\n",
       "      <th>52145</th>\n",
       "      <td>Positive</td>\n",
       "      <td>Positive</td>\n",
       "    </tr>\n",
       "    <tr>\n",
       "      <th>...</th>\n",
       "      <td>...</td>\n",
       "      <td>...</td>\n",
       "    </tr>\n",
       "    <tr>\n",
       "      <th>21709</th>\n",
       "      <td>Positive</td>\n",
       "      <td>Positive</td>\n",
       "    </tr>\n",
       "    <tr>\n",
       "      <th>99320</th>\n",
       "      <td>Positive</td>\n",
       "      <td>Positive</td>\n",
       "    </tr>\n",
       "    <tr>\n",
       "      <th>80129</th>\n",
       "      <td>Positive</td>\n",
       "      <td>Positive</td>\n",
       "    </tr>\n",
       "    <tr>\n",
       "      <th>77694</th>\n",
       "      <td>Positive</td>\n",
       "      <td>Positive</td>\n",
       "    </tr>\n",
       "    <tr>\n",
       "      <th>29674</th>\n",
       "      <td>Positive</td>\n",
       "      <td>Positive</td>\n",
       "    </tr>\n",
       "  </tbody>\n",
       "</table>\n",
       "<p>20000 rows × 2 columns</p>\n",
       "</div>"
      ],
      "text/plain": [
       "         actual predicted\n",
       "72031   Neutral   Neutral\n",
       "27978  Positive  Positive\n",
       "55639  Positive  Positive\n",
       "51955  Positive  Positive\n",
       "52145  Positive  Positive\n",
       "...         ...       ...\n",
       "21709  Positive  Positive\n",
       "99320  Positive  Positive\n",
       "80129  Positive  Positive\n",
       "77694  Positive  Positive\n",
       "29674  Positive  Positive\n",
       "\n",
       "[20000 rows x 2 columns]"
      ]
     },
     "execution_count": 196,
     "metadata": {},
     "output_type": "execute_result"
    }
   ],
   "source": [
    "compare = pd.DataFrame()\n",
    "compare['actual'] = test_df['review_sentiment']\n",
    "compare['predicted'] = y_pred2\n",
    "compare"
   ]
  },
  {
   "cell_type": "code",
   "execution_count": 197,
   "id": "6c858d4f",
   "metadata": {},
   "outputs": [],
   "source": [
    "y_test = test_df['review_sentiment']\n",
    "y_pred = y_pred2"
   ]
  },
  {
   "cell_type": "code",
   "execution_count": 198,
   "id": "f5110f6e",
   "metadata": {},
   "outputs": [
    {
     "name": "stdout",
     "output_type": "stream",
     "text": [
      "              precision    recall  f1-score   support\n",
      "\n",
      "    Negative       0.46      0.35      0.40      1201\n",
      "     Neutral       0.88      0.68      0.77      1773\n",
      "    Positive       0.94      0.97      0.95     17026\n",
      "\n",
      "    accuracy                           0.91     20000\n",
      "   macro avg       0.76      0.67      0.71     20000\n",
      "weighted avg       0.90      0.91      0.90     20000\n",
      "\n"
     ]
    }
   ],
   "source": [
    "print(classification_report(y_test, y_pred))"
   ]
  },
  {
   "cell_type": "code",
   "execution_count": 199,
   "id": "dc7513c6",
   "metadata": {},
   "outputs": [
    {
     "name": "stdout",
     "output_type": "stream",
     "text": [
      "Accuracy  : 0.91\n",
      "Recall    : 0.91\n",
      "F1-score  : 0.9\n",
      "Precision : 0.9\n"
     ]
    }
   ],
   "source": [
    "accuracy1 = accuracy_score(y_test,y_pred)\n",
    "recall1   = recall_score(y_test,y_pred, average = 'weighted')\n",
    "f1score1  = f1_score(y_test,y_pred, average = 'weighted')\n",
    "precision1= precision_score(y_test,y_pred, average = 'weighted')\n",
    "\n",
    "\n",
    "print('Accuracy  :', round(accuracy1,2))\n",
    "print('Recall    :', round(recall1,2))\n",
    "print('F1-score  :', round(f1score1,2))\n",
    "print('Precision :', round(precision1,2))"
   ]
  },
  {
   "cell_type": "code",
   "execution_count": 200,
   "id": "4ebd787a",
   "metadata": {},
   "outputs": [
    {
     "data": {
      "image/png": "[encoded data removed]",
      "text/plain": [
       "<Figure size 432x288 with 2 Axes>"
      ]
     },
     "metadata": {
      "needs_background": "light"
     },
     "output_type": "display_data"
    }
   ],
   "source": [
    "from sklearn.metrics import confusion_matrix\n",
    "confusion_matrix1 = confusion_matrix(y_test, y_pred)\n",
    "cm_display = metrics.ConfusionMatrixDisplay(confusion_matrix = confusion_matrix1, display_labels = ['Negative', 'neutral','positive'])\n",
    "\n",
    "cm_display.plot()\n",
    "plt.show()"
   ]
  },
  {
   "cell_type": "markdown",
   "id": "8283e5a3",
   "metadata": {},
   "source": [
    "# model with decision tree Classifier"
   ]
  },
  {
   "cell_type": "code",
   "execution_count": 201,
   "id": "8a4841c5",
   "metadata": {},
   "outputs": [
    {
     "data": {
      "text/plain": [
       "[0.88695, 0.89635, 0.90585, 0.90575, 0.90565, 0.9057, 0.9058, 0.90555, 0.90495]"
      ]
     },
     "execution_count": 201,
     "metadata": {},
     "output_type": "execute_result"
    }
   ],
   "source": [
    "from sklearn.tree import DecisionTreeClassifier\n",
    "max_depth_range = list(range(1,10))\n",
    "accuracy = []\n",
    "for depth in max_depth_range:\n",
    "    clf = DecisionTreeClassifier(max_depth = depth, random_state = 42)\n",
    "    clf.fit(train_vectors, train_df['review_sentiment'])    \n",
    "    score = clf.score(test_vectors, test_df['review_sentiment'])\n",
    "    accuracy.append(score)\n",
    "    \n",
    "accuracy"
   ]
  },
  {
   "cell_type": "code",
   "execution_count": 202,
   "id": "5c0786ba",
   "metadata": {},
   "outputs": [
    {
     "data": {
      "image/png": "[encoded data removed]",
      "text/plain": [
       "<Figure size 432x288 with 1 Axes>"
      ]
     },
     "metadata": {
      "needs_background": "light"
     },
     "output_type": "display_data"
    }
   ],
   "source": [
    "fig, ax = plt.subplots(figsize=(6,4))\n",
    "ax.plot(range(1,10), accuracy)\n",
    "plt.show()"
   ]
  },
  {
   "cell_type": "code",
   "execution_count": 203,
   "id": "a44e2c16",
   "metadata": {},
   "outputs": [
    {
     "data": {
      "text/plain": [
       "DecisionTreeClassifier(max_depth=3, random_state=42)"
      ]
     },
     "execution_count": 203,
     "metadata": {},
     "output_type": "execute_result"
    }
   ],
   "source": [
    "model_tree = DecisionTreeClassifier(max_depth=3, random_state=42)\n",
    "model_tree.fit(train_vectors, train_df['review_sentiment'])"
   ]
  },
  {
   "cell_type": "code",
   "execution_count": 204,
   "id": "9658828a",
   "metadata": {},
   "outputs": [],
   "source": [
    "y_pred3 = model_tree.predict(test_vectors)"
   ]
  },
  {
   "cell_type": "code",
   "execution_count": 205,
   "id": "668ca007",
   "metadata": {},
   "outputs": [
    {
     "data": {
      "text/html": [
       "<div>\n",
       "<style scoped>\n",
       "    .dataframe tbody tr th:only-of-type {\n",
       "        vertical-align: middle;\n",
       "    }\n",
       "\n",
       "    .dataframe tbody tr th {\n",
       "        vertical-align: top;\n",
       "    }\n",
       "\n",
       "    .dataframe thead th {\n",
       "        text-align: right;\n",
       "    }\n",
       "</style>\n",
       "<table border=\"1\" class=\"dataframe\">\n",
       "  <thead>\n",
       "    <tr style=\"text-align: right;\">\n",
       "      <th></th>\n",
       "      <th>actual</th>\n",
       "      <th>predicted</th>\n",
       "    </tr>\n",
       "  </thead>\n",
       "  <tbody>\n",
       "    <tr>\n",
       "      <th>72031</th>\n",
       "      <td>Neutral</td>\n",
       "      <td>Neutral</td>\n",
       "    </tr>\n",
       "    <tr>\n",
       "      <th>27978</th>\n",
       "      <td>Positive</td>\n",
       "      <td>Positive</td>\n",
       "    </tr>\n",
       "    <tr>\n",
       "      <th>55639</th>\n",
       "      <td>Positive</td>\n",
       "      <td>Positive</td>\n",
       "    </tr>\n",
       "    <tr>\n",
       "      <th>51955</th>\n",
       "      <td>Positive</td>\n",
       "      <td>Positive</td>\n",
       "    </tr>\n",
       "    <tr>\n",
       "      <th>52145</th>\n",
       "      <td>Positive</td>\n",
       "      <td>Positive</td>\n",
       "    </tr>\n",
       "    <tr>\n",
       "      <th>...</th>\n",
       "      <td>...</td>\n",
       "      <td>...</td>\n",
       "    </tr>\n",
       "    <tr>\n",
       "      <th>21709</th>\n",
       "      <td>Positive</td>\n",
       "      <td>Positive</td>\n",
       "    </tr>\n",
       "    <tr>\n",
       "      <th>99320</th>\n",
       "      <td>Positive</td>\n",
       "      <td>Positive</td>\n",
       "    </tr>\n",
       "    <tr>\n",
       "      <th>80129</th>\n",
       "      <td>Positive</td>\n",
       "      <td>Positive</td>\n",
       "    </tr>\n",
       "    <tr>\n",
       "      <th>77694</th>\n",
       "      <td>Positive</td>\n",
       "      <td>Positive</td>\n",
       "    </tr>\n",
       "    <tr>\n",
       "      <th>29674</th>\n",
       "      <td>Positive</td>\n",
       "      <td>Positive</td>\n",
       "    </tr>\n",
       "  </tbody>\n",
       "</table>\n",
       "<p>20000 rows × 2 columns</p>\n",
       "</div>"
      ],
      "text/plain": [
       "         actual predicted\n",
       "72031   Neutral   Neutral\n",
       "27978  Positive  Positive\n",
       "55639  Positive  Positive\n",
       "51955  Positive  Positive\n",
       "52145  Positive  Positive\n",
       "...         ...       ...\n",
       "21709  Positive  Positive\n",
       "99320  Positive  Positive\n",
       "80129  Positive  Positive\n",
       "77694  Positive  Positive\n",
       "29674  Positive  Positive\n",
       "\n",
       "[20000 rows x 2 columns]"
      ]
     },
     "execution_count": 205,
     "metadata": {},
     "output_type": "execute_result"
    }
   ],
   "source": [
    "compare4 = pd.DataFrame()\n",
    "compare4['actual'] = test_df['review_sentiment']\n",
    "compare4['predicted'] = y_pred3\n",
    "compare4"
   ]
  },
  {
   "cell_type": "code",
   "execution_count": 206,
   "id": "a791b607",
   "metadata": {},
   "outputs": [],
   "source": [
    "y_test = test_df['review_sentiment']\n",
    "y_pred = y_pred3"
   ]
  },
  {
   "cell_type": "code",
   "execution_count": 207,
   "id": "4f98ae5d",
   "metadata": {},
   "outputs": [
    {
     "name": "stdout",
     "output_type": "stream",
     "text": [
      "              precision    recall  f1-score   support\n",
      "\n",
      "    Negative       0.45      0.37      0.40      1201\n",
      "     Neutral       0.80      0.71      0.76      1773\n",
      "    Positive       0.94      0.96      0.95     17026\n",
      "\n",
      "    accuracy                           0.91     20000\n",
      "   macro avg       0.73      0.68      0.70     20000\n",
      "weighted avg       0.90      0.91      0.90     20000\n",
      "\n"
     ]
    }
   ],
   "source": [
    "print(classification_report(y_test, y_pred))"
   ]
  },
  {
   "cell_type": "code",
   "execution_count": 208,
   "id": "e88b2096",
   "metadata": {},
   "outputs": [
    {
     "name": "stdout",
     "output_type": "stream",
     "text": [
      "Accuracy  : 0.91\n",
      "Recall    : 0.91\n",
      "F1-score  : 0.9\n",
      "Precision : 0.9\n"
     ]
    }
   ],
   "source": [
    "accuracy4= accuracy_score(y_test,y_pred3)\n",
    "recall4 = recall_score(y_test,y_pred3, average = 'weighted')\n",
    "f1score4  = f1_score(y_test,y_pred3, average = 'weighted')\n",
    "precision4= precision_score(y_test,y_pred3, average = 'weighted')\n",
    "\n",
    "\n",
    "print('Accuracy  :', round(accuracy4,2))\n",
    "print('Recall    :', round(recall4,2))\n",
    "print('F1-score  :', round(f1score4,2))\n",
    "print('Precision :', round(precision4,2))"
   ]
  },
  {
   "cell_type": "code",
   "execution_count": 209,
   "id": "e9ebf904",
   "metadata": {},
   "outputs": [
    {
     "data": {
      "image/png": "[encoded data removed]",
      "text/plain": [
       "<Figure size 432x288 with 2 Axes>"
      ]
     },
     "metadata": {
      "needs_background": "light"
     },
     "output_type": "display_data"
    }
   ],
   "source": [
    "confusion_matrix4 = confusion_matrix(y_test, y_pred)\n",
    "cm_display4 = metrics.ConfusionMatrixDisplay(confusion_matrix = confusion_matrix4, display_labels = ['Negative', 'neutral','positive'])\n",
    "\n",
    "cm_display4.plot()\n",
    "plt.show()"
   ]
  },
  {
   "cell_type": "code",
   "execution_count": 210,
   "id": "e1766707",
   "metadata": {},
   "outputs": [],
   "source": [
    "from sklearn.ensemble import RandomForestClassifier\n",
    "clf1=RandomForestClassifier(n_jobs=-1)\n",
    "clf1.fit(train_vectors, train_df['review_sentiment'])\n",
    "y_pred5 = clf1.predict(test_vectors) "
   ]
  },
  {
   "cell_type": "code",
   "execution_count": 211,
   "id": "e806c9a9",
   "metadata": {},
   "outputs": [],
   "source": [
    "y_test = test_df['review_sentiment']"
   ]
  },
  {
   "cell_type": "code",
   "execution_count": 212,
   "id": "7d517609",
   "metadata": {
    "scrolled": true
   },
   "outputs": [
    {
     "data": {
      "text/html": [
       "<div>\n",
       "<style scoped>\n",
       "    .dataframe tbody tr th:only-of-type {\n",
       "        vertical-align: middle;\n",
       "    }\n",
       "\n",
       "    .dataframe tbody tr th {\n",
       "        vertical-align: top;\n",
       "    }\n",
       "\n",
       "    .dataframe thead th {\n",
       "        text-align: right;\n",
       "    }\n",
       "</style>\n",
       "<table border=\"1\" class=\"dataframe\">\n",
       "  <thead>\n",
       "    <tr style=\"text-align: right;\">\n",
       "      <th></th>\n",
       "      <th>actual</th>\n",
       "      <th>predicted</th>\n",
       "    </tr>\n",
       "  </thead>\n",
       "  <tbody>\n",
       "    <tr>\n",
       "      <th>72031</th>\n",
       "      <td>Neutral</td>\n",
       "      <td>Neutral</td>\n",
       "    </tr>\n",
       "    <tr>\n",
       "      <th>27978</th>\n",
       "      <td>Positive</td>\n",
       "      <td>Positive</td>\n",
       "    </tr>\n",
       "    <tr>\n",
       "      <th>55639</th>\n",
       "      <td>Positive</td>\n",
       "      <td>Positive</td>\n",
       "    </tr>\n",
       "    <tr>\n",
       "      <th>51955</th>\n",
       "      <td>Positive</td>\n",
       "      <td>Positive</td>\n",
       "    </tr>\n",
       "    <tr>\n",
       "      <th>52145</th>\n",
       "      <td>Positive</td>\n",
       "      <td>Positive</td>\n",
       "    </tr>\n",
       "    <tr>\n",
       "      <th>...</th>\n",
       "      <td>...</td>\n",
       "      <td>...</td>\n",
       "    </tr>\n",
       "    <tr>\n",
       "      <th>21709</th>\n",
       "      <td>Positive</td>\n",
       "      <td>Positive</td>\n",
       "    </tr>\n",
       "    <tr>\n",
       "      <th>99320</th>\n",
       "      <td>Positive</td>\n",
       "      <td>Positive</td>\n",
       "    </tr>\n",
       "    <tr>\n",
       "      <th>80129</th>\n",
       "      <td>Positive</td>\n",
       "      <td>Positive</td>\n",
       "    </tr>\n",
       "    <tr>\n",
       "      <th>77694</th>\n",
       "      <td>Positive</td>\n",
       "      <td>Positive</td>\n",
       "    </tr>\n",
       "    <tr>\n",
       "      <th>29674</th>\n",
       "      <td>Positive</td>\n",
       "      <td>Positive</td>\n",
       "    </tr>\n",
       "  </tbody>\n",
       "</table>\n",
       "<p>20000 rows × 2 columns</p>\n",
       "</div>"
      ],
      "text/plain": [
       "         actual predicted\n",
       "72031   Neutral   Neutral\n",
       "27978  Positive  Positive\n",
       "55639  Positive  Positive\n",
       "51955  Positive  Positive\n",
       "52145  Positive  Positive\n",
       "...         ...       ...\n",
       "21709  Positive  Positive\n",
       "99320  Positive  Positive\n",
       "80129  Positive  Positive\n",
       "77694  Positive  Positive\n",
       "29674  Positive  Positive\n",
       "\n",
       "[20000 rows x 2 columns]"
      ]
     },
     "execution_count": 212,
     "metadata": {},
     "output_type": "execute_result"
    }
   ],
   "source": [
    "compare = pd.DataFrame()\n",
    "compare['actual'] = test_df['review_sentiment']\n",
    "compare['predicted'] = y_pred5\n",
    "compare"
   ]
  },
  {
   "cell_type": "code",
   "execution_count": 213,
   "id": "8b272cea",
   "metadata": {},
   "outputs": [
    {
     "name": "stdout",
     "output_type": "stream",
     "text": [
      "              precision    recall  f1-score   support\n",
      "\n",
      "    Negative       0.45      0.38      0.41      1201\n",
      "     Neutral       0.81      0.72      0.76      1773\n",
      "    Positive       0.94      0.96      0.95     17026\n",
      "\n",
      "    accuracy                           0.91     20000\n",
      "   macro avg       0.73      0.69      0.71     20000\n",
      "weighted avg       0.90      0.91      0.90     20000\n",
      "\n"
     ]
    }
   ],
   "source": [
    "print(classification_report(y_test, y_pred5))"
   ]
  },
  {
   "cell_type": "code",
   "execution_count": 214,
   "id": "bf48d128",
   "metadata": {},
   "outputs": [
    {
     "name": "stdout",
     "output_type": "stream",
     "text": [
      "Accuracy  : 0.91\n",
      "Recall    : 0.91\n",
      "F1-score  : 0.9\n",
      "Precision : 0.9\n"
     ]
    }
   ],
   "source": [
    "accuracy5= accuracy_score(y_test,y_pred5)\n",
    "recall5 = recall_score(y_test,y_pred5, average = 'weighted')\n",
    "f1score5  = f1_score(y_test,y_pred5, average = 'weighted')\n",
    "precision5= precision_score(y_test,y_pred5, average = 'weighted')\n",
    "\n",
    "\n",
    "print('Accuracy  :', round(accuracy5,2))\n",
    "print('Recall    :', round(recall5,2))\n",
    "print('F1-score  :', round(f1score5,2))\n",
    "print('Precision :', round(precision5,2))"
   ]
  },
  {
   "cell_type": "code",
   "execution_count": 215,
   "id": "ff70cc3b",
   "metadata": {},
   "outputs": [
    {
     "data": {
      "image/png": "[encoded data removed]",
      "text/plain": [
       "<Figure size 432x288 with 2 Axes>"
      ]
     },
     "metadata": {
      "needs_background": "light"
     },
     "output_type": "display_data"
    }
   ],
   "source": [
    "confusion_matrix5 = confusion_matrix(y_test, y_pred5)\n",
    "cm_display5 = metrics.ConfusionMatrixDisplay(confusion_matrix = confusion_matrix5, display_labels = ['Negative', 'neutral','positive'])\n",
    "\n",
    "cm_display5.plot()\n",
    "plt.show()"
   ]
  },
  {
   "cell_type": "code",
   "execution_count": 216,
   "id": "91a63132",
   "metadata": {},
   "outputs": [],
   "source": [
    "final_data=pd.DataFrame({'Models':['Logistic Regression with OVR classifier','DecisionTreeClassifier','RandomForestClassifier'],\n",
    "                        'F1-Score':[f1score1,f1score4,f1score5],\n",
    "                         'Recall_score':[recall1, recall4,recall5],\n",
    "                        'Precison_score':[precision1,precision4,precision5],\n",
    "                        'Accuracy_score':[accuracy1,accuracy4,accuracy5]})"
   ]
  },
  {
   "cell_type": "code",
   "execution_count": 217,
   "id": "a418cf5d",
   "metadata": {},
   "outputs": [
    {
     "data": {
      "text/html": [
       "<div>\n",
       "<style scoped>\n",
       "    .dataframe tbody tr th:only-of-type {\n",
       "        vertical-align: middle;\n",
       "    }\n",
       "\n",
       "    .dataframe tbody tr th {\n",
       "        vertical-align: top;\n",
       "    }\n",
       "\n",
       "    .dataframe thead th {\n",
       "        text-align: right;\n",
       "    }\n",
       "</style>\n",
       "<table border=\"1\" class=\"dataframe\">\n",
       "  <thead>\n",
       "    <tr style=\"text-align: right;\">\n",
       "      <th></th>\n",
       "      <th>Models</th>\n",
       "      <th>F1-Score</th>\n",
       "      <th>Recall_score</th>\n",
       "      <th>Precison_score</th>\n",
       "      <th>Accuracy_score</th>\n",
       "    </tr>\n",
       "  </thead>\n",
       "  <tbody>\n",
       "    <tr>\n",
       "      <th>0</th>\n",
       "      <td>Logistic Regression with OVR classifier</td>\n",
       "      <td>0.9</td>\n",
       "      <td>0.91</td>\n",
       "      <td>0.9</td>\n",
       "      <td>0.91</td>\n",
       "    </tr>\n",
       "    <tr>\n",
       "      <th>1</th>\n",
       "      <td>DecisionTreeClassifier</td>\n",
       "      <td>0.9</td>\n",
       "      <td>0.91</td>\n",
       "      <td>0.9</td>\n",
       "      <td>0.91</td>\n",
       "    </tr>\n",
       "    <tr>\n",
       "      <th>2</th>\n",
       "      <td>RandomForestClassifier</td>\n",
       "      <td>0.9</td>\n",
       "      <td>0.91</td>\n",
       "      <td>0.9</td>\n",
       "      <td>0.91</td>\n",
       "    </tr>\n",
       "  </tbody>\n",
       "</table>\n",
       "</div>"
      ],
      "text/plain": [
       "                                    Models  F1-Score  Recall_score  \\\n",
       "0  Logistic Regression with OVR classifier       0.9          0.91   \n",
       "1                   DecisionTreeClassifier       0.9          0.91   \n",
       "2                   RandomForestClassifier       0.9          0.91   \n",
       "\n",
       "   Precison_score  Accuracy_score  \n",
       "0             0.9            0.91  \n",
       "1             0.9            0.91  \n",
       "2             0.9            0.91  "
      ]
     },
     "execution_count": 217,
     "metadata": {},
     "output_type": "execute_result"
    }
   ],
   "source": [
    "final_data.round(2)"
   ]
  },
  {
   "cell_type": "markdown",
   "id": "d2dc52f4",
   "metadata": {},
   "source": [
    "# ----------------------------------------------------------------------------------------------"
   ]
  },
  {
   "cell_type": "code",
   "execution_count": 218,
   "id": "42e83f68",
   "metadata": {},
   "outputs": [
    {
     "name": "stdout",
     "output_type": "stream",
     "text": [
      "Train index Int64Index([  641, 87818, 89746, 34892, 26218, 42886,  9334, 20803, 16223,\n",
      "            21151,\n",
      "            ...\n",
      "            20109, 81844, 65814, 61872, 77644, 75011, 36482, 40177, 19709,\n",
      "            79691],\n",
      "           dtype='int64', length=80000)\n",
      "Test index Int64Index([23441, 90125, 57892,  7228, 99545, 49969, 15175, 63601, 57812,\n",
      "             2461,\n",
      "            ...\n",
      "            79641, 75464, 43279, 40305, 20052, 95531, 14348, 35701, 95879,\n",
      "            12911],\n",
      "           dtype='int64', length=20000)\n"
     ]
    }
   ],
   "source": [
    "x_train, x_test, y_train, y_test = train_test_split(data['reviewText'],data['review_sentiment'], test_size=0.20, random_state=12)\n",
    "\n",
    "\n",
    "print('Train index',x_train.index)\n",
    "print('Test index',x_test.index)"
   ]
  },
  {
   "cell_type": "code",
   "execution_count": 219,
   "id": "8a82a12c",
   "metadata": {},
   "outputs": [],
   "source": [
    "tfidf_vectorizer = TfidfVectorizer()\n",
    "x_train_vector = tfidf_vectorizer.fit_transform(x_train)\n",
    "x_test_vector = tfidf_vectorizer.transform(x_test)"
   ]
  },
  {
   "cell_type": "code",
   "execution_count": 237,
   "id": "559cf79b",
   "metadata": {},
   "outputs": [],
   "source": [
    "lr1 = LogisticRegression(max_iter = 200, verbose = 1)\n",
    "ovr = OneVsRestClassifier(lr1)"
   ]
  },
  {
   "cell_type": "code",
   "execution_count": 239,
   "id": "740f6795",
   "metadata": {},
   "outputs": [
    {
     "name": "stderr",
     "output_type": "stream",
     "text": [
      "[Parallel(n_jobs=1)]: Using backend SequentialBackend with 1 concurrent workers.\n",
      "C:\\Users\\Apoorva Mishra\\anaconda3\\lib\\site-packages\\sklearn\\linear_model\\_logistic.py:814: ConvergenceWarning: lbfgs failed to converge (status=1):\n",
      "STOP: TOTAL NO. of ITERATIONS REACHED LIMIT.\n",
      "\n",
      "Increase the number of iterations (max_iter) or scale the data as shown in:\n",
      "    https://scikit-learn.org/stable/modules/preprocessing.html\n",
      "Please also refer to the documentation for alternative solver options:\n",
      "    https://scikit-learn.org/stable/modules/linear_model.html#logistic-regression\n",
      "  n_iter_i = _check_optimize_result(\n",
      "[Parallel(n_jobs=1)]: Done   1 out of   1 | elapsed:   12.0s finished\n"
     ]
    }
   ],
   "source": [
    "# fit the model on the training data\n",
    "lr1.fit(x_train_vector, y_train)\n",
    "y_pred = lr1.predict(x_test_vector)"
   ]
  },
  {
   "cell_type": "code",
   "execution_count": 240,
   "id": "58204a47",
   "metadata": {},
   "outputs": [
    {
     "data": {
      "text/html": [
       "<div>\n",
       "<style scoped>\n",
       "    .dataframe tbody tr th:only-of-type {\n",
       "        vertical-align: middle;\n",
       "    }\n",
       "\n",
       "    .dataframe tbody tr th {\n",
       "        vertical-align: top;\n",
       "    }\n",
       "\n",
       "    .dataframe thead th {\n",
       "        text-align: right;\n",
       "    }\n",
       "</style>\n",
       "<table border=\"1\" class=\"dataframe\">\n",
       "  <thead>\n",
       "    <tr style=\"text-align: right;\">\n",
       "      <th></th>\n",
       "      <th>actual</th>\n",
       "      <th>predicted</th>\n",
       "    </tr>\n",
       "  </thead>\n",
       "  <tbody>\n",
       "    <tr>\n",
       "      <th>23441</th>\n",
       "      <td>Positive</td>\n",
       "      <td>Positive</td>\n",
       "    </tr>\n",
       "    <tr>\n",
       "      <th>90125</th>\n",
       "      <td>Negative</td>\n",
       "      <td>Neutral</td>\n",
       "    </tr>\n",
       "    <tr>\n",
       "      <th>57892</th>\n",
       "      <td>Positive</td>\n",
       "      <td>Positive</td>\n",
       "    </tr>\n",
       "    <tr>\n",
       "      <th>7228</th>\n",
       "      <td>Positive</td>\n",
       "      <td>Positive</td>\n",
       "    </tr>\n",
       "    <tr>\n",
       "      <th>99545</th>\n",
       "      <td>Positive</td>\n",
       "      <td>Positive</td>\n",
       "    </tr>\n",
       "    <tr>\n",
       "      <th>...</th>\n",
       "      <td>...</td>\n",
       "      <td>...</td>\n",
       "    </tr>\n",
       "    <tr>\n",
       "      <th>95531</th>\n",
       "      <td>Negative</td>\n",
       "      <td>Positive</td>\n",
       "    </tr>\n",
       "    <tr>\n",
       "      <th>14348</th>\n",
       "      <td>Positive</td>\n",
       "      <td>Positive</td>\n",
       "    </tr>\n",
       "    <tr>\n",
       "      <th>35701</th>\n",
       "      <td>Positive</td>\n",
       "      <td>Positive</td>\n",
       "    </tr>\n",
       "    <tr>\n",
       "      <th>95879</th>\n",
       "      <td>Positive</td>\n",
       "      <td>Positive</td>\n",
       "    </tr>\n",
       "    <tr>\n",
       "      <th>12911</th>\n",
       "      <td>Positive</td>\n",
       "      <td>Positive</td>\n",
       "    </tr>\n",
       "  </tbody>\n",
       "</table>\n",
       "<p>20000 rows × 2 columns</p>\n",
       "</div>"
      ],
      "text/plain": [
       "         actual predicted\n",
       "23441  Positive  Positive\n",
       "90125  Negative   Neutral\n",
       "57892  Positive  Positive\n",
       "7228   Positive  Positive\n",
       "99545  Positive  Positive\n",
       "...         ...       ...\n",
       "95531  Negative  Positive\n",
       "14348  Positive  Positive\n",
       "35701  Positive  Positive\n",
       "95879  Positive  Positive\n",
       "12911  Positive  Positive\n",
       "\n",
       "[20000 rows x 2 columns]"
      ]
     },
     "execution_count": 240,
     "metadata": {},
     "output_type": "execute_result"
    }
   ],
   "source": [
    "compare = pd.DataFrame()\n",
    "compare['actual'] = y_test\n",
    "compare['predicted'] = y_pred\n",
    "compare"
   ]
  },
  {
   "cell_type": "code",
   "execution_count": 241,
   "id": "4ea5ce90",
   "metadata": {},
   "outputs": [
    {
     "name": "stdout",
     "output_type": "stream",
     "text": [
      "              precision    recall  f1-score   support\n",
      "\n",
      "    Negative       0.74      0.26      0.39      1147\n",
      "     Neutral       0.89      0.76      0.82      1775\n",
      "    Positive       0.93      0.99      0.96     17078\n",
      "\n",
      "    accuracy                           0.93     20000\n",
      "   macro avg       0.86      0.67      0.72     20000\n",
      "weighted avg       0.92      0.93      0.92     20000\n",
      "\n"
     ]
    }
   ],
   "source": [
    "print(classification_report(y_test, y_pred))"
   ]
  },
  {
   "cell_type": "code",
   "execution_count": 242,
   "id": "23187301",
   "metadata": {},
   "outputs": [
    {
     "name": "stdout",
     "output_type": "stream",
     "text": [
      "Accuracy  : 0.93\n",
      "Recall    : 0.93\n",
      "F1-score  : 0.92\n",
      "Precision : 0.92\n"
     ]
    }
   ],
   "source": [
    "accuracy1 = accuracy_score(y_test,y_pred)\n",
    "recall1   = recall_score(y_test,y_pred, average = 'weighted')\n",
    "f1score1  = f1_score(y_test,y_pred, average = 'weighted')\n",
    "precision1= precision_score(y_test,y_pred, average = 'weighted')\n",
    "\n",
    "\n",
    "print('Accuracy  :', round(accuracy1,2))\n",
    "print('Recall    :', round(recall1,2))\n",
    "print('F1-score  :', round(f1score1,2))\n",
    "print('Precision :', round(precision1,2))"
   ]
  },
  {
   "cell_type": "code",
   "execution_count": 243,
   "id": "5cf5b730",
   "metadata": {
    "scrolled": true
   },
   "outputs": [
    {
     "data": {
      "image/png": "[encoded data removed]",
      "text/plain": [
       "<Figure size 432x288 with 2 Axes>"
      ]
     },
     "metadata": {
      "needs_background": "light"
     },
     "output_type": "display_data"
    }
   ],
   "source": [
    "from sklearn.metrics import confusion_matrix\n",
    "confusion_matrix1 = confusion_matrix(y_test, y_pred)\n",
    "cm_display = metrics.ConfusionMatrixDisplay(confusion_matrix = confusion_matrix1, display_labels = ['Negative', 'neutral','positive'])\n",
    "\n",
    "cm_display.plot()\n",
    "plt.show()"
   ]
  },
  {
   "cell_type": "code",
   "execution_count": null,
   "id": "a5171144",
   "metadata": {},
   "outputs": [],
   "source": []
  },
  {
   "cell_type": "markdown",
   "id": "a50d2d25",
   "metadata": {},
   "source": [
    "# Testing the model "
   ]
  },
  {
   "cell_type": "code",
   "execution_count": 227,
   "id": "b4f5b945",
   "metadata": {},
   "outputs": [],
   "source": [
    "import numpy as np"
   ]
  },
  {
   "cell_type": "code",
   "execution_count": 245,
   "id": "97d0bed7",
   "metadata": {},
   "outputs": [
    {
     "name": "stdout",
     "output_type": "stream",
     "text": [
      "['Negative']\n"
     ]
    }
   ],
   "source": [
    "demo_review = np.array(['Poor quality. Faulty device.'])\n",
    "\n",
    "vector = [model.get_sentence_vector(review) for review in demo_review]\n",
    "print(clf1.predict(vector))"
   ]
  },
  {
   "cell_type": "code",
   "execution_count": 257,
   "id": "0fc19198",
   "metadata": {},
   "outputs": [
    {
     "name": "stdout",
     "output_type": "stream",
     "text": [
      "['Neutral']\n"
     ]
    }
   ],
   "source": [
    "demo_review2 = np.array(['books for office'])\n",
    "\n",
    "vector2 = [model.get_sentence_vector(review) for review in demo_review2]\n",
    "print(lr.predict(vector2))"
   ]
  },
  {
   "cell_type": "code",
   "execution_count": 263,
   "id": "bf88c798",
   "metadata": {},
   "outputs": [
    {
     "name": "stdout",
     "output_type": "stream",
     "text": [
      "['Positive']\n"
     ]
    }
   ],
   "source": [
    "demo_review3 = np.array(['Happy with the product'])\n",
    "\n",
    "vector3 = [model.get_sentence_vector(review) for review in demo_review3]\n",
    "print(lr.predict(vector3))"
   ]
  },
  {
   "cell_type": "code",
   "execution_count": null,
   "id": "42db9186",
   "metadata": {},
   "outputs": [],
   "source": []
  }
 ],
 "metadata": {
  "kernelspec": {
   "display_name": "Python 3 (ipykernel)",
   "language": "python",
   "name": "python3"
  },
  "language_info": {
   "codemirror_mode": {
    "name": "ipython",
    "version": 3
   },
   "file_extension": ".py",
   "mimetype": "text/x-python",
   "name": "python",
   "nbconvert_exporter": "python",
   "pygments_lexer": "ipython3",
   "version": "3.9.12"
  }
 },
 "nbformat": 4,
 "nbformat_minor": 5
}
